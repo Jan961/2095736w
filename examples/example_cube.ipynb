{
 "cells": [
  {
   "cell_type": "code",
   "execution_count": null,
   "metadata": {
    "collapsed": true
   },
   "outputs": [],
   "source": [
    "import numpy as np\n",
    "from Cube import Cube\n",
    "from hdimvis.algorithms.spring_force_algos.chalmers96_algo.Chalmers96 import Chalmers96\n",
    "from hdimvis.create_low_d_layout.LayoutCreation import LayoutCreation\n",
    "from hdimvis.algorithms.stochastic_ntet_algo.SNeD import SNeD\n",
    "from sklearn.decomposition import PCA\n",
    "from hdimvis.visualise_layouts_and_metrics.plot import show_generation_metrics\n",
    "from  sklearn.manifold import SpectralEmbedding, MDS\n",
    "from hdimvis.algorithms.spring_force_algos.hybrid_algo.Hybrid import Hybrid\n",
    "from experiments.utils.LayoutHistogram import LayoutHistogram\n",
    "from experiments.utils.layout_shannon_entropy import calculate_entropy\n",
    "from hdimvis.metrics.stress.stress import vectorised_stress\n",
    "from hdimvis.metrics.distance_measures.euclidian_and_manhattan import euclidean,manhattan\n",
    "from pathlib import Path"
   ]
  },
  {
   "cell_type": "code",
   "execution_count": null,
   "outputs": [],
   "source": [
    "# **Cube Parameters**\n",
    "# side : int, optional\n",
    "#     length of the side of the cube\n",
    "#\n",
    "# angle : float, optional\n",
    "#     angle between the bottom side of the cube and the x-y plane,\n",
    "#     the angle is multiplied by pi so that angle=1/3 will\n",
    "#     mean that the angle pi/3 will be used when generation the cube\n",
    "#\n",
    "# num_points: int, optional\n",
    "#     number of points per side\n",
    "#\n",
    "# distance_axes: int, optional\n",
    "#     distance from the axes, e.g. distance 1 will mean that cube will be translated\n",
    "#     by the vector (1,1,1) from the position at the origin and then rotated by the *angle*\n",
    "\n",
    "\n",
    "cube = Cube(num_points=100, side=30, angle=0.4)\n",
    "dataset= cube.get_sample_dataset(3000)"
   ],
   "metadata": {
    "collapsed": false
   }
  },
  {
   "cell_type": "code",
   "execution_count": null,
   "outputs": [],
   "source": [
    "cube.plot_3d(title=\"Cube dataset\", axes_labels_off=True, size_inches=10)"
   ],
   "metadata": {
    "collapsed": false
   }
  },
  {
   "cell_type": "code",
   "execution_count": null,
   "outputs": [],
   "source": [
    "embedding_PCA = PCA(n_components=2, whiten=False, copy=True).fit_transform(dataset.data).astype(np.float64)\n",
    "embedding_PCA *= 10/np.std(embedding_PCA)\n",
    "cube.plot_2d(layout_points=embedding_PCA, hd_points=dataset.data, title=f\"PCA\")"
   ],
   "metadata": {
    "collapsed": false
   }
  },
  {
   "cell_type": "code",
   "execution_count": null,
   "outputs": [],
   "source": [
    "embedding_MDS = MDS(n_components=2).fit_transform(dataset.data).astype(np.float64)\n",
    "cube.plot_2d(layout_points=embedding_MDS, hd_points=dataset.data, title=f\"scikit-learn's MDS\")"
   ],
   "metadata": {
    "collapsed": false
   }
  },
  {
   "cell_type": "code",
   "execution_count": null,
   "outputs": [],
   "source": [
    "\n",
    "\n",
    "\n",
    "\n",
    "algo96 = Chalmers96(dataset=dataset, initial_layout=None,  distance_fn=euclidean,\n",
    "                    damping_constant=0, spring_constant=0.07, sample_set_size=10, neighbour_set_size=5)\n",
    "\n",
    "\n",
    "layout_96 = LayoutCreation.create_layout(algo96, optional_metric_collection=None, no_iters=100)\n",
    "cube.plot_2d(layout=layout_96)"
   ],
   "metadata": {
    "collapsed": false
   }
  }
 ],
 "metadata": {
  "kernelspec": {
   "display_name": "Python 3",
   "language": "python",
   "name": "python3"
  },
  "language_info": {
   "codemirror_mode": {
    "name": "ipython",
    "version": 2
   },
   "file_extension": ".py",
   "mimetype": "text/x-python",
   "name": "python",
   "nbconvert_exporter": "python",
   "pygments_lexer": "ipython2",
   "version": "2.7.6"
  }
 },
 "nbformat": 4,
 "nbformat_minor": 0
}
