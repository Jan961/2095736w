{
 "cells": [
  {
   "cell_type": "code",
   "execution_count": 4,
   "metadata": {},
   "outputs": [],
   "source": [
    "import numpy as np\n",
    "\n"
   ]
  },
  {
   "cell_type": "code",
   "execution_count": null,
   "metadata": {},
   "outputs": [],
   "source": [
    "experiment.run()\n",
    "path = experiment.create_output_directory()\n",
    "experiment.save(path)\n",
    "print(path)"
   ]
  },
  {
   "cell_type": "code",
   "execution_count": 3,
   "metadata": {},
   "outputs": [
    {
     "name": "stdout",
     "output_type": "stream",
     "text": [
      "True\n"
     ]
    }
   ],
   "source": [
    "from hdimvis.algorithms.spring_force_algos.SpringForceBase import SpringForceBase\n",
    "print(isinstance(algo1, SpringForceBase))"
   ]
  },
  {
   "cell_type": "code",
   "execution_count": 9,
   "outputs": [
    {
     "name": "stdout",
     "output_type": "stream",
     "text": [
      "0\n",
      "  (0, 0)\t3\n",
      "  (0, 2)\t1\n",
      "[0 2]\n",
      "1\n",
      "  (0, 1)\t2\n",
      "[1]\n",
      "2\n",
      "\n",
      "[]\n",
      "3\n",
      "  (0, 3)\t1\n",
      "[3]\n"
     ]
    }
   ],
   "source": [
    "from numpy import array\n",
    "from scipy.sparse import coo_matrix\n",
    "row  = array([0, 0, 1, 3, 1, 0, 0])\n",
    "col  = array([0, 2, 1, 3, 1, 0, 0])\n",
    "data = array([1, 1, 1, 1, 1, 1, 1])\n",
    "A = coo_matrix((data, (row, col)), shape=(4, 4))\n",
    "B = A.tocsr()\n",
    "# print(B)\n",
    "\n",
    "for i, row in enumerate(B):\n",
    "    print(i)\n",
    "    print(row)\n",
    "    print(row.indices)\n"
   ],
   "metadata": {
    "collapsed": false
   }
  },
  {
   "cell_type": "code",
   "execution_count": 6,
   "outputs": [
    {
     "name": "stdout",
     "output_type": "stream",
     "text": [
      "[]\n"
     ]
    }
   ],
   "source": [
    "print(np.zeros((0,2)))"
   ],
   "metadata": {
    "collapsed": false
   }
  }
 ],
 "metadata": {
  "kernelspec": {
   "display_name": "Python 3 (ipykernel)",
   "language": "python",
   "name": "python3"
  },
  "language_info": {
   "codemirror_mode": {
    "name": "ipython",
    "version": 3
   },
   "file_extension": ".py",
   "mimetype": "text/x-python",
   "name": "python",
   "nbconvert_exporter": "python",
   "pygments_lexer": "ipython3",
   "version": "3.11.0"
  }
 },
 "nbformat": 4,
 "nbformat_minor": 1
}
