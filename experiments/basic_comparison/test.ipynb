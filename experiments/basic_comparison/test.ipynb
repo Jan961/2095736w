{
 "cells": [
  {
   "cell_type": "code",
   "execution_count": 1,
   "metadata": {},
   "outputs": [],
   "source": [
    "from BasicComparison import BasicComparison\n",
    "from hdimvis.algorithms.spring_force_algos.chalmers96_algo.Chalmers96 import Chalmers96\n",
    "\n",
    "\n",
    "algo1 = Chalmers96(None, neighbour_set_size=1, sample_set_size=0, use_knnd=True)\n",
    "algo2 = Chalmers96(None, neighbour_set_size=1, sample_set_size=0, use_knnd=False)\n",
    "\n",
    "datasets = ['mock data']\n",
    "    # , 'rna N3k', 'airfoil']\n",
    "\n",
    "algos = {algo2: 'no knnd'}\n",
    "metric_collection = { \"Average Speed\": 3}\n",
    "\n",
    "experiment = BasicComparison(algos, experiment_name='test experiment', metric_collection=metric_collection,\n",
    "                             dataset_names=datasets, num_repeats=1, iterations=1)\n",
    "\n"
   ]
  },
  {
   "cell_type": "code",
   "execution_count": 2,
   "metadata": {},
   "outputs": [
    {
     "name": "stdout",
     "output_type": "stream",
     "text": [
      "####################\n",
      "Fetching the \"mock data\" dataset\n",
      "####################\n",
      "Dataset loaded\n",
      "Dataset shape: (4, 4)\n",
      "The algorithm will use a random initialization for the low D embedding/layout\n",
      "####################\n",
      "A 2D layout of the \"mock data\" dataset will be created \n",
      "using the \"Chalmers' 1996 - no knnd\" algorithm\n",
      "####################\n",
      "inside iteration [Node<[0. 0. 0. 0.]>, Node<[1. 1. 1. 1.]>]\n",
      "4\n"
     ]
    },
    {
     "ename": "UnboundLocalError",
     "evalue": "local variable 'sample_set' referenced before assignment",
     "output_type": "error",
     "traceback": [
      "\u001B[1;31m---------------------------------------------------------------------------\u001B[0m",
      "\u001B[1;31mUnboundLocalError\u001B[0m                         Traceback (most recent call last)",
      "Cell \u001B[1;32mIn[2], line 1\u001B[0m\n\u001B[1;32m----> 1\u001B[0m \u001B[43mexperiment\u001B[49m\u001B[38;5;241;43m.\u001B[39;49m\u001B[43mrun\u001B[49m\u001B[43m(\u001B[49m\u001B[43m)\u001B[49m\n\u001B[0;32m      2\u001B[0m \u001B[38;5;66;03m# path = experiment.create_output_directory()\u001B[39;00m\n\u001B[0;32m      3\u001B[0m \u001B[38;5;66;03m# experiment.save(path)\u001B[39;00m\n\u001B[0;32m      4\u001B[0m \u001B[38;5;66;03m# print(path)\u001B[39;00m\n",
      "File \u001B[1;32m~\\Desktop\\2095736w\\experiments\\basic_comparison\\BasicComparison.py:62\u001B[0m, in \u001B[0;36mBasicComparison.run\u001B[1;34m(self)\u001B[0m\n\u001B[0;32m     59\u001B[0m     filtered_metric_collection \u001B[38;5;241m=\u001B[39m \u001B[38;5;28;01mNone\u001B[39;00m\n\u001B[0;32m     61\u001B[0m \u001B[38;5;28;01mfor\u001B[39;00m j \u001B[38;5;129;01min\u001B[39;00m \u001B[38;5;28mrange\u001B[39m(\u001B[38;5;28mself\u001B[39m\u001B[38;5;241m.\u001B[39mnum_repeats):\n\u001B[1;32m---> 62\u001B[0m     basic_metrics, layout \u001B[38;5;241m=\u001B[39m \u001B[38;5;28;43mself\u001B[39;49m\u001B[38;5;241;43m.\u001B[39;49m\u001B[43mone_experiment\u001B[49m\u001B[43m(\u001B[49m\u001B[43mdataset\u001B[49m\u001B[43m,\u001B[49m\u001B[43m \u001B[49m\u001B[43malgorithm\u001B[49m\u001B[43m,\u001B[49m\n\u001B[0;32m     63\u001B[0m \u001B[43m                                                                     \u001B[49m\u001B[43mfiltered_metric_collection\u001B[49m\u001B[43m)\u001B[49m\n\u001B[0;32m     64\u001B[0m     bm[j][\u001B[38;5;241m0\u001B[39m] \u001B[38;5;241m=\u001B[39m basic_metrics\u001B[38;5;241m.\u001B[39mget(\u001B[38;5;124m'\u001B[39m\u001B[38;5;124mpeak memory\u001B[39m\u001B[38;5;124m'\u001B[39m, np\u001B[38;5;241m.\u001B[39mNAN)\n\u001B[0;32m     65\u001B[0m     bm[j][\u001B[38;5;241m1\u001B[39m] \u001B[38;5;241m=\u001B[39m basic_metrics\u001B[38;5;241m.\u001B[39mget(\u001B[38;5;124m'\u001B[39m\u001B[38;5;124mtime\u001B[39m\u001B[38;5;124m'\u001B[39m, np\u001B[38;5;241m.\u001B[39mNAN)\n",
      "File \u001B[1;32m~\\Desktop\\2095736w\\experiments\\basic_comparison\\BasicComparison.py:82\u001B[0m, in \u001B[0;36mBasicComparison.one_experiment\u001B[1;34m(self, dataset, algorithm, filtered_metric_collection)\u001B[0m\n\u001B[0;32m     79\u001B[0m \u001B[38;5;28;01melse\u001B[39;00m:\n\u001B[0;32m     80\u001B[0m     t1 \u001B[38;5;241m=\u001B[39m perf_counter()\n\u001B[1;32m---> 82\u001B[0m layout \u001B[38;5;241m=\u001B[39m \u001B[43mLowDLayoutCreation\u001B[49m\u001B[43m(\u001B[49m\u001B[43m)\u001B[49m\u001B[38;5;241;43m.\u001B[39;49m\u001B[43mcreate_layout\u001B[49m\u001B[43m(\u001B[49m\u001B[43malgorithm\u001B[49m\u001B[43m,\u001B[49m\n\u001B[0;32m     83\u001B[0m \u001B[43m                                            \u001B[49m\u001B[43moptional_metric_collection\u001B[49m\u001B[38;5;241;43m=\u001B[39;49m\u001B[43mfiltered_metric_collection\u001B[49m\u001B[43m,\u001B[49m\n\u001B[0;32m     84\u001B[0m \u001B[43m                                            \u001B[49m\u001B[43mno_iters\u001B[49m\u001B[38;5;241;43m=\u001B[39;49m\u001B[38;5;28;43mself\u001B[39;49m\u001B[38;5;241;43m.\u001B[39;49m\u001B[43miterations\u001B[49m\u001B[43m)\u001B[49m\n\u001B[0;32m     86\u001B[0m \u001B[38;5;28;01mif\u001B[39;00m \u001B[38;5;28mself\u001B[39m\u001B[38;5;241m.\u001B[39mrecord_memory:\n\u001B[0;32m     87\u001B[0m     basic_metrics[\u001B[38;5;124m'\u001B[39m\u001B[38;5;124mcurrent memory\u001B[39m\u001B[38;5;124m'\u001B[39m], basic_metrics[\u001B[38;5;124m'\u001B[39m\u001B[38;5;124mpeak memory\u001B[39m\u001B[38;5;124m'\u001B[39m] \u001B[38;5;241m=\u001B[39m tracemalloc\u001B[38;5;241m.\u001B[39mget_tracemalloc_memory()\n",
      "File \u001B[1;32m~\\Desktop\\2095736w\\hdimvis\\create_low_d_layout\\LowDLayoutCreation.py:57\u001B[0m, in \u001B[0;36mLowDLayoutCreation.create_layout\u001B[1;34m(self, algorithm, no_iters, optional_metric_collection, **additional_parameters)\u001B[0m\n\u001B[0;32m     54\u001B[0m \u001B[38;5;28;01mif\u001B[39;00m \u001B[38;5;28misinstance\u001B[39m(layout\u001B[38;5;241m.\u001B[39malgorithm, SpringForceBase):\n\u001B[0;32m     55\u001B[0m     layout\u001B[38;5;241m.\u001B[39malgorithm\u001B[38;5;241m.\u001B[39mbuild_nodes()\n\u001B[1;32m---> 57\u001B[0m layout\u001B[38;5;241m.\u001B[39mrun(\u001B[38;5;241m*\u001B[39m\u001B[38;5;241m*\u001B[39madditional_parameters)\n\u001B[0;32m     58\u001B[0m \u001B[38;5;28;01mreturn\u001B[39;00m layout\n",
      "File \u001B[1;32m~\\Desktop\\2095736w\\hdimvis\\create_low_d_layout\\Chalmers96Layout.py:51\u001B[0m, in \u001B[0;36mChalmers96Layout.run\u001B[1;34m(self, target_node_speed)\u001B[0m\n\u001B[0;32m     49\u001B[0m \u001B[38;5;28;01mif\u001B[39;00m \u001B[38;5;28mself\u001B[39m\u001B[38;5;241m.\u001B[39moptional_metric_collection \u001B[38;5;129;01mis\u001B[39;00m \u001B[38;5;129;01mnot\u001B[39;00m \u001B[38;5;28;01mNone\u001B[39;00m:\n\u001B[0;32m     50\u001B[0m     \u001B[38;5;28mself\u001B[39m\u001B[38;5;241m.\u001B[39mcollect_metrics()\n\u001B[1;32m---> 51\u001B[0m \u001B[38;5;28;43mself\u001B[39;49m\u001B[38;5;241;43m.\u001B[39;49m\u001B[43malgorithm\u001B[49m\u001B[38;5;241;43m.\u001B[39;49m\u001B[43mone_iteration\u001B[49m\u001B[43m(\u001B[49m\u001B[43m)\u001B[49m\n\u001B[0;32m     52\u001B[0m \u001B[38;5;28mself\u001B[39m\u001B[38;5;241m.\u001B[39miteration_number \u001B[38;5;241m+\u001B[39m\u001B[38;5;241m=\u001B[39m \u001B[38;5;241m1\u001B[39m\n\u001B[0;32m     53\u001B[0m \u001B[38;5;28mself\u001B[39m\u001B[38;5;241m.\u001B[39mfinal_positions \u001B[38;5;241m=\u001B[39m \u001B[38;5;28mself\u001B[39m\u001B[38;5;241m.\u001B[39malgorithm\u001B[38;5;241m.\u001B[39mget_positions()\n",
      "File \u001B[1;32m~\\Desktop\\2095736w\\hdimvis\\algorithms\\spring_force_algos\\chalmers96_algo\\Chalmers96.py:49\u001B[0m, in \u001B[0;36mChalmers96.one_iteration\u001B[1;34m(self, alpha)\u001B[0m\n\u001B[0;32m     46\u001B[0m             \u001B[38;5;28mself\u001B[39m\u001B[38;5;241m.\u001B[39m_set_velocity(\u001B[38;5;28mself\u001B[39m\u001B[38;5;241m.\u001B[39mnodes[i], \u001B[38;5;28mself\u001B[39m\u001B[38;5;241m.\u001B[39mnodes[j], alpha, cache_distance\u001B[38;5;241m=\u001B[39m\u001B[38;5;28;01mTrue\u001B[39;00m)\n\u001B[0;32m     48\u001B[0m     \u001B[38;5;28;01mif\u001B[39;00m \u001B[38;5;129;01mnot\u001B[39;00m \u001B[38;5;28mself\u001B[39m\u001B[38;5;241m.\u001B[39muse_knnd \u001B[38;5;129;01mand\u001B[39;00m \u001B[38;5;28mself\u001B[39m\u001B[38;5;241m.\u001B[39mneighbour_set_size \u001B[38;5;129;01mand\u001B[39;00m \u001B[38;5;28mself\u001B[39m\u001B[38;5;241m.\u001B[39mneighbour_set_size:\n\u001B[1;32m---> 49\u001B[0m         \u001B[38;5;28mself\u001B[39m\u001B[38;5;241m.\u001B[39m_update_neighbours(i, samples\u001B[38;5;241m=\u001B[39m\u001B[43msample_set\u001B[49m)\n\u001B[0;32m     50\u001B[0m \u001B[38;5;28mself\u001B[39m\u001B[38;5;241m.\u001B[39m_apply_velocities()\n",
      "\u001B[1;31mUnboundLocalError\u001B[0m: local variable 'sample_set' referenced before assignment"
     ]
    }
   ],
   "source": [
    "experiment.run()\n",
    "path = experiment.create_output_directory()\n",
    "experiment.save(path)\n",
    "print(path)"
   ]
  },
  {
   "cell_type": "code",
   "execution_count": 3,
   "metadata": {},
   "outputs": [
    {
     "name": "stdout",
     "output_type": "stream",
     "text": [
      "True\n"
     ]
    }
   ],
   "source": [
    "from hdimvis.algorithms.spring_force_algos.SpringForceBase import SpringForceBase\n",
    "print(isinstance(algo1, SpringForceBase))"
   ]
  }
 ],
 "metadata": {
  "kernelspec": {
   "display_name": "Python 3 (ipykernel)",
   "language": "python",
   "name": "python3"
  },
  "language_info": {
   "codemirror_mode": {
    "name": "ipython",
    "version": 3
   },
   "file_extension": ".py",
   "mimetype": "text/x-python",
   "name": "python",
   "nbconvert_exporter": "python",
   "pygments_lexer": "ipython3",
   "version": "3.11.0"
  }
 },
 "nbformat": 4,
 "nbformat_minor": 1
}
