{
 "cells": [
  {
   "cell_type": "code",
   "execution_count": 2,
   "metadata": {
    "collapsed": true
   },
   "outputs": [],
   "source": [
    "import numpy as np\n",
    "from experiments.utils.SimpleComparison import SimpleComparison\n",
    "from hdimvis.algorithms.spring_force_algos.chalmers96_algo.Chalmers96 import Chalmers96\n",
    "from hdimvis.visualise_layouts_and_metrics.plot import show_layout,show_generation_metrics\n",
    "from hdimvis.algorithms.stochastic_ntet_algo.SNeD import SNeD\n",
    "from hdimvis.create_low_d_layout.LayoutCreation import LayoutCreation\n",
    "from hdimvis.data_fetchers.DataFetcher import DataFetcher\n",
    "from sklearn.neighbors import KNeighborsClassifier\n",
    "from sklearn.model_selection import KFold\n",
    "from experiments.utils.get_avg_classwise_f1 import get_avg_classwise_f1\n",
    "from sklearn.cluster import KMeans\n",
    "from sklearn.decomposition import PCA\n",
    "from sklearn.metrics import f1_score\n",
    "from pathlib import Path\n",
    "from definitions import PROJECT_ROOT\n",
    "import pickle\n",
    "from scipy import stats\n",
    "\n"
   ]
  },
  {
   "cell_type": "code",
   "execution_count": 3,
   "outputs": [
    {
     "name": "stdout",
     "output_type": "stream",
     "text": [
      "####################\n",
      "Fetching the \"rna N3k\" dataset\n",
      "####################\n",
      "Dataset loaded\n",
      "Dataset shape: (3000, 50)\n",
      "####################\n",
      "####################\n",
      "Fetching the \"coil20\" dataset\n",
      "####################\n",
      "Dataset loaded\n",
      "Dataset shape: (1440, 1024)\n",
      "####################\n",
      "####################\n",
      "Fetching the \"globe\" dataset\n",
      "####################\n",
      "Dataset loaded\n",
      "Dataset shape: (7003, 3)\n",
      "####################\n",
      "####################\n",
      "Fetching the \"fashion mnist\" dataset\n",
      "####################\n",
      "Dataset loaded\n",
      "Dataset shape: (7000, 784)\n",
      "####################\n",
      "####################\n",
      "Fetching the \"mnist\" dataset\n"
     ]
    },
    {
     "name": "stderr",
     "output_type": "stream",
     "text": [
      "C:\\Users\\Owner\\.virtualenvs\\2095736w-0SnFieZ0\\lib\\site-packages\\sklearn\\datasets\\_openml.py:932: FutureWarning: The default value of `parser` will change from `'liac-arff'` to `'auto'` in 1.4. You can set `parser='auto'` to silence this warning. Therefore, an `ImportError` will be raised from 1.4 if the dataset is dense and pandas is not installed. Note that the pandas parser may return different data types. See the Notes Section in fetch_openml's API doc for details.\n",
      "  warn(\n"
     ]
    },
    {
     "name": "stdout",
     "output_type": "stream",
     "text": [
      "####################\n",
      "Dataset loaded\n",
      "Dataset shape: (7000, 784)\n",
      "####################\n"
     ]
    }
   ],
   "source": [
    "rna = DataFetcher.fetch_data('rna N3k')\n",
    "coli20 =  DataFetcher.fetch_data('coil20')\n",
    "globe = DataFetcher.fetch_data('globe', size=7000)\n",
    "fmnist = DataFetcher.fetch_data('fashion mnist', size=7000)\n",
    "mnist = DataFetcher.fetch_data('mnist', size=7000)\n",
    "\n",
    "datasets = [rna, coli20,globe,fmnist, mnist]\n",
    "dataset_names = ['rna N3k', 'coli20', 'globe', 'fashion mnist', 'mnist']"
   ],
   "metadata": {
    "collapsed": false
   }
  },
  {
   "cell_type": "code",
   "execution_count": 5,
   "outputs": [
    {
     "name": "stdout",
     "output_type": "stream",
     "text": [
      "####################\n",
      "A 2D layout of the \"fashion mnist\" dataset will be created \n",
      "using the \"Chalmers' 1996\" algorithm\n",
      "####################\n",
      "The HD distance measure used is: euclidean\n",
      "####################\n",
      "\"Average speed\" will be measured on every iteration\n",
      "####################\n",
      "\"Stress\" will be measured every 100 iterations\n",
      "####################\n",
      "All stress calculations will be performed using the euclidian norm\n",
      "####################\n",
      "Spring constant is set to  0.5 \n",
      "Damping constant is set to 0 \n",
      "Spring constant scaling factor is set to 0.03333333333333333 \n",
      "####################\n",
      "\n",
      "Not enough memory to allocate for a numpy array for stress calculation. \n",
      "Stress will be calculated with a Python loop\n",
      "\n",
      " Computing un-vectorised euclidean stress \n",
      "\n",
      "\n",
      "Not enough memory to allocate for a numpy array for stress calculation. \n",
      "Stress will be calculated with a Python loop\n",
      "\n",
      " Computing un-vectorised euclidean stress \n",
      "\n"
     ]
    },
    {
     "ename": "KeyboardInterrupt",
     "evalue": "",
     "output_type": "error",
     "traceback": [
      "\u001B[1;31m---------------------------------------------------------------------------\u001B[0m",
      "\u001B[1;31mKeyboardInterrupt\u001B[0m                         Traceback (most recent call last)",
      "Cell \u001B[1;32mIn[5], line 15\u001B[0m\n\u001B[0;32m     10\u001B[0m Xld \u001B[38;5;241m*\u001B[39m\u001B[38;5;241m=\u001B[39m \u001B[38;5;241m10\u001B[39m\u001B[38;5;241m/\u001B[39mnp\u001B[38;5;241m.\u001B[39mstd(Xld)\n\u001B[0;32m     11\u001B[0m algo96 \u001B[38;5;241m=\u001B[39m Chalmers96(dataset\u001B[38;5;241m=\u001B[39mdataset,  initial_layout\u001B[38;5;241m=\u001B[39mXld,\n\u001B[0;32m     12\u001B[0m                     damping_constant\u001B[38;5;241m=\u001B[39m\u001B[38;5;241m0\u001B[39m, spring_constant\u001B[38;5;241m=\u001B[39m\u001B[38;5;241m0.5\u001B[39m,\n\u001B[0;32m     13\u001B[0m                     use_knnd\u001B[38;5;241m=\u001B[39m\u001B[38;5;28;01mFalse\u001B[39;00m, sample_set_size\u001B[38;5;241m=\u001B[39m\u001B[38;5;241m10\u001B[39m, neighbour_set_size\u001B[38;5;241m=\u001B[39m\u001B[38;5;241m5\u001B[39m)\n\u001B[1;32m---> 15\u001B[0m layout_96 \u001B[38;5;241m=\u001B[39m \u001B[43mLayoutCreation\u001B[49m\u001B[38;5;241;43m.\u001B[39;49m\u001B[43mcreate_layout\u001B[49m\u001B[43m(\u001B[49m\u001B[43malgo96\u001B[49m\u001B[43m,\u001B[49m\u001B[43m \u001B[49m\u001B[43moptional_metric_collection\u001B[49m\u001B[38;5;241;43m=\u001B[39;49m\u001B[43mmetric_collection_96\u001B[49m\u001B[43m,\u001B[49m\u001B[43m \u001B[49m\u001B[43mno_iters\u001B[49m\u001B[38;5;241;43m=\u001B[39;49m\u001B[43miters\u001B[49m\u001B[43m)\u001B[49m\n\u001B[0;32m     16\u001B[0m show_layout(layout_96, use_labels\u001B[38;5;241m=\u001B[39m\u001B[38;5;28;01mTrue\u001B[39;00m, title\u001B[38;5;241m=\u001B[39m\u001B[38;5;124m\"\u001B[39m\u001B[38;5;124m96\u001B[39m\u001B[38;5;124m\"\u001B[39m)\n\u001B[0;32m     17\u001B[0m show_generation_metrics(layout_96, iters_from\u001B[38;5;241m=\u001B[39m\u001B[38;5;241m100\u001B[39m, average_speed\u001B[38;5;241m=\u001B[39m\u001B[38;5;28;01mTrue\u001B[39;00m, title\u001B[38;5;241m=\u001B[39m\u001B[38;5;124mf\u001B[39m\u001B[38;5;124m\"\u001B[39m\u001B[38;5;124mChalmers\u001B[39m\u001B[38;5;124m'\u001B[39m\u001B[38;5;124m 96, \u001B[39m\u001B[38;5;132;01m{\u001B[39;00mdataset\u001B[38;5;241m.\u001B[39mname\u001B[38;5;241m.\u001B[39mcapitalize()\u001B[38;5;132;01m}\u001B[39;00m\u001B[38;5;124m\"\u001B[39m)\n",
      "File \u001B[1;32m~\\Desktop\\2095736w\\hdimvis\\create_low_d_layout\\LayoutCreation.py:92\u001B[0m, in \u001B[0;36mLayoutCreation.create_layout\u001B[1;34m(algorithm, no_iters, optional_metric_collection, **additional_parameters)\u001B[0m\n\u001B[0;32m     89\u001B[0m     \u001B[38;5;28mprint\u001B[39m(\u001B[38;5;124mf\u001B[39m\u001B[38;5;124m\"\u001B[39m\u001B[38;5;124mSpring constant scaling factor is set to \u001B[39m\u001B[38;5;132;01m{\u001B[39;00mlayout\u001B[38;5;241m.\u001B[39malgorithm\u001B[38;5;241m.\u001B[39msc_scaling_factor\u001B[38;5;132;01m}\u001B[39;00m\u001B[38;5;124m \u001B[39m\u001B[38;5;124m\"\u001B[39m)\n\u001B[0;32m     90\u001B[0m     \u001B[38;5;28mprint\u001B[39m(\u001B[38;5;124m\"\u001B[39m\u001B[38;5;124m#\u001B[39m\u001B[38;5;124m\"\u001B[39m \u001B[38;5;241m*\u001B[39m \u001B[38;5;241m20\u001B[39m)\n\u001B[1;32m---> 92\u001B[0m \u001B[43mlayout\u001B[49m\u001B[38;5;241;43m.\u001B[39;49m\u001B[43mrun\u001B[49m\u001B[43m(\u001B[49m\u001B[43m)\u001B[49m\n\u001B[0;32m     93\u001B[0m \u001B[38;5;28;01mreturn\u001B[39;00m layout\n",
      "File \u001B[1;32m~\\Desktop\\2095736w\\hdimvis\\create_low_d_layout\\Chalmers96Layout.py:38\u001B[0m, in \u001B[0;36mChalmers96Layout.run\u001B[1;34m(self)\u001B[0m\n\u001B[0;32m     36\u001B[0m \u001B[38;5;28;01mif\u001B[39;00m \u001B[38;5;28mself\u001B[39m\u001B[38;5;241m.\u001B[39moptional_metric_collection \u001B[38;5;129;01mis\u001B[39;00m \u001B[38;5;129;01mnot\u001B[39;00m \u001B[38;5;28;01mNone\u001B[39;00m:\n\u001B[0;32m     37\u001B[0m     \u001B[38;5;28mself\u001B[39m\u001B[38;5;241m.\u001B[39mcollect_metrics()\n\u001B[1;32m---> 38\u001B[0m \u001B[38;5;28;43mself\u001B[39;49m\u001B[38;5;241;43m.\u001B[39;49m\u001B[43malgorithm\u001B[49m\u001B[38;5;241;43m.\u001B[39;49m\u001B[43mone_iteration\u001B[49m\u001B[43m(\u001B[49m\u001B[38;5;28;43mself\u001B[39;49m\u001B[38;5;241;43m.\u001B[39;49m\u001B[43malpha\u001B[49m\u001B[43m)\u001B[49m\n\u001B[0;32m     39\u001B[0m \u001B[38;5;28mself\u001B[39m\u001B[38;5;241m.\u001B[39miteration_number \u001B[38;5;241m+\u001B[39m\u001B[38;5;241m=\u001B[39m \u001B[38;5;241m1\u001B[39m\n\u001B[0;32m     40\u001B[0m \u001B[38;5;28mself\u001B[39m\u001B[38;5;241m.\u001B[39mfinal_positions \u001B[38;5;241m=\u001B[39m \u001B[38;5;28mself\u001B[39m\u001B[38;5;241m.\u001B[39malgorithm\u001B[38;5;241m.\u001B[39mget_positions()\n",
      "File \u001B[1;32m~\\Desktop\\2095736w\\hdimvis\\algorithms\\spring_force_algos\\chalmers96_algo\\Chalmers96.py:68\u001B[0m, in \u001B[0;36mChalmers96.one_iteration\u001B[1;34m(self, alpha)\u001B[0m\n\u001B[0;32m     64\u001B[0m                 node\u001B[38;5;241m.\u001B[39mclear_position_update()\n\u001B[0;32m     67\u001B[0m \u001B[38;5;28;01mif\u001B[39;00m \u001B[38;5;129;01mnot\u001B[39;00m \u001B[38;5;28mself\u001B[39m\u001B[38;5;241m.\u001B[39muse_knnd \u001B[38;5;129;01mand\u001B[39;00m \u001B[38;5;28mself\u001B[39m\u001B[38;5;241m.\u001B[39mneighbour_set_size \u001B[38;5;129;01mand\u001B[39;00m \u001B[38;5;28mself\u001B[39m\u001B[38;5;241m.\u001B[39msample_set_size:\n\u001B[1;32m---> 68\u001B[0m     count \u001B[38;5;241m=\u001B[39m \u001B[38;5;28;43mself\u001B[39;49m\u001B[38;5;241;43m.\u001B[39;49m\u001B[43m_update_neighbours\u001B[49m\u001B[43m(\u001B[49m\u001B[43mi\u001B[49m\u001B[43m,\u001B[49m\u001B[43m \u001B[49m\u001B[43msamples\u001B[49m\u001B[38;5;241;43m=\u001B[39;49m\u001B[43msample_set\u001B[49m\u001B[43m)\u001B[49m\n\u001B[0;32m     69\u001B[0m     \u001B[38;5;28;01mif\u001B[39;00m \u001B[38;5;28mself\u001B[39m\u001B[38;5;241m.\u001B[39mrecord_neighbour_updates:\n\u001B[0;32m     70\u001B[0m         updates_count \u001B[38;5;241m+\u001B[39m\u001B[38;5;241m=\u001B[39m count\n",
      "File \u001B[1;32m~\\Desktop\\2095736w\\hdimvis\\algorithms\\spring_force_algos\\chalmers96_algo\\Chalmers96.py:114\u001B[0m, in \u001B[0;36mChalmers96._update_neighbours\u001B[1;34m(self, i, samples)\u001B[0m\n\u001B[0;32m    112\u001B[0m furthest_neighbour \u001B[38;5;241m=\u001B[39m \u001B[38;5;28mself\u001B[39m\u001B[38;5;241m.\u001B[39mhd_distance(source, \u001B[38;5;28mself\u001B[39m\u001B[38;5;241m.\u001B[39mnodes[neighbours[\u001B[38;5;241m-\u001B[39m\u001B[38;5;241m1\u001B[39m]])\n\u001B[0;32m    113\u001B[0m \u001B[38;5;28;01mfor\u001B[39;00m s \u001B[38;5;129;01min\u001B[39;00m samples:\n\u001B[1;32m--> 114\u001B[0m     sample_distance \u001B[38;5;241m=\u001B[39m \u001B[38;5;28;43mself\u001B[39;49m\u001B[38;5;241;43m.\u001B[39;49m\u001B[43mhd_distance\u001B[49m\u001B[43m(\u001B[49m\u001B[43msource\u001B[49m\u001B[43m,\u001B[49m\u001B[43m \u001B[49m\u001B[38;5;28;43mself\u001B[39;49m\u001B[38;5;241;43m.\u001B[39;49m\u001B[43mnodes\u001B[49m\u001B[43m[\u001B[49m\u001B[43ms\u001B[49m\u001B[43m]\u001B[49m\u001B[43m)\u001B[49m\n\u001B[0;32m    115\u001B[0m     \u001B[38;5;28;01mif\u001B[39;00m sample_distance \u001B[38;5;241m<\u001B[39m furthest_neighbour:\n\u001B[0;32m    116\u001B[0m         n \u001B[38;5;241m=\u001B[39m \u001B[38;5;28mself\u001B[39m\u001B[38;5;241m.\u001B[39mneighbour_set_size \u001B[38;5;241m-\u001B[39m \u001B[38;5;241m2\u001B[39m\n",
      "File \u001B[1;32m~\\Desktop\\2095736w\\hdimvis\\algorithms\\spring_force_algos\\SpringForceBase.py:102\u001B[0m, in \u001B[0;36mSpringForceBase.hd_distance\u001B[1;34m(self, source, target, cache)\u001B[0m\n\u001B[0;32m    100\u001B[0m \u001B[38;5;28;01mif\u001B[39;00m pair \u001B[38;5;129;01min\u001B[39;00m \u001B[38;5;28mself\u001B[39m\u001B[38;5;241m.\u001B[39mdistances:\n\u001B[0;32m    101\u001B[0m     \u001B[38;5;28;01mreturn\u001B[39;00m \u001B[38;5;28mself\u001B[39m\u001B[38;5;241m.\u001B[39mdistances[pair]\n\u001B[1;32m--> 102\u001B[0m distance \u001B[38;5;241m=\u001B[39m \u001B[38;5;28;43mself\u001B[39;49m\u001B[38;5;241;43m.\u001B[39;49m\u001B[43mdistance_fn\u001B[49m\u001B[43m(\u001B[49m\u001B[43msource\u001B[49m\u001B[38;5;241;43m.\u001B[39;49m\u001B[43mdatapoint\u001B[49m\u001B[43m \u001B[49m\u001B[38;5;241;43m-\u001B[39;49m\u001B[43m \u001B[49m\u001B[43mtarget\u001B[49m\u001B[38;5;241;43m.\u001B[39;49m\u001B[43mdatapoint\u001B[49m\u001B[43m)\u001B[49m\n\u001B[0;32m    103\u001B[0m \u001B[38;5;28;01mif\u001B[39;00m cache:\n\u001B[0;32m    104\u001B[0m     \u001B[38;5;28mself\u001B[39m\u001B[38;5;241m.\u001B[39mdistances[pair] \u001B[38;5;241m=\u001B[39m distance\n",
      "File \u001B[1;32m~\\Desktop\\2095736w\\hdimvis\\metrics\\distance_measures\\euclidian_and_manhattan.py:6\u001B[0m, in \u001B[0;36meuclidean\u001B[1;34m(arr, axis)\u001B[0m\n\u001B[0;32m      4\u001B[0m \u001B[38;5;28;01mdef\u001B[39;00m \u001B[38;5;21meuclidean\u001B[39m(arr: np\u001B[38;5;241m.\u001B[39mndarray,  axis: \u001B[38;5;28mint\u001B[39m \u001B[38;5;241m=\u001B[39m \u001B[38;5;241m0\u001B[39m) \u001B[38;5;241m-\u001B[39m\u001B[38;5;241m>\u001B[39m \u001B[38;5;28mfloat\u001B[39m \u001B[38;5;241m|\u001B[39m np\u001B[38;5;241m.\u001B[39mndarray:\n\u001B[1;32m----> 6\u001B[0m     \u001B[38;5;28;01mreturn\u001B[39;00m \u001B[43mnp\u001B[49m\u001B[38;5;241;43m.\u001B[39;49m\u001B[43mlinalg\u001B[49m\u001B[38;5;241;43m.\u001B[39;49m\u001B[43mnorm\u001B[49m\u001B[43m(\u001B[49m\u001B[43marr\u001B[49m\u001B[43m,\u001B[49m\u001B[43m \u001B[49m\u001B[43maxis\u001B[49m\u001B[38;5;241;43m=\u001B[39;49m\u001B[43maxis\u001B[49m\u001B[43m)\u001B[49m\n",
      "File \u001B[1;32m<__array_function__ internals>:180\u001B[0m, in \u001B[0;36mnorm\u001B[1;34m(*args, **kwargs)\u001B[0m\n",
      "File \u001B[1;32m~\\.virtualenvs\\2095736w-0SnFieZ0\\lib\\site-packages\\numpy\\linalg\\linalg.py:2557\u001B[0m, in \u001B[0;36mnorm\u001B[1;34m(x, ord, axis, keepdims)\u001B[0m\n\u001B[0;32m   2554\u001B[0m \u001B[38;5;28;01melif\u001B[39;00m \u001B[38;5;28mord\u001B[39m \u001B[38;5;129;01mis\u001B[39;00m \u001B[38;5;28;01mNone\u001B[39;00m \u001B[38;5;129;01mor\u001B[39;00m \u001B[38;5;28mord\u001B[39m \u001B[38;5;241m==\u001B[39m \u001B[38;5;241m2\u001B[39m:\n\u001B[0;32m   2555\u001B[0m     \u001B[38;5;66;03m# special case for speedup\u001B[39;00m\n\u001B[0;32m   2556\u001B[0m     s \u001B[38;5;241m=\u001B[39m (x\u001B[38;5;241m.\u001B[39mconj() \u001B[38;5;241m*\u001B[39m x)\u001B[38;5;241m.\u001B[39mreal\n\u001B[1;32m-> 2557\u001B[0m     \u001B[38;5;28;01mreturn\u001B[39;00m \u001B[43msqrt\u001B[49m\u001B[43m(\u001B[49m\u001B[43madd\u001B[49m\u001B[38;5;241;43m.\u001B[39;49m\u001B[43mreduce\u001B[49m\u001B[43m(\u001B[49m\u001B[43ms\u001B[49m\u001B[43m,\u001B[49m\u001B[43m \u001B[49m\u001B[43maxis\u001B[49m\u001B[38;5;241;43m=\u001B[39;49m\u001B[43maxis\u001B[49m\u001B[43m,\u001B[49m\u001B[43m \u001B[49m\u001B[43mkeepdims\u001B[49m\u001B[38;5;241;43m=\u001B[39;49m\u001B[43mkeepdims\u001B[49m\u001B[43m)\u001B[49m\u001B[43m)\u001B[49m\n\u001B[0;32m   2558\u001B[0m \u001B[38;5;66;03m# None of the str-type keywords for ord ('fro', 'nuc')\u001B[39;00m\n\u001B[0;32m   2559\u001B[0m \u001B[38;5;66;03m# are valid for vectors\u001B[39;00m\n\u001B[0;32m   2560\u001B[0m \u001B[38;5;28;01melif\u001B[39;00m \u001B[38;5;28misinstance\u001B[39m(\u001B[38;5;28mord\u001B[39m, \u001B[38;5;28mstr\u001B[39m):\n",
      "\u001B[1;31mKeyboardInterrupt\u001B[0m: "
     ]
    }
   ],
   "source": [
    "metric_collection_96 = {'Average speed': 1, \"Stress\": 100}\n",
    "\n",
    "dataset = datasets[0]\n",
    "iters = 3000\n",
    "layouts = []\n",
    "\n",
    "for dataset in datasets[3:]:\n",
    "\n",
    "    Xld = PCA(n_components=2, whiten=False, copy=True).fit_transform(dataset.data).astype(np.float64)\n",
    "    Xld *= 10/np.std(Xld)\n",
    "    algo96 = Chalmers96(dataset=dataset,  initial_layout=Xld,\n",
    "                        damping_constant=0, spring_constant=0.5,\n",
    "                        use_knnd=False, sample_set_size=10, neighbour_set_size=5)\n",
    "\n",
    "    layout_96 = LayoutCreation.create_layout(algo96, optional_metric_collection=metric_collection_96, no_iters=iters)\n",
    "    show_layout(layout_96, use_labels=True, title=\"96\")\n",
    "    show_generation_metrics(layout_96, iters_from=100, average_speed=True, title=f\"Chalmers' 96, {dataset.name.capitalize()}\")\n",
    "    show_generation_metrics(layout_96, average_speed=True, title=f\"Chalmers' 96, {dataset.name.capitalize()}\")\n",
    "\n",
    "    metric_collection_squad = { \"Stress\": 100, \"Average n-tet stress\": 1}\n",
    "    squad = SNeD(dataset=dataset, initial_layout=Xld, use_nesterovs_momentum=False, ntet_size=4, momentum=0.1)\n",
    "    layout_squad = LayoutCreation.create_layout(squad, no_iters=iters,optional_metric_collection=metric_collection_squad)\n",
    "    show_layout(layout_squad, use_labels=True, title=\"SQuaD\")\n",
    "    show_generation_metrics(layout_squad, iters_from=100, quartet_stress=True, title=f\"SQuaD, {dataset.name.capitalize()}\")\n",
    "    show_generation_metrics(layout_squad, quartet_stress=True, title=f\"SQuaD, {dataset.name.capitalize()}\")\n",
    "\n",
    "\n",
    "    layouts.append((layout_96, layout_squad))\n",
    "\n",
    "\n",
    "\n",
    "output_dir= (Path(PROJECT_ROOT).joinpath(\n",
    "    Path(f\"experiments/sned_vs_96/out/\"))).resolve().absolute()\n",
    "\n",
    "path_to_pickle_lay = (Path(output_dir).joinpath(Path(f\"other_layouts.pickle\"))).resolve()\n",
    "with open(path_to_pickle_lay, 'wb') as pickle_out:\n",
    "    pickle.dump(layouts, pickle_out)\n"
   ],
   "metadata": {
    "collapsed": false
   }
  }
 ],
 "metadata": {
  "kernelspec": {
   "display_name": "Python 3",
   "language": "python",
   "name": "python3"
  },
  "language_info": {
   "codemirror_mode": {
    "name": "ipython",
    "version": 2
   },
   "file_extension": ".py",
   "mimetype": "text/x-python",
   "name": "python",
   "nbconvert_exporter": "python",
   "pygments_lexer": "ipython2",
   "version": "2.7.6"
  }
 },
 "nbformat": 4,
 "nbformat_minor": 0
}
