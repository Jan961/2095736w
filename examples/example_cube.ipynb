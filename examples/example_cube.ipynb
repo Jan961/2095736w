{
 "cells": [
  {
   "cell_type": "code",
   "execution_count": null,
   "metadata": {
    "collapsed": true
   },
   "outputs": [],
   "source": [
    "import numpy as np\n",
    "import umap\n",
    "from experiments.cube.Cube import Cube\n",
    "from hdimvis.algorithms.spring_force_algos.chalmers96_algo.Chalmers96 import Chalmers96\n",
    "from hdimvis.create_low_d_layout.LayoutCreation import LayoutCreation\n",
    "from hdimvis.algorithms.stochastic_ntet_algo.SNeD import SNeD\n",
    "from sklearn.decomposition import PCA\n",
    "from  sklearn.manifold import SpectralEmbedding, MDS\n",
    "from hdimvis.algorithms.spring_force_algos.hybrid_algo.Hybrid import Hybrid\n",
    "\n",
    "from sklearn.manifold import TSNE\n",
    "%matplotlib notebook"
   ]
  },
  {
   "cell_type": "code",
   "execution_count": null,
   "outputs": [],
   "source": [
    "# **Cube Parameters**\n",
    "# side : int, optional\n",
    "#     length of the side of the cube\n",
    "#\n",
    "# angle : float, optional\n",
    "#     angle between the bottom side of the cube and the x-y plane,\n",
    "#     the angle is multiplied by pi so that angle=1/3 will\n",
    "#     mean that the angle pi/3 will be used when generation the cube\n",
    "#\n",
    "# num_points: int, optional\n",
    "#     number of points per side\n",
    "#\n",
    "# distance_axes: int, optional\n",
    "#     distance from the axes, e.g. distance 1 will mean that cube will be translated\n",
    "#     by the vector (1,1,1) from the position at the origin and then rotated by the *angle*\n",
    "\n",
    "\n",
    "cube = Cube(num_points=100, side=30, angle=0.4)\n",
    "dataset= cube.get_sample_dataset(3000)\n",
    "cube.plot_3d()"
   ],
   "metadata": {
    "collapsed": false
   }
  },
  {
   "cell_type": "code",
   "execution_count": null,
   "outputs": [],
   "source": [
    "cube.plot_3d(title=\"Cube dataset\", axes_labels_off=True, size_inches=10)"
   ],
   "metadata": {
    "collapsed": false
   }
  },
  {
   "cell_type": "code",
   "execution_count": null,
   "outputs": [],
   "source": [
    "embedding_PCA = PCA(n_components=2, whiten=False, copy=True).fit_transform(dataset.data).astype(np.float64)\n",
    "embedding_PCA *= 10/np.std(embedding_PCA)\n",
    "cube.plot_2d(layout_points=embedding_PCA, hd_points=dataset.data, title=f\"PCA\")"
   ],
   "metadata": {
    "collapsed": false
   }
  },
  {
   "cell_type": "code",
   "execution_count": null,
   "outputs": [],
   "source": [
    "embedding_MDS = MDS(n_components=2).fit_transform(dataset.data).astype(np.float64)\n",
    "cube.plot_2d(layout_points=embedding_MDS, hd_points=dataset.data, title=f\"scikit-learn's MDS\")"
   ],
   "metadata": {
    "collapsed": false
   }
  },
  {
   "cell_type": "code",
   "execution_count": null,
   "outputs": [],
   "source": [
    "embedding_umap = umap.UMAP(n_neighbors=500).fit_transform(dataset.data)\n",
    "cube.plot_2d(layout_points=embedding_umap, hd_points=dataset.data, title=f\"UMAP, n_neighbours = 500\",)\n",
    "\n"
   ],
   "metadata": {
    "collapsed": false
   }
  },
  {
   "cell_type": "code",
   "execution_count": null,
   "outputs": [],
   "source": [
    "algo96 = Chalmers96(dataset=dataset)\n",
    "\n",
    "layout_96 = LayoutCreation.create_layout(algo96, num_iters=100)\n",
    "cube.plot_2d(layout=layout_96)"
   ],
   "metadata": {
    "collapsed": false
   }
  },
  {
   "cell_type": "code",
   "execution_count": null,
   "outputs": [],
   "source": [
    "embedding_tsne = TSNE(n_components=2, perplexity=500).fit_transform(dataset.data)\n",
    "cube.plot_2d(layout_points=embedding_tsne, hd_points=dataset.data, title=\"tSNE embedding\")"
   ],
   "metadata": {
    "collapsed": false
   }
  },
  {
   "cell_type": "code",
   "execution_count": null,
   "outputs": [],
   "source": [
    "sned = SNeD(dataset=dataset, ntet_size=6)\n",
    "layout_sned = LayoutCreation().create_layout(sned, num_iters=1000)\n",
    "cube.plot_2d(layout=layout_sned)"
   ],
   "metadata": {
    "collapsed": false
   }
  },
  {
   "cell_type": "code",
   "execution_count": null,
   "outputs": [],
   "source": [
    "hybrid = Hybrid(dataset=dataset)\n",
    "hybrid_layout = LayoutCreation().create_layout(hybrid)\n",
    "cube.plot_2d(layout=hybrid_layout)"
   ],
   "metadata": {
    "collapsed": false
   }
  },
  {
   "cell_type": "code",
   "execution_count": null,
   "outputs": [],
   "source": [
    "laplacian_eigenmaps_embedding = SpectralEmbedding(n_components=2, n_neighbors=500).fit_transform(dataset.data)\n",
    "cube.plot_2d(layout_points=laplacian_eigenmaps_embedding, hd_points=dataset.data, title=f\"Laplacian eigenmaps\",\n",
    "             save_to=r\"C:\\Users\\Owner\\Desktop\\2095736w\\experiments\\cube\\out\" )"
   ],
   "metadata": {
    "collapsed": false
   }
  }
 ],
 "metadata": {
  "kernelspec": {
   "display_name": "Python 3",
   "language": "python",
   "name": "python3"
  },
  "language_info": {
   "codemirror_mode": {
    "name": "ipython",
    "version": 2
   },
   "file_extension": ".py",
   "mimetype": "text/x-python",
   "name": "python",
   "nbconvert_exporter": "python",
   "pygments_lexer": "ipython2",
   "version": "2.7.6"
  }
 },
 "nbformat": 4,
 "nbformat_minor": 0
}
