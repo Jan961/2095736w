{
 "cells": [
  {
   "cell_type": "code",
   "execution_count": 1,
   "metadata": {
    "collapsed": true
   },
   "outputs": [],
   "source": [
    "from hdimvis.data_fetchers.DataFetcher import DataFetcher\n",
    "from hdimvis.metrics.distance_measures.euclidian_and_manhattan import manhattan,euclidean\n",
    "from hdimvis.algorithms.spring_force_algos.chalmers96_algo.Chalmers96 import Chalmers96\n",
    "from hdimvis.create_low_d_layout.LayoutCreation import LayoutCreation\n",
    "from hdimvis.visualise_layouts_and_metrics.plot import show_layout, show_generation_metrics\n",
    "from sklearn.decomposition import PCA\n",
    "from time import perf_counter\n",
    "import numpy as np\n",
    "from pathlib import Path\n",
    "from definitions import PROJECT_ROOT\n",
    "import pickle"
   ]
  },
  {
   "cell_type": "code",
   "execution_count": 2,
   "outputs": [
    {
     "name": "stdout",
     "output_type": "stream",
     "text": [
      "{'globe': (array([[[0.0224828, 0.0196166, 0.0201401],\n",
      "        [0.0240106, 0.0233286, 0.0228767],\n",
      "        [0.0270588, 0.027396 , 0.0265742]],\n",
      "\n",
      "       [[0.0302817, 0.0318715, 0.0595941],\n",
      "        [0.0369069, 0.0357408, 0.0353386],\n",
      "        [0.0382905, 0.0387518, 0.0388056]],\n",
      "\n",
      "       [[0.0448197, 0.0444682, 0.0447059],\n",
      "        [0.0474432, 0.048677 , 0.0488674],\n",
      "        [0.0508427, 0.0506324, 0.0507767]]]), [[[<hdimvis.create_low_d_layout.Chalmers96Layout.Chalmers96Layout object at 0x00000169628AEA70>, <hdimvis.create_low_d_layout.Chalmers96Layout.Chalmers96Layout object at 0x00000169186E96F0>, <hdimvis.create_low_d_layout.Chalmers96Layout.Chalmers96Layout object at 0x0000016918747F10>], [<hdimvis.create_low_d_layout.Chalmers96Layout.Chalmers96Layout object at 0x000001691886FF10>, <hdimvis.create_low_d_layout.Chalmers96Layout.Chalmers96Layout object at 0x0000016918824F70>, <hdimvis.create_low_d_layout.Chalmers96Layout.Chalmers96Layout object at 0x0000016918908E50>], [<hdimvis.create_low_d_layout.Chalmers96Layout.Chalmers96Layout object at 0x0000016918942C20>, <hdimvis.create_low_d_layout.Chalmers96Layout.Chalmers96Layout object at 0x000001691A549750>, <hdimvis.create_low_d_layout.Chalmers96Layout.Chalmers96Layout object at 0x000001691A598490>]], [[<hdimvis.create_low_d_layout.Chalmers96Layout.Chalmers96Layout object at 0x000001691A5DB910>, <hdimvis.create_low_d_layout.Chalmers96Layout.Chalmers96Layout object at 0x000001691A61ED10>, <hdimvis.create_low_d_layout.Chalmers96Layout.Chalmers96Layout object at 0x000001691A66E200>], [<hdimvis.create_low_d_layout.Chalmers96Layout.Chalmers96Layout object at 0x000001691A6BD630>, <hdimvis.create_low_d_layout.Chalmers96Layout.Chalmers96Layout object at 0x000001691A70FBB0>, <hdimvis.create_low_d_layout.Chalmers96Layout.Chalmers96Layout object at 0x000001691A77A170>], [<hdimvis.create_low_d_layout.Chalmers96Layout.Chalmers96Layout object at 0x000001691A7EC280>, <hdimvis.create_low_d_layout.Chalmers96Layout.Chalmers96Layout object at 0x000001691A858BE0>, <hdimvis.create_low_d_layout.Chalmers96Layout.Chalmers96Layout object at 0x000001691A8C5660>]], [[<hdimvis.create_low_d_layout.Chalmers96Layout.Chalmers96Layout object at 0x000001691AA46440>, <hdimvis.create_low_d_layout.Chalmers96Layout.Chalmers96Layout object at 0x000001691AA99CC0>, <hdimvis.create_low_d_layout.Chalmers96Layout.Chalmers96Layout object at 0x000001691AAE1660>], [<hdimvis.create_low_d_layout.Chalmers96Layout.Chalmers96Layout object at 0x000001691AB312A0>, <hdimvis.create_low_d_layout.Chalmers96Layout.Chalmers96Layout object at 0x000001691AB87BB0>, <hdimvis.create_low_d_layout.Chalmers96Layout.Chalmers96Layout object at 0x000001691ABF29E0>], [<hdimvis.create_low_d_layout.Chalmers96Layout.Chalmers96Layout object at 0x000001691AC5D600>, <hdimvis.create_low_d_layout.Chalmers96Layout.Chalmers96Layout object at 0x000001691ACCEBF0>, <hdimvis.create_low_d_layout.Chalmers96Layout.Chalmers96Layout object at 0x000001691AD580A0>]]])}\n"
     ]
    }
   ],
   "source": [
    "output_dir= (Path(PROJECT_ROOT).joinpath(\n",
    "    Path(f\"experiments/varing_V_and_S/out/\"))).resolve().absolute()\n",
    "\n",
    "path_to_pickle = (Path(output_dir).joinpath(Path(f\"results.pickle\"))).resolve()\n",
    "with open(path_to_pickle, 'rb') as file:\n",
    "    results = pickle.load(file)\n",
    "print(results)"
   ],
   "metadata": {
    "collapsed": false
   }
  },
  {
   "cell_type": "code",
   "execution_count": null,
   "outputs": [],
   "source": [
    "time_means = np.mean(results['rna N3k'][0], axis=2)\n",
    "\n",
    "stress = np.zeros((20,20))\n",
    "k_means = np.zeros((20,20))\n",
    "k_nn = np.zeros((20,20))\n",
    "\n",
    "layouts = results['rna N3k'][1]\n",
    "\n",
    "n_neigh = 1\n",
    "n_sample = 1\n",
    "while n_neigh <= max:\n",
    "    while n_sample <= max:\n"
   ],
   "metadata": {
    "collapsed": false
   }
  },
  {
   "cell_type": "code",
   "execution_count": null,
   "outputs": [],
   "source": [],
   "metadata": {
    "collapsed": false
   }
  }
 ],
 "metadata": {
  "kernelspec": {
   "display_name": "Python 3",
   "language": "python",
   "name": "python3"
  },
  "language_info": {
   "codemirror_mode": {
    "name": "ipython",
    "version": 2
   },
   "file_extension": ".py",
   "mimetype": "text/x-python",
   "name": "python",
   "nbconvert_exporter": "python",
   "pygments_lexer": "ipython2",
   "version": "2.7.6"
  }
 },
 "nbformat": 4,
 "nbformat_minor": 0
}
