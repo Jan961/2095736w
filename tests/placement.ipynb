{
 "cells": [
  {
   "cell_type": "code",
   "execution_count": 2,
   "metadata": {
    "collapsed": true
   },
   "outputs": [],
   "source": [
    "import numpy as np\n",
    "import matplotlib.pyplot as plt\n",
    "from generate_placement_data import get_data"
   ]
  },
  {
   "cell_type": "code",
   "execution_count": 3,
   "outputs": [
    {
     "name": "stdout",
     "output_type": "stream",
     "text": [
      "####################\n",
      "Fetching the \"coil20\" dataset\n",
      "####################\n",
      "Dataset loaded\n",
      "####################\n",
      "A 2D layout of the \"sample\" dataset will be created \n",
      "using the Chalmers' 1996 algorithm\n",
      "####################\n",
      "####################\n",
      "No metrics will be collected during layout creation. \n",
      "To change this use the 'metric collection' parameter of the layout \n",
      "####################\n",
      "####################\n",
      "Warning: the initial 2D positions are all set to 0. \n",
      "You might want to use the \"initial layout\" parameter of the algorithm\n",
      "to specify a different initialisation\n",
      "####################\n",
      "(1440, 37)\n"
     ]
    }
   ],
   "source": [
    "parents, parent_hd_distances, sample_ld_pos, r, dims, data, sample, sample_indx = get_data('coil20')"
   ],
   "metadata": {
    "collapsed": false
   }
  },
  {
   "cell_type": "code",
   "execution_count": 1,
   "outputs": [
    {
     "ename": "NameError",
     "evalue": "name 'np' is not defined",
     "output_type": "error",
     "traceback": [
      "\u001B[1;31m---------------------------------------------------------------------------\u001B[0m",
      "\u001B[1;31mNameError\u001B[0m                                 Traceback (most recent call last)",
      "Cell \u001B[1;32mIn[1], line 1\u001B[0m\n\u001B[1;32m----> 1\u001B[0m point_idx \u001B[38;5;241m=\u001B[39m \u001B[43mnp\u001B[49m\u001B[38;5;241m.\u001B[39mrandom\u001B[38;5;241m.\u001B[39mrandint(\u001B[38;5;241m0\u001B[39m, r)\n\u001B[0;32m      2\u001B[0m \u001B[38;5;28mprint\u001B[39m(\u001B[38;5;124mf\u001B[39m\u001B[38;5;124m\"\u001B[39m\u001B[38;5;124mnumber of rows in data: \u001B[39m\u001B[38;5;132;01m{\u001B[39;00mr\u001B[38;5;132;01m}\u001B[39;00m\u001B[38;5;124m\"\u001B[39m)\n\u001B[0;32m      3\u001B[0m the_point_hd \u001B[38;5;241m=\u001B[39m data[point_idx]\n",
      "\u001B[1;31mNameError\u001B[0m: name 'np' is not defined"
     ]
    }
   ],
   "source": [
    "point_idx = np.random.randint(0, r)\n",
    "print(f\"number of rows in data: {r}\")\n",
    "the_point_hd = data[point_idx]\n",
    "the_parent_indx = parents[point_idx]\n",
    "\n",
    "radius = parent_hd_distances[point_idx]\n",
    "the_parent = sample_ld_pos[the_parent_indx]\n",
    "\n",
    "\n",
    "extra_space = 0\n",
    "x = np.arange( the_parent[1] - radius - extra_space, the_parent[1] + radius + extra_space,1)\n",
    "y = np.arange( the_parent[0] - radius - extra_space, the_parent[0] + radius + extra_space,1)\n",
    "grid_size = x.size\n",
    "\n",
    "xv, yv = np.meshgrid(x, y)\n",
    "\n",
    "hd_dist= np.linalg.norm(sample- the_point_hd, axis=1)\n",
    "\n",
    "ld_dist = np.zeros((grid_size,grid_size, sample.shape[0]))\n",
    "\n",
    "for i in range(sample_ld_pos.shape[0]):\n",
    "    xy =  np.dstack((xv - sample_ld_pos[i, 0], yv - sample_ld_pos[i, 1]))\n",
    "    distance_one_p = np.linalg.norm(xy, axis=2)\n",
    "    ld_dist[... ,i] = distance_one_p\n",
    "\n",
    "diffs = np.abs(ld_dist - hd_dist[None, None,:])\n",
    "error = np.sum(diffs**2, axis=2)\n",
    "print(error)\n",
    "\n",
    "\n",
    "fig, ax = plt.subplots()\n",
    "\n",
    "circle = plt.Circle((the_parent[0], the_parent[1]), radius, color='r')\n",
    "h = plt.contourf(x, y, error)\n",
    "plt.plot(the_parent[0], the_parent[1], 'r+')\n",
    "plt.axis('scaled')\n",
    "plt.axis.add_patch(circle)\n",
    "plt.plot(sample_ld_pos[0], sample_ld_pos[1], 'ro')\n",
    "\n",
    "plt.colorbar()\n",
    "plt.show()"
   ],
   "metadata": {
    "collapsed": false
   }
  },
  {
   "cell_type": "code",
   "execution_count": null,
   "outputs": [],
   "source": [],
   "metadata": {
    "collapsed": false
   }
  }
 ],
 "metadata": {
  "kernelspec": {
   "display_name": "Python 3",
   "language": "python",
   "name": "python3"
  },
  "language_info": {
   "codemirror_mode": {
    "name": "ipython",
    "version": 2
   },
   "file_extension": ".py",
   "mimetype": "text/x-python",
   "name": "python",
   "nbconvert_exporter": "python",
   "pygments_lexer": "ipython2",
   "version": "2.7.6"
  }
 },
 "nbformat": 4,
 "nbformat_minor": 0
}
