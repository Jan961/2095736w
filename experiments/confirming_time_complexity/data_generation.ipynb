{
 "cells": [
  {
   "cell_type": "code",
   "execution_count": 2,
   "metadata": {
    "collapsed": true
   },
   "outputs": [],
   "source": [
    "from hdimvis.data_fetchers.DataFetcher import DataFetcher\n",
    "from hdimvis.metrics.distance_measures.euclidian_and_manhattan import manhattan,euclidean\n",
    "from hdimvis.algorithms.stochastic_ntet_algo.SNeD import SNeD\n",
    "from hdimvis.algorithms.spring_force_algos.chalmers96_algo.Chalmers96 import Chalmers96\n",
    "from hdimvis.create_low_d_layout.LayoutCreation import LayoutCreation\n",
    "from hdimvis.visualise_layouts_and_metrics.plot import show_layout, show_generation_metrics\n",
    "from sklearn.decomposition import PCA\n",
    "from sklearn.manifold import TSNE\n",
    "import umap\n",
    "from time import perf_counter\n",
    "import numpy as np\n",
    "from pathlib import Path\n",
    "from definitions import PROJECT_ROOT\n",
    "import pickle"
   ]
  },
  {
   "cell_type": "code",
   "execution_count": 3,
   "outputs": [
    {
     "name": "stdout",
     "output_type": "stream",
     "text": [
      "####################\n",
      "Fetching the \"globe\" dataset\n",
      "####################\n",
      "Dataset loaded\n",
      "Dataset shape: (1000003, 3)\n",
      "####################\n"
     ]
    }
   ],
   "source": [
    "\n",
    "sizes = np.rint(np.linspace(100, 100000, 10))"
   ],
   "metadata": {
    "collapsed": false
   }
  },
  {
   "cell_type": "code",
   "execution_count": null,
   "outputs": [],
   "source": [
    "num_repeats =3\n",
    "results= np.zeros((4,15, num_repeats)) # 5 for - dataset size, 96, squad, hybrid,"
   ],
   "metadata": {
    "collapsed": false
   }
  },
  {
   "cell_type": "code",
   "execution_count": null,
   "outputs": [],
   "source": [
    "\n",
    "for j,size in enumerate(sizes):\n",
    "    dataset = DataFetcher.fetch_data('globe', size=size)\n",
    "    results[0,j] = size\n",
    "    embedding_PCA = PCA(n_components=2, whiten=False, copy=True).fit_transform(dataset.data).astype(np.float64)\n",
    "    embedding_PCA *= 10/np.std(embedding_PCA)\n",
    "\n",
    "    for i in num_repeats:\n",
    "        algo96 = Chalmers96(dataset=dataset, initial_layout=None,  distance_fn=euclidean, spring_constant=0.7,\n",
    "                             sample_set_size=10, neighbour_set_size=5)\n",
    "        start_96 = perf_counter()\n",
    "        layout_96 = LayoutCreation.create_layout(algo96, no_iters=100)\n",
    "        results[1,j,i] = perf_counter() - start_96\n",
    "\n",
    "        sned = SNeD(dataset=dataset)\n",
    "        start_sned = perf_counter()\n",
    "        layout_squad = LayoutCreation().create_layout(sned, no_iters=1000, optional_metric_collection=None)\n",
    "        results[2,j,i] = perf_counter() - start_sned\n",
    "\n",
    "        # start_tsne = perf_counter()\n",
    "        # embedding_tsne = TSNE(n_components=2, perplexity=500).fit_transform(dataset.data)\n",
    "        # results[3,j,i] = perf_counter() - start_tsne\n",
    "        #\n",
    "        # start_umap = perf_counter()\n",
    "        # embedding_umap = umap.UMAP(n_neighbors=500).fit_transform(dataset.data)\n",
    "        # results[4,j,i] = perf_counter() - start_umap\n",
    "\n",
    "\n",
    "output_dir= (Path(PROJECT_ROOT).joinpath(\n",
    "    Path(f\"experiments/confirming_time_complexity/out/\"))).resolve().absolute()\n",
    "\n",
    "path_to_pickle = (Path(output_dir).joinpath(Path(f\"results.pickle\"))).resolve()\n",
    "with open(path_to_pickle, 'wb') as pickle_out:\n",
    "    pickle.dump(results, pickle_out)"
   ],
   "metadata": {
    "collapsed": false
   }
  }
 ],
 "metadata": {
  "kernelspec": {
   "display_name": "Python 3",
   "language": "python",
   "name": "python3"
  },
  "language_info": {
   "codemirror_mode": {
    "name": "ipython",
    "version": 2
   },
   "file_extension": ".py",
   "mimetype": "text/x-python",
   "name": "python",
   "nbconvert_exporter": "python",
   "pygments_lexer": "ipython2",
   "version": "2.7.6"
  }
 },
 "nbformat": 4,
 "nbformat_minor": 0
}
