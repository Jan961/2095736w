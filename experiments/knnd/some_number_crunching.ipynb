{
 "cells": [
  {
   "cell_type": "code",
   "execution_count": 1,
   "metadata": {
    "collapsed": true
   },
   "outputs": [],
   "source": [
    "import numpy as np\n",
    "\n",
    "from experiments.utils.SimpleComparison import SimpleComparison\n",
    "from hdimvis.algorithms.spring_force_algos.chalmers96_algo.Chalmers96 import Chalmers96\n",
    "from hdimvis.visualise_layouts_and_metrics.plot import show_layout,show_generation_metrics\n",
    "from hdimvis.algorithms.stochastic_ntet_algo.SNeD import SNeD\n",
    "from hdimvis.create_low_d_layout.LayoutCreation import LayoutCreation\n",
    "from hdimvis.data_fetchers.DataFetcher import DataFetcher\n",
    "from hdimvis.visualise_layouts_and_metrics.plot import show_layout\n",
    "from sklearn.neighbors import KNeighborsClassifier\n",
    "from sklearn.model_selection import KFold\n",
    "from experiments.utils.get_kmeans_f1 import get_kmeans_f1\n",
    "from experiments.utils.get_f1_for_best_k_with_knn import get_f1_for_best_k_with_knn\n",
    "from experiments.utils.get_avg_classwise_f1 import get_avg_classwise_f1\n",
    "from sklearn.cluster import KMeans\n",
    "from sklearn.decomposition import PCA\n",
    "from sklearn.metrics import f1_score\n",
    "from pathlib import Path\n",
    "from definitions import PROJECT_ROOT\n",
    "import pickle\n",
    "from scipy import stats\n",
    "import matplotlib.pyplot as plt\n",
    "from time import perf_counter\n",
    "from  sklearn.manifold import SpectralEmbedding, MDS\n",
    "from hdimvis.metrics.distance_measures.euclidian_and_manhattan import euclidean"
   ]
  },
  {
   "cell_type": "code",
   "execution_count": 2,
   "outputs": [
    {
     "ename": "EOFError",
     "evalue": "Ran out of input",
     "output_type": "error",
     "traceback": [
      "\u001B[1;31m---------------------------------------------------------------------------\u001B[0m",
      "\u001B[1;31mEOFError\u001B[0m                                  Traceback (most recent call last)",
      "Cell \u001B[1;32mIn[2], line 6\u001B[0m\n\u001B[0;32m      4\u001B[0m path_to_pickle \u001B[38;5;241m=\u001B[39m (Path(output_dir)\u001B[38;5;241m.\u001B[39mjoinpath(Path(\u001B[38;5;124mf\u001B[39m\u001B[38;5;124m\"\u001B[39m\u001B[38;5;124mlayouts.pickle\u001B[39m\u001B[38;5;124m\"\u001B[39m)))\u001B[38;5;241m.\u001B[39mresolve()\n\u001B[0;32m      5\u001B[0m \u001B[38;5;28;01mwith\u001B[39;00m \u001B[38;5;28mopen\u001B[39m(path_to_pickle, \u001B[38;5;124m'\u001B[39m\u001B[38;5;124mrb\u001B[39m\u001B[38;5;124m'\u001B[39m) \u001B[38;5;28;01mas\u001B[39;00m file:\n\u001B[1;32m----> 6\u001B[0m     layouts \u001B[38;5;241m=\u001B[39m \u001B[43mpickle\u001B[49m\u001B[38;5;241;43m.\u001B[39;49m\u001B[43mload\u001B[49m\u001B[43m(\u001B[49m\u001B[43mfile\u001B[49m\u001B[43m)\u001B[49m\n\u001B[0;32m      7\u001B[0m \u001B[38;5;28mprint\u001B[39m(layouts)\n",
      "\u001B[1;31mEOFError\u001B[0m: Ran out of input"
     ]
    }
   ],
   "source": [
    "output_dir= (Path(PROJECT_ROOT).joinpath(\n",
    "    Path(f\"experiments/knnd/out/\"))).resolve().absolute()\n",
    "\n",
    "path_to_pickle = (Path(output_dir).joinpath(Path(f\"layouts.pickle\"))).resolve()\n",
    "with open(path_to_pickle, 'rb') as file:\n",
    "    layouts = pickle.load(file)\n",
    "print(layouts)"
   ],
   "metadata": {
    "collapsed": false
   }
  },
  {
   "cell_type": "code",
   "execution_count": null,
   "outputs": [],
   "source": [
    "for name, dict in layouts.items():\n",
    "    print(name)\n",
    "    for type, ls in dict.items():\n",
    "        print(type)\n",
    "        for l in ls:\n",
    "            show_layout(l, use_labels=True)\n"
   ],
   "metadata": {
    "collapsed": false
   }
  },
  {
   "cell_type": "code",
   "execution_count": 3,
   "outputs": [
    {
     "ename": "EOFError",
     "evalue": "Ran out of input",
     "output_type": "error",
     "traceback": [
      "\u001B[1;31m---------------------------------------------------------------------------\u001B[0m",
      "\u001B[1;31mEOFError\u001B[0m                                  Traceback (most recent call last)",
      "Cell \u001B[1;32mIn[3], line 6\u001B[0m\n\u001B[0;32m      4\u001B[0m path_to_pickle \u001B[38;5;241m=\u001B[39m (Path(output_dir)\u001B[38;5;241m.\u001B[39mjoinpath(Path(\u001B[38;5;124mf\u001B[39m\u001B[38;5;124m\"\u001B[39m\u001B[38;5;124mtimes.pickle\u001B[39m\u001B[38;5;124m\"\u001B[39m)))\u001B[38;5;241m.\u001B[39mresolve()\n\u001B[0;32m      5\u001B[0m \u001B[38;5;28;01mwith\u001B[39;00m \u001B[38;5;28mopen\u001B[39m(path_to_pickle, \u001B[38;5;124m'\u001B[39m\u001B[38;5;124mrb\u001B[39m\u001B[38;5;124m'\u001B[39m) \u001B[38;5;28;01mas\u001B[39;00m file:\n\u001B[1;32m----> 6\u001B[0m     times \u001B[38;5;241m=\u001B[39m \u001B[43mpickle\u001B[49m\u001B[38;5;241;43m.\u001B[39;49m\u001B[43mload\u001B[49m\u001B[43m(\u001B[49m\u001B[43mfile\u001B[49m\u001B[43m)\u001B[49m\n\u001B[0;32m      7\u001B[0m \u001B[38;5;28mprint\u001B[39m(times)\n",
      "\u001B[1;31mEOFError\u001B[0m: Ran out of input"
     ]
    }
   ],
   "source": [
    "output_dir= (Path(PROJECT_ROOT).joinpath(\n",
    "    Path(f\"experiments/knnd/out/\"))).resolve().absolute()\n",
    "\n",
    "path_to_pickle = (Path(output_dir).joinpath(Path(f\"times.pickle\"))).resolve()\n",
    "with open(path_to_pickle, 'rb') as file:\n",
    "    times = pickle.load(file)\n",
    "print(times)"
   ],
   "metadata": {
    "collapsed": false
   }
  },
  {
   "cell_type": "code",
   "execution_count": null,
   "outputs": [],
   "source": [
    "# rna N3k -  knnd first removed - outlier\n",
    "\n",
    "\n",
    "names = ['rna N3k','coli20', 'globe', 'fashion mnist', 'mnist']\n",
    "\n",
    "\n",
    "for name in names:\n",
    "    if name == 'rna N3k':\n",
    "        knnd = np.array(times[name]['knnd'])[1:]  # remove the outlier for rna n3k\n",
    "    else:\n",
    "        knnd = np.array(times[name]['knnd'])\n",
    "\n",
    "    no_knnd = np.array(times[name]['no knnd'])\n",
    "\n",
    "    print(f\"{name}:\"\n",
    "      f\"Mean kNNd: {np.mean(knnd)}, SD: {np.std(knnd)} \\n\"\n",
    "      f\"Mean no knnd {np.mean(no_knnd)}, SD: {np.std(no_knnd)} \\n\")\n",
    "    # tstat, pvalue = stats.ttest_ind(knnd, no_knnd[:,1], equal_var=False, alternative='greater')\n",
    "    # print(pvalue)\n",
    "    print('#'*20)\n"
   ],
   "metadata": {
    "collapsed": false
   }
  },
  {
   "cell_type": "code",
   "execution_count": null,
   "outputs": [],
   "source": [
    "# see what good bounds for k might be for knn classifier\n",
    "for dataset_name, version_dict in layouts:\n",
    "    print(dataset_name)\n",
    "    for j, version in enumerate(['knnd', 'no knnd']):\n",
    "        print(version)\n",
    "        for i,layout in enumerate(version_dict[version]):\n",
    "            print(i)\n",
    "            get_f1_for_best_k_with_knn(lower_bound=1, upper_bound=200,\n",
    "                                         cross_validation_folds=10,\n",
    "                                         data=layout.data,\n",
    "                                         labels=layout.labels,\n",
    "                                       show_averages=True)\n",
    "\n"
   ],
   "metadata": {
    "collapsed": false
   }
  },
  {
   "cell_type": "code",
   "execution_count": null,
   "outputs": [],
   "source": [
    "results_arr = np.zeros((5,2,20,3)) # 5 datasets, 2 version - knnd and not, 20 repeats, 3 stats\n",
    "\n",
    "for dataset_name, version_dict in layouts:\n",
    "    for j, version in enumerate(['knnd', 'no knnd']):\n",
    "        for i,layout in enumerate(version_dict[version]):\n",
    "            stress = layout.get_final_stress()\n",
    "            kmeans_f1 = get_kmeans_f1(layout.get_final_positions(), layout.labels)\n",
    "            f1_for_best_k_with_knn =  get_f1_for_best_k_with_knn(lower_bound=1, upper_bound=3,\n",
    "                                                                 cross_validation_folds=10,\n",
    "                                                                 data=layout.data,\n",
    "                                                                 labels=layout.labels)\n",
    "\n",
    "            results_arr[names.index(dataset_name),j,i,0] = stress\n",
    "            results_arr[names.index(dataset_name),j,i,1] = kmeans_f1\n",
    "            results_arr[names.index(dataset_name),j,i,2] = f1_for_best_k_with_knn\n",
    "\n",
    "\n",
    "# see the means\n",
    "for i in range(3):\n",
    "    means_arr = np.mean(results_arr[:,:,:,i], axis=2)\n",
    "\n",
    "\n",
    "# _, pvalues_stress = stats.ttest_ind(results_arr[:,0,:,0], results_arr[:,1,:,0],\n",
    "#                                     axis=1,equal_var=False,alternative='two sided' )\n",
    "# _, pvalues_kmeans = stats.ttest_ind(results_arr[:,0,:,1], results_arr[:,1,:,1],\n",
    "#                                     axis=1,equal_var=False,alternative='two sided' )\n",
    "# _, pvalues_knn = stats.ttest_ind(results_arr[:,0,:,2], results_arr[:,1,:,2],\n",
    "#                                     axis=1,equal_var=False,alternative='two sided' )"
   ],
   "metadata": {
    "collapsed": false
   }
  }
 ],
 "metadata": {
  "kernelspec": {
   "display_name": "Python 3",
   "language": "python",
   "name": "python3"
  },
  "language_info": {
   "codemirror_mode": {
    "name": "ipython",
    "version": 2
   },
   "file_extension": ".py",
   "mimetype": "text/x-python",
   "name": "python",
   "nbconvert_exporter": "python",
   "pygments_lexer": "ipython2",
   "version": "2.7.6"
  }
 },
 "nbformat": 4,
 "nbformat_minor": 0
}
