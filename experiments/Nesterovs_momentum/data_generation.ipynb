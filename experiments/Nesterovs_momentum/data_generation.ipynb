{
 "cells": [
  {
   "cell_type": "code",
   "execution_count": 1,
   "outputs": [],
   "source": [
    "from hdimvis.data_fetchers.DataFetcher import DataFetcher\n",
    "from hdimvis.algorithms.stochastic_ntet_algo.SNeD import SNeD\n",
    "from hdimvis.create_low_d_layout.LayoutCreation import LayoutCreation\n",
    "from sklearn.decomposition import PCA\n",
    "from sklearn.neighbors import KNeighborsClassifier\n",
    "from experiments.utils.get_avg_classwise_f1 import get_avg_classwise_f1\n",
    "from sklearn.cluster import KMeans\n",
    "import numpy as np\n",
    "from pathlib import Path\n",
    "from definitions import PROJECT_ROOT\n",
    "import pickle"
   ],
   "metadata": {
    "collapsed": false
   }
  },
  {
   "cell_type": "code",
   "execution_count": 2,
   "outputs": [
    {
     "name": "stdout",
     "output_type": "stream",
     "text": [
      "####################\n",
      "Fetching the \"rna N3k\" dataset\n",
      "####################\n",
      "Dataset loaded\n",
      "Dataset shape: (3000, 50)\n",
      "####################\n",
      "####################\n",
      "Fetching the \"coil20\" dataset\n",
      "####################\n",
      "Dataset loaded\n",
      "Dataset shape: (1440, 1024)\n",
      "####################\n",
      "####################\n",
      "Fetching the \"globe\" dataset\n",
      "####################\n",
      "Dataset loaded\n",
      "Dataset shape: (7003, 3)\n",
      "####################\n",
      "####################\n",
      "Fetching the \"fashion mnist\" dataset\n",
      "####################\n",
      "Dataset loaded\n",
      "Dataset shape: (7000, 784)\n",
      "####################\n",
      "####################\n",
      "Fetching the \"mnist\" dataset\n"
     ]
    },
    {
     "name": "stderr",
     "output_type": "stream",
     "text": [
      "C:\\Users\\Owner\\.virtualenvs\\2095736w-0SnFieZ0\\lib\\site-packages\\sklearn\\datasets\\_openml.py:932: FutureWarning: The default value of `parser` will change from `'liac-arff'` to `'auto'` in 1.4. You can set `parser='auto'` to silence this warning. Therefore, an `ImportError` will be raised from 1.4 if the dataset is dense and pandas is not installed. Note that the pandas parser may return different data types. See the Notes Section in fetch_openml's API doc for details.\n",
      "  warn(\n"
     ]
    },
    {
     "name": "stdout",
     "output_type": "stream",
     "text": [
      "####################\n",
      "Dataset loaded\n",
      "Dataset shape: (7000, 784)\n",
      "####################\n"
     ]
    }
   ],
   "source": [
    "rna = DataFetcher.fetch_data('rna N3k')\n",
    "coli20 =  DataFetcher.fetch_data('coil20')\n",
    "globe = DataFetcher.fetch_data('globe', size=7000)\n",
    "fmnist = DataFetcher.fetch_data('fashion mnist', size=7000)\n",
    "mnist = DataFetcher.fetch_data('mnist', size=7000)\n",
    "\n",
    "datasets = [rna, coli20,globe,fmnist, mnist]\n",
    "dataset_names = ['rna N3k', 'coli20', 'globe', 'fashion mnist', 'mnist']\n",
    "termination_values = [0.0129,0.015,0.0019,0.01128,0.0218]\n"
   ],
   "metadata": {
    "collapsed": false
   }
  },
  {
   "cell_type": "code",
   "execution_count": 3,
   "outputs": [],
   "source": [
    "layouts = {\"nesterov\": {name : [] for name in dataset_names}, \"no nesterov\": {name : [] for name in dataset_names}}\n"
   ],
   "metadata": {
    "collapsed": false
   }
  },
  {
   "cell_type": "code",
   "execution_count": 4,
   "outputs": [
    {
     "name": "stdout",
     "output_type": "stream",
     "text": [
      "####################\n",
      "A 2D layout of the \"rna N3k\" dataset will be created \n",
      "using the \"Stochastic N-tet Descent MDS\" algorithm\n",
      "####################\n",
      "The HD distance measure used is: euclidean\n",
      "####################\n",
      "\n",
      " Nesterov's momentum will be used by the algorithm \n",
      "\n",
      " \"N-tet\" size: 4\n",
      "####################\n",
      "\"Average n-tet stress\" will be measured on every iteration\n",
      "####################\n",
      "All stress calculations will be performed using the euclidian norm\n",
      "####################\n",
      "Iteration number: 0, Average n-tet stress 0\n",
      "Iteration number: 1, Average n-tet stress 0.03127451724766348\n",
      "Iteration number: 2, Average n-tet stress 0.02141015907626424\n",
      "Iteration number: 3, Average n-tet stress 0.02006237963697885\n",
      "Iteration number: 4, Average n-tet stress 0.019660702122682738\n",
      "Iteration number: 5, Average n-tet stress 0.018685530232995098\n",
      "Iteration number: 6, Average n-tet stress 0.019204285558826542\n",
      "Iteration number: 7, Average n-tet stress 0.019196428468748236\n",
      "Iteration number: 8, Average n-tet stress 0.019649392408049002\n",
      "Iteration number: 9, Average n-tet stress 0.02043417409387876\n",
      "Iteration number: 10, Average n-tet stress 0.018886062463763183\n",
      "Iteration number: 11, Average n-tet stress 0.019410688081840016\n",
      "Iteration number: 12, Average n-tet stress 0.019555664066507668\n",
      "Iteration number: 13, Average n-tet stress 0.017967762392276272\n",
      "Iteration number: 14, Average n-tet stress 0.018842552461941196\n",
      "Iteration number: 15, Average n-tet stress 0.018583450237436294\n",
      "Iteration number: 16, Average n-tet stress 0.017608606526257273\n",
      "Iteration number: 17, Average n-tet stress 0.018790849825816806\n",
      "Iteration number: 18, Average n-tet stress 0.017723162459733485\n",
      "Iteration number: 19, Average n-tet stress 0.018539627444784847\n",
      "Iteration number: 20, Average n-tet stress 0.018359885458403395\n",
      "Iteration number: 21, Average n-tet stress 0.0181150979527597\n",
      "Iteration number: 22, Average n-tet stress 0.016883628016685345\n",
      "Iteration number: 23, Average n-tet stress 0.017482591925822074\n",
      "Iteration number: 24, Average n-tet stress 0.017164110271460323\n",
      "Iteration number: 25, Average n-tet stress 0.01753368950114343\n",
      "Iteration number: 26, Average n-tet stress 0.017280512598819867\n",
      "Iteration number: 27, Average n-tet stress 0.01747791708501561\n",
      "Iteration number: 28, Average n-tet stress 0.016872110783495677\n",
      "Iteration number: 29, Average n-tet stress 0.017119554095197404\n",
      "Iteration number: 30, Average n-tet stress 0.017255935887664716\n",
      "Iteration number: 31, Average n-tet stress 0.016591436349505148\n",
      "Iteration number: 32, Average n-tet stress 0.01682774021287137\n",
      "Iteration number: 33, Average n-tet stress 0.017737985996463788\n",
      "Iteration number: 34, Average n-tet stress 0.017048731052880375\n",
      "Iteration number: 35, Average n-tet stress 0.017666080868698742\n",
      "Iteration number: 36, Average n-tet stress 0.01654987137333683\n",
      "Iteration number: 37, Average n-tet stress 0.016949435147213854\n",
      "Iteration number: 38, Average n-tet stress 0.015879070707172205\n",
      "Iteration number: 39, Average n-tet stress 0.016857790053862357\n",
      "Iteration number: 40, Average n-tet stress 0.016482578490284356\n",
      "Iteration number: 41, Average n-tet stress 0.015996728521472745\n",
      "Iteration number: 42, Average n-tet stress 0.017515806061494953\n",
      "Iteration number: 43, Average n-tet stress 0.01665739841388255\n",
      "Iteration number: 44, Average n-tet stress 0.01648420899816505\n",
      "Iteration number: 45, Average n-tet stress 0.01642104737807897\n",
      "Iteration number: 46, Average n-tet stress 0.016792012803890057\n",
      "Iteration number: 47, Average n-tet stress 0.016124730049383116\n",
      "Iteration number: 48, Average n-tet stress 0.01602864174556717\n",
      "Iteration number: 49, Average n-tet stress 0.016264431716821563\n",
      "Iteration number: 50, Average n-tet stress 0.016271318749135313\n",
      "Iteration number: 51, Average n-tet stress 0.015819063189884068\n",
      "Iteration number: 52, Average n-tet stress 0.016046589902964502\n",
      "Iteration number: 53, Average n-tet stress 0.01621733886108259\n",
      "Iteration number: 54, Average n-tet stress 0.015614960903151436\n",
      "Iteration number: 55, Average n-tet stress 0.016294371717467827\n",
      "Iteration number: 56, Average n-tet stress 0.016236141249828334\n",
      "Iteration number: 57, Average n-tet stress 0.016253248000213563\n",
      "Iteration number: 58, Average n-tet stress 0.015934695069984194\n",
      "Iteration number: 59, Average n-tet stress 0.015774871301100397\n",
      "Iteration number: 60, Average n-tet stress 0.01643612745477186\n",
      "Iteration number: 61, Average n-tet stress 0.01606170537246416\n",
      "Iteration number: 62, Average n-tet stress 0.015917709627668045\n",
      "Iteration number: 63, Average n-tet stress 0.015851009427860285\n",
      "Iteration number: 64, Average n-tet stress 0.015756020142078823\n",
      "Iteration number: 65, Average n-tet stress 0.015195861917344662\n",
      "Iteration number: 66, Average n-tet stress 0.015787098325337083\n",
      "Iteration number: 67, Average n-tet stress 0.016563103831453818\n",
      "Iteration number: 68, Average n-tet stress 0.01528040325297327\n",
      "Iteration number: 69, Average n-tet stress 0.015195174796045305\n",
      "Iteration number: 70, Average n-tet stress 0.015304704954318312\n",
      "Iteration number: 71, Average n-tet stress 0.015381963917046227\n",
      "Iteration number: 72, Average n-tet stress 0.014745898528782045\n",
      "Iteration number: 73, Average n-tet stress 0.015090340944123329\n",
      "Iteration number: 74, Average n-tet stress 0.015549863133483683\n",
      "Iteration number: 75, Average n-tet stress 0.016136722833449482\n",
      "Iteration number: 76, Average n-tet stress 0.015237027305580485\n",
      "Iteration number: 77, Average n-tet stress 0.015254459237590296\n",
      "Iteration number: 78, Average n-tet stress 0.01568944177652668\n",
      "Iteration number: 79, Average n-tet stress 0.015215006038307697\n",
      "Iteration number: 80, Average n-tet stress 0.014710018336913842\n",
      "Iteration number: 81, Average n-tet stress 0.0153106160641699\n",
      "Iteration number: 82, Average n-tet stress 0.015692921669971157\n",
      "Iteration number: 83, Average n-tet stress 0.01540394703644857\n",
      "Iteration number: 84, Average n-tet stress 0.014985846936268421\n",
      "Iteration number: 85, Average n-tet stress 0.015799304988640343\n",
      "Iteration number: 86, Average n-tet stress 0.015846608140954368\n",
      "Iteration number: 87, Average n-tet stress 0.014932229392790715\n",
      "Iteration number: 88, Average n-tet stress 0.014978042700403836\n",
      "Iteration number: 89, Average n-tet stress 0.01508865876677038\n",
      "Iteration number: 90, Average n-tet stress 0.015172780156335225\n",
      "Iteration number: 91, Average n-tet stress 0.015574938485019207\n",
      "Iteration number: 92, Average n-tet stress 0.014959848943659098\n",
      "Iteration number: 93, Average n-tet stress 0.015094240543343065\n"
     ]
    },
    {
     "ename": "KeyboardInterrupt",
     "evalue": "",
     "output_type": "error",
     "traceback": [
      "\u001B[1;31m---------------------------------------------------------------------------\u001B[0m",
      "\u001B[1;31mKeyboardInterrupt\u001B[0m                         Traceback (most recent call last)",
      "Cell \u001B[1;32mIn[4], line 10\u001B[0m\n\u001B[0;32m      8\u001B[0m \u001B[38;5;28;01mfor\u001B[39;00m i \u001B[38;5;129;01min\u001B[39;00m \u001B[38;5;28mrange\u001B[39m(num_repeats):\n\u001B[0;32m      9\u001B[0m     squad \u001B[38;5;241m=\u001B[39m SNeD(dataset\u001B[38;5;241m=\u001B[39mdataset, initial_layout\u001B[38;5;241m=\u001B[39mXld, use_nesterovs_momentum\u001B[38;5;241m=\u001B[39m\u001B[38;5;28;01mTrue\u001B[39;00m, ntet_size\u001B[38;5;241m=\u001B[39m\u001B[38;5;241m4\u001B[39m)\n\u001B[1;32m---> 10\u001B[0m     layout_squad \u001B[38;5;241m=\u001B[39m \u001B[43mLayoutCreation\u001B[49m\u001B[38;5;241;43m.\u001B[39;49m\u001B[43mcreate_layout\u001B[49m\u001B[43m(\u001B[49m\u001B[43msquad\u001B[49m\u001B[43m,\u001B[49m\u001B[43m \u001B[49m\u001B[43mterminate_at\u001B[49m\u001B[43m \u001B[49m\u001B[38;5;241;43m=\u001B[39;49m\u001B[43m \u001B[49m\u001B[43mtermination_values\u001B[49m\u001B[43m[\u001B[49m\u001B[43mj\u001B[49m\u001B[43m]\u001B[49m\u001B[43m,\u001B[49m\u001B[43moptional_metric_collection\u001B[49m\u001B[38;5;241;43m=\u001B[39;49m\u001B[43mmetric_collection\u001B[49m\u001B[43m)\u001B[49m\n\u001B[0;32m     11\u001B[0m     layouts[\u001B[38;5;124m'\u001B[39m\u001B[38;5;124mnesterov\u001B[39m\u001B[38;5;124m'\u001B[39m][dataset_names[j]]\u001B[38;5;241m.\u001B[39mappend(layout_squad)\n\u001B[0;32m     13\u001B[0m     squad2 \u001B[38;5;241m=\u001B[39m SNeD(dataset\u001B[38;5;241m=\u001B[39mdataset, initial_layout\u001B[38;5;241m=\u001B[39mXld, use_nesterovs_momentum\u001B[38;5;241m=\u001B[39m\u001B[38;5;28;01mFalse\u001B[39;00m, ntet_size\u001B[38;5;241m=\u001B[39m\u001B[38;5;241m4\u001B[39m)\n",
      "File \u001B[1;32m~\\Desktop\\2095736w\\hdimvis\\create_low_d_layout\\LayoutCreation.py:92\u001B[0m, in \u001B[0;36mLayoutCreation.create_layout\u001B[1;34m(algorithm, no_iters, optional_metric_collection, **additional_parameters)\u001B[0m\n\u001B[0;32m     89\u001B[0m     \u001B[38;5;28mprint\u001B[39m(\u001B[38;5;124mf\u001B[39m\u001B[38;5;124m\"\u001B[39m\u001B[38;5;124mSpring constant scaling factor is set to \u001B[39m\u001B[38;5;132;01m{\u001B[39;00mlayout\u001B[38;5;241m.\u001B[39malgorithm\u001B[38;5;241m.\u001B[39msc_scaling_factor\u001B[38;5;132;01m}\u001B[39;00m\u001B[38;5;124m \u001B[39m\u001B[38;5;124m\"\u001B[39m)\n\u001B[0;32m     90\u001B[0m     \u001B[38;5;28mprint\u001B[39m(\u001B[38;5;124m\"\u001B[39m\u001B[38;5;124m#\u001B[39m\u001B[38;5;124m\"\u001B[39m \u001B[38;5;241m*\u001B[39m \u001B[38;5;241m20\u001B[39m)\n\u001B[1;32m---> 92\u001B[0m \u001B[43mlayout\u001B[49m\u001B[38;5;241;43m.\u001B[39;49m\u001B[43mrun\u001B[49m\u001B[43m(\u001B[49m\u001B[43m)\u001B[49m\n\u001B[0;32m     93\u001B[0m \u001B[38;5;28;01mreturn\u001B[39;00m layout\n",
      "File \u001B[1;32m~\\Desktop\\2095736w\\hdimvis\\create_low_d_layout\\SNeDLayout.py:78\u001B[0m, in \u001B[0;36mSNeDLayout.run\u001B[1;34m(self)\u001B[0m\n\u001B[0;32m     75\u001B[0m \u001B[38;5;28;01mif\u001B[39;00m \u001B[38;5;28mself\u001B[39m\u001B[38;5;241m.\u001B[39miteration_number \u001B[38;5;241m==\u001B[39m stop_d_exa:\n\u001B[0;32m     76\u001B[0m     \u001B[38;5;28mself\u001B[39m\u001B[38;5;241m.\u001B[39mexaggerate_D \u001B[38;5;241m=\u001B[39m \u001B[38;5;28;01mFalse\u001B[39;00m\n\u001B[1;32m---> 78\u001B[0m \u001B[38;5;28;43mself\u001B[39;49m\u001B[38;5;241;43m.\u001B[39;49m\u001B[43malgorithm\u001B[49m\u001B[38;5;241;43m.\u001B[39;49m\u001B[43mone_iteration\u001B[49m\u001B[43m(\u001B[49m\u001B[38;5;28;43mself\u001B[39;49m\u001B[38;5;241;43m.\u001B[39;49m\u001B[43mexaggerate_D\u001B[49m\u001B[43m,\u001B[49m\u001B[43m \u001B[49m\u001B[38;5;28;43mself\u001B[39;49m\u001B[38;5;241;43m.\u001B[39;49m\u001B[43mLR\u001B[49m\u001B[43m,\u001B[49m\u001B[43m \u001B[49m\u001B[43mcalculate_ntet_stress\u001B[49m\u001B[43m)\u001B[49m\n\u001B[0;32m     79\u001B[0m \u001B[38;5;28;01mif\u001B[39;00m \u001B[38;5;28mself\u001B[39m\u001B[38;5;241m.\u001B[39moptional_metric_collection \u001B[38;5;129;01mis\u001B[39;00m \u001B[38;5;129;01mnot\u001B[39;00m \u001B[38;5;28;01mNone\u001B[39;00m:\n\u001B[0;32m     80\u001B[0m     \u001B[38;5;28mself\u001B[39m\u001B[38;5;241m.\u001B[39mcollect_metrics()\n",
      "File \u001B[1;32m~\\Desktop\\2095736w\\hdimvis\\algorithms\\stochastic_ntet_algo\\SNeD.py:73\u001B[0m, in \u001B[0;36mSNeD.one_iteration\u001B[1;34m(self, exaggerate_dist, LR, calculate_average_stress)\u001B[0m\n\u001B[0;32m     70\u001B[0m HD_points \u001B[38;5;241m=\u001B[39m \u001B[38;5;28mself\u001B[39m\u001B[38;5;241m.\u001B[39mdata[quartet]\n\u001B[0;32m     72\u001B[0m \u001B[38;5;66;03m# HD distances between quartet points\u001B[39;00m\n\u001B[1;32m---> 73\u001B[0m Dhd_quartet \u001B[38;5;241m=\u001B[39m \u001B[43mcompute_quartet_dhd\u001B[49m\u001B[43m(\u001B[49m\u001B[43mexaggerate_dist\u001B[49m\u001B[43m,\u001B[49m\u001B[43m \u001B[49m\u001B[43mHD_points\u001B[49m\u001B[43m,\u001B[49m\u001B[43m \u001B[49m\u001B[38;5;28;43mself\u001B[39;49m\u001B[38;5;241;43m.\u001B[39;49m\u001B[43mdistance_fn\u001B[49m\u001B[43m)\u001B[49m\n\u001B[0;32m     75\u001B[0m \u001B[38;5;66;03m# LD distances between quartet points and, including a full n_tet x n_tet sized matrix for grad computation\u001B[39;00m\n\u001B[0;32m     76\u001B[0m Dld_full_matrix, Dld_quartet \u001B[38;5;241m=\u001B[39m compute_quartet_dld(LD_points)\n",
      "File \u001B[1;32m~\\Desktop\\2095736w\\hdimvis\\algorithms\\stochastic_ntet_algo\\new_distance_calculations.py:9\u001B[0m, in \u001B[0;36mcompute_quartet_dhd\u001B[1;34m(exaggerate_dist, HD_points, distance_fn)\u001B[0m\n\u001B[0;32m      8\u001B[0m \u001B[38;5;28;01mdef\u001B[39;00m \u001B[38;5;21mcompute_quartet_dhd\u001B[39m(exaggerate_dist: \u001B[38;5;28mbool\u001B[39m, HD_points: np\u001B[38;5;241m.\u001B[39mndarray, distance_fn :Callable):\n\u001B[1;32m----> 9\u001B[0m     Dhd_full_matrix \u001B[38;5;241m=\u001B[39m \u001B[43mdistance_fn\u001B[49m\u001B[43m(\u001B[49m\u001B[43mHD_points\u001B[49m\u001B[43m[\u001B[49m\u001B[43m:\u001B[49m\u001B[43m,\u001B[49m\u001B[43m \u001B[49m\u001B[43m:\u001B[49m\u001B[43m,\u001B[49m\u001B[43m \u001B[49m\u001B[43mnp\u001B[49m\u001B[38;5;241;43m.\u001B[39;49m\u001B[43mnewaxis\u001B[49m\u001B[43m]\u001B[49m\u001B[43m \u001B[49m\u001B[38;5;241;43m-\u001B[39;49m\u001B[43m \u001B[49m\u001B[43mHD_points\u001B[49m\u001B[43m[\u001B[49m\u001B[43m:\u001B[49m\u001B[43m,\u001B[49m\u001B[43m \u001B[49m\u001B[43m:\u001B[49m\u001B[43m,\u001B[49m\u001B[43m \u001B[49m\u001B[43mnp\u001B[49m\u001B[38;5;241;43m.\u001B[39;49m\u001B[43mnewaxis\u001B[49m\u001B[43m]\u001B[49m\u001B[38;5;241;43m.\u001B[39;49m\u001B[43mT\u001B[49m\u001B[43m,\u001B[49m\u001B[43m \u001B[49m\u001B[38;5;241;43m1\u001B[39;49m\u001B[43m)\u001B[49m\n\u001B[0;32m     11\u001B[0m     \u001B[38;5;28;01mif\u001B[39;00m exaggerate_dist:     \u001B[38;5;66;03m# during exaggeration: don't take the square root of the distances\u001B[39;00m\n\u001B[0;32m     12\u001B[0m         Dhd_full_matrix \u001B[38;5;241m=\u001B[39m Dhd_full_matrix\u001B[38;5;241m*\u001B[39m\u001B[38;5;241m*\u001B[39m\u001B[38;5;241m2\u001B[39m\n",
      "File \u001B[1;32m~\\Desktop\\2095736w\\hdimvis\\metrics\\distance_measures\\euclidian_and_manhattan.py:4\u001B[0m, in \u001B[0;36meuclidean\u001B[1;34m(arr, axis)\u001B[0m\n\u001B[0;32m      1\u001B[0m \u001B[38;5;28;01mimport\u001B[39;00m \u001B[38;5;21;01mnumpy\u001B[39;00m \u001B[38;5;28;01mas\u001B[39;00m \u001B[38;5;21;01mnp\u001B[39;00m\n\u001B[0;32m      3\u001B[0m \u001B[38;5;66;03m# the axis parameter allows us to vectorise calculations\u001B[39;00m\n\u001B[1;32m----> 4\u001B[0m \u001B[38;5;28;01mdef\u001B[39;00m \u001B[38;5;21meuclidean\u001B[39m(arr: np\u001B[38;5;241m.\u001B[39mndarray,  axis: \u001B[38;5;28mint\u001B[39m \u001B[38;5;241m=\u001B[39m \u001B[38;5;241m0\u001B[39m) \u001B[38;5;241m-\u001B[39m\u001B[38;5;241m>\u001B[39m \u001B[38;5;28mfloat\u001B[39m \u001B[38;5;241m|\u001B[39m np\u001B[38;5;241m.\u001B[39mndarray:\n\u001B[0;32m      6\u001B[0m     \u001B[38;5;28;01mreturn\u001B[39;00m np\u001B[38;5;241m.\u001B[39mlinalg\u001B[38;5;241m.\u001B[39mnorm(arr, axis\u001B[38;5;241m=\u001B[39maxis)\n\u001B[0;32m      9\u001B[0m \u001B[38;5;28;01mdef\u001B[39;00m \u001B[38;5;21mmanhattan\u001B[39m(arr: np\u001B[38;5;241m.\u001B[39mndarray, axis : \u001B[38;5;28mint\u001B[39m \u001B[38;5;241m=\u001B[39m \u001B[38;5;241m0\u001B[39m) \u001B[38;5;241m-\u001B[39m\u001B[38;5;241m>\u001B[39m \u001B[38;5;28mfloat\u001B[39m \u001B[38;5;241m|\u001B[39m np\u001B[38;5;241m.\u001B[39mndarray:\n",
      "\u001B[1;31mKeyboardInterrupt\u001B[0m: "
     ]
    }
   ],
   "source": [
    "num_repeats = 20\n",
    "metric_collection = {\"Average n-tet stress\": 1}\n",
    "\n",
    "for j,dataset in enumerate(datasets):\n",
    "    Xld = PCA(n_components=2, whiten=False, copy=True).fit_transform(dataset.data).astype(np.float64)\n",
    "    Xld *= 10/np.std(Xld)\n",
    "\n",
    "    for i in range(num_repeats):\n",
    "        squad = SNeD(dataset=dataset, initial_layout=Xld, use_nesterovs_momentum=True, ntet_size=4)\n",
    "        layout_squad = LayoutCreation.create_layout(squad, terminate_at = termination_values[j],optional_metric_collection=metric_collection)\n",
    "        layouts['nesterov'][dataset_names[j]].append(layout_squad)\n",
    "\n",
    "        squad2 = SNeD(dataset=dataset, initial_layout=Xld, use_nesterovs_momentum=False, ntet_size=4)\n",
    "        layout_squad2 = LayoutCreation.create_layout(squad2, terminate_at = termination_values[j],\n",
    "                                                     optional_metric_collection=metric_collection)\n",
    "        layouts['no nesterov'][dataset_names[j]].append(layout_squad2)\n",
    "\n",
    "\n",
    "\n",
    "output_dir= (Path(PROJECT_ROOT).joinpath(\n",
    "    Path(f\"experiments/Nesterovs_momentum/out/\"))).resolve().absolute()\n",
    "\n",
    "path_to_pickle = (Path(output_dir).joinpath(Path(f\"layouts.pickle\"))).resolve()\n",
    "with open(path_to_pickle, 'wb') as pickle_out:\n",
    "    pickle.dump(layouts, pickle_out)\n"
   ],
   "metadata": {
    "collapsed": false
   }
  }
 ],
 "metadata": {
  "kernelspec": {
   "display_name": "Python 3",
   "language": "python",
   "name": "python3"
  },
  "language_info": {
   "codemirror_mode": {
    "name": "ipython",
    "version": 2
   },
   "file_extension": ".py",
   "mimetype": "text/x-python",
   "name": "python",
   "nbconvert_exporter": "python",
   "pygments_lexer": "ipython2",
   "version": "2.7.6"
  }
 },
 "nbformat": 4,
 "nbformat_minor": 0
}
