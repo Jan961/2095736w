{
 "cells": [
  {
   "cell_type": "code",
   "execution_count": null,
   "metadata": {
    "collapsed": true
   },
   "outputs": [],
   "source": [
    "from hdimvis.data_fetchers.DataFetcher import DataFetcher\n",
    "from hdimvis.metrics.distance_measures.euclidian_and_manhattan import manhattan,euclidean\n",
    "from hdimvis.algorithms.spring_force_algos.chalmers96_algo.Chalmers96 import Chalmers96\n",
    "from hdimvis.create_low_d_layout.LayoutCreation import LayoutCreation\n",
    "from hdimvis.visualise_layouts_and_metrics.plot import show_layout, show_generation_metrics\n",
    "from sklearn.decomposition import PCA\n",
    "import numpy as np\n",
    "from experiments.cube.Cube import Cube\n",
    "from sklearn.decomposition import PCA\n",
    "from hdimvis.algorithms.stochastic_ntet_algo.SNeD import SNeD\n",
    "from hdimvis.create_low_d_layout.LayoutCreation import LayoutCreation\n",
    "from hdimvis.data_fetchers.DataFetcher import DataFetcher\n",
    "from hdimvis.visualise_layouts_and_metrics.plot import show_layout, show_generation_metrics\n",
    "from hdimvis.metrics.distance_measures.euclidian_and_manhattan import manhattan\n",
    "import numpy as np\n",
    "import matplotlib.pyplot as plt\n",
    "from experiments.cube.Cube import Cube\n",
    "from pathlib import Path\n",
    "from definitions import PROJECT_ROOT\n",
    "import pickle"
   ]
  },
  {
   "cell_type": "code",
   "execution_count": null,
   "outputs": [],
   "source": [
    "#Datasets list: 'mnist', 'bonds', 'coil20', 'rna N3k', 'airfoil', 'wine quality', 'fashion mnist' 'shuttle', 'flow cytometry', 'mock data', 'globe', 'cancer RNA', 'metro'"
   ],
   "metadata": {
    "collapsed": false
   }
  },
  {
   "cell_type": "code",
   "execution_count": null,
   "outputs": [],
   "source": [
    "\n",
    "dataset = DataFetcher.fetch_data('rna N3k')\n",
    "metric_collection = {'Average speed': 1, \"Stress\": 20}\n"
   ],
   "metadata": {
    "collapsed": false
   }
  },
  {
   "cell_type": "code",
   "execution_count": null,
   "outputs": [],
   "source": [
    "Xld = PCA(n_components=2, whiten=False, copy=True).fit_transform(dataset.data).astype(np.float64)\n",
    "Xld *= 10/np.std(Xld)\n",
    "\n",
    "show_layout(positions=Xld, labels=dataset.labels, title=\"PCA\")"
   ],
   "metadata": {
    "collapsed": false
   }
  },
  {
   "cell_type": "code",
   "execution_count": null,
   "outputs": [],
   "source": [
    "zero_initial = np.zeros((dataset.data.shape[0], 2))\n",
    "\n",
    "algo96 = Chalmers96(dataset=dataset,  distance_fn=euclidean, initial_layout=zero_initial,\n",
    "                    damping_constant=0, spring_constant=0.5,\n",
    "                    use_knnd=False, sample_set_size=10, neighbour_set_size=5)\n",
    "\n",
    "\n",
    "layout = LayoutCreation.create_layout(algo96, optional_metric_collection=None, num_iters=100, )"
   ],
   "metadata": {
    "collapsed": false
   }
  },
  {
   "cell_type": "code",
   "execution_count": null,
   "outputs": [],
   "source": [
    "show_layout(layout, use_labels=True, color_map='rainbow')\n",
    "show_generation_metrics(layout=layout, average_speed=True, iters_from=20)"
   ],
   "metadata": {
    "collapsed": false
   }
  },
  {
   "cell_type": "code",
   "execution_count": null,
   "outputs": [],
   "source": [
    "metric_collection_squad = { \"Average n-tet stress\": 1, \"Stress\": 300}\n",
    "\n",
    "\n",
    "squad = SNeD(dataset=dataset, initial_layout=Xld, use_nesterovs_momentum=True, ntet_size=4, is_test=True, use_rbf_adjustment=False)\n",
    "layout = LayoutCreation.create_layout(squad, num_iters=1000, optional_metric_collection=metric_collection_squad, use_decay=False)\n"
   ],
   "metadata": {
    "collapsed": false
   }
  },
  {
   "cell_type": "code",
   "execution_count": null,
   "outputs": [],
   "source": [
    "show_layout(layout, use_labels=True, title=f\"SNeD\")\n",
    "show_generation_metrics(layout, quartet_stress=True, title=f\"SNeD\" )"
   ],
   "metadata": {
    "collapsed": false
   }
  }
 ],
 "metadata": {
  "kernelspec": {
   "display_name": "Python 3",
   "language": "python",
   "name": "python3"
  },
  "language_info": {
   "codemirror_mode": {
    "name": "ipython",
    "version": 2
   },
   "file_extension": ".py",
   "mimetype": "text/x-python",
   "name": "python",
   "nbconvert_exporter": "python",
   "pygments_lexer": "ipython2",
   "version": "2.7.6"
  }
 },
 "nbformat": 4,
 "nbformat_minor": 0
}
