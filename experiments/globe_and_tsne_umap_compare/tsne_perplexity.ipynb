{
 "cells": [
  {
   "cell_type": "code",
   "execution_count": 9,
   "metadata": {
    "collapsed": true
   },
   "outputs": [],
   "source": [
    "from sklearn.manifold import TSNE\n",
    "import numpy as np\n",
    "from hdimvis.data_fetchers.DataFetcher import DataFetcher\n",
    "from time import perf_counter\n",
    "from pathlib import Path\n",
    "import pickle\n",
    "\n"
   ]
  },
  {
   "cell_type": "markdown",
   "source": [],
   "metadata": {
    "collapsed": false
   }
  },
  {
   "cell_type": "code",
   "execution_count": 12,
   "outputs": [
    {
     "name": "stdout",
     "output_type": "stream",
     "text": [
      "####################\n",
      "Fetching the \"globe\" dataset\n",
      "####################\n",
      "Dataset loaded\n",
      "Dataset shape: (5002, 3)\n",
      "####################\n"
     ]
    }
   ],
   "source": [
    "dataset = DataFetcher.fetch_data('globe', size= 10000)"
   ],
   "metadata": {
    "collapsed": false
   }
  },
  {
   "cell_type": "code",
   "execution_count": 13,
   "outputs": [
    {
     "name": "stdout",
     "output_type": "stream",
     "text": [
      "0\n",
      "1\n",
      "2\n",
      "3\n",
      "1\n",
      "1\n",
      "2\n",
      "3\n",
      "2\n",
      "1\n",
      "2\n",
      "3\n",
      "3\n",
      "1\n",
      "2\n",
      "3\n",
      "4\n",
      "1\n",
      "2\n",
      "3\n",
      "5\n",
      "1\n",
      "2\n",
      "3\n",
      "6\n",
      "1\n",
      "2\n",
      "3\n",
      "7\n",
      "1\n",
      "2\n",
      "3\n",
      "8\n",
      "1\n",
      "2\n",
      "3\n",
      "9\n",
      "1\n",
      "2\n",
      "3\n",
      "[[1.00000000e+01 6.60276995e+04 6.60361094e+04 6.60444785e+04]\n",
      " [2.86666667e+02 6.60774264e+04 6.61109606e+04 6.61444315e+04]\n",
      " [5.63333333e+02 6.62049375e+04 6.62680735e+04 6.63279230e+04]\n",
      " [8.40000000e+02 6.64147799e+04 6.64990872e+04 6.65843561e+04]\n",
      " [1.11666667e+03 6.66856714e+04 6.67879826e+04 6.68938852e+04]\n",
      " [1.39333333e+03 6.70105387e+04 6.71281048e+04 6.72471061e+04]\n",
      " [1.67000000e+03 6.73188088e+04 6.73903952e+04 6.74633122e+04]\n",
      " [1.94666667e+03 6.75584574e+04 6.76540663e+04 6.77539394e+04]\n",
      " [2.22333333e+03 6.78814844e+04 6.80107440e+04 6.81402610e+04]\n",
      " [2.50000000e+03 6.82113738e+04 6.82835450e+04 6.83579524e+04]]\n"
     ]
    }
   ],
   "source": [
    "from definitions import PROJECT_ROOT\n",
    "\n",
    "perplex_values = np.linspace(10, 5000, 10)\n",
    "num_repeats = 3\n",
    "results = np.zeros((10, 4))\n",
    "\n",
    "for i, value in enumerate(perplex_values):\n",
    "    print(i)\n",
    "    results[i,0] = value\n",
    "    for j in range(1, num_repeats+1):\n",
    "        print(j)\n",
    "        start= perf_counter()\n",
    "        tsne_layout = TSNE(n_components=2, perplexity=value).fit_transform(dataset.data)\n",
    "        results[i,j] = perf_counter()\n",
    "\n",
    "print(results)\n",
    "output_dir= (Path(PROJECT_ROOT).joinpath(\n",
    "    Path(f\"experiments/globe_and_tsne_umap_compare/out/\"))).resolve().absolute()\n",
    "\n",
    "path_to_pickle = (Path(output_dir).joinpath(Path(f\"tsne_perplex.pickle\"))).resolve()\n",
    "with open(path_to_pickle, 'wb') as pickle_out:\n",
    "    pickle.dump(results, pickle_out)"
   ],
   "metadata": {
    "collapsed": false
   }
  }
 ],
 "metadata": {
  "kernelspec": {
   "display_name": "Python 3",
   "language": "python",
   "name": "python3"
  },
  "language_info": {
   "codemirror_mode": {
    "name": "ipython",
    "version": 2
   },
   "file_extension": ".py",
   "mimetype": "text/x-python",
   "name": "python",
   "nbconvert_exporter": "python",
   "pygments_lexer": "ipython2",
   "version": "2.7.6"
  }
 },
 "nbformat": 4,
 "nbformat_minor": 0
}
