{
 "cells": [
  {
   "cell_type": "code",
   "execution_count": 1,
   "metadata": {
    "collapsed": true
   },
   "outputs": [],
   "source": [
    "import numpy as np\n",
    "import matplotlib.pyplot as plt\n",
    "from experiments.utils.running_mean import smooth_running_mean"
   ]
  },
  {
   "cell_type": "code",
   "execution_count": 5,
   "outputs": [],
   "source": [
    "names_list = ['trio', 'quartet', 'quintet', 'sextet', 'septet', 'octet','nonet', 'decet',\n",
    "                'duodecet','quindecet', 'vigintet','trigintet','quinquagintet']\n",
    "ntet_sizes = [3,4,5,6,7,8,9,10,12,15,20,30,50]\n",
    "\n",
    "file_names= ['coil20','rna N3k', '3d cube of 30^3 points - 3000 points sampled']\n"
   ],
   "metadata": {
    "collapsed": false
   }
  },
  {
   "cell_type": "code",
   "execution_count": 8,
   "outputs": [
    {
     "name": "stdout",
     "output_type": "stream",
     "text": [
      "[ 2.33333333  4.          5.          6.          7.          8.\n",
      "  9.         10.33333333 12.33333333 15.66666667 21.66666667 33.33333333\n",
      " 26.66666667]\n",
      "[ 3.          3.5         5.          6.          7.          8.\n",
      "  9.         10.33333333 12.33333333 15.66666667 21.66666667 25.\n",
      " 30.        ]\n",
      "[  3.   7.  12.  18.  25.  33.  42.  52.  64.  79.  99. 129. 179.]\n",
      "[  3.   7.  12.  15.  18.  21.  24.  27.  31.  37.  47.  65. 100.]\n",
      "[ 4.          5.          6.          7.          8.          9.\n",
      " 10.33333333 12.33333333 15.66666667 21.66666667 33.33333333]\n"
     ]
    }
   ],
   "source": [],
   "metadata": {
    "collapsed": false
   }
  }
 ],
 "metadata": {
  "kernelspec": {
   "display_name": "Python 3",
   "language": "python",
   "name": "python3"
  },
  "language_info": {
   "codemirror_mode": {
    "name": "ipython",
    "version": 2
   },
   "file_extension": ".py",
   "mimetype": "text/x-python",
   "name": "python",
   "nbconvert_exporter": "python",
   "pygments_lexer": "ipython2",
   "version": "2.7.6"
  }
 },
 "nbformat": 4,
 "nbformat_minor": 0
}
