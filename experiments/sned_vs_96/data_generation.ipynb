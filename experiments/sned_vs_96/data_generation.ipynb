{
 "cells": [
  {
   "cell_type": "code",
   "execution_count": 1,
   "metadata": {
    "collapsed": true
   },
   "outputs": [],
   "source": [
    "import numpy as np\n",
    "\n",
    "from experiments.utils.SimpleComparison import SimpleComparison\n",
    "from hdimvis.algorithms.spring_force_algos.chalmers96_algo.Chalmers96 import Chalmers96\n",
    "from hdimvis.visualise_layouts_and_metrics.plot import show_layout,show_generation_metrics\n",
    "from hdimvis.algorithms.stochastic_ntet_algo.SNeD import SNeD\n",
    "from sklearn.cluster import KMeans\n",
    "from sklearn.metrics import f1_score\n",
    "from pathlib import Path\n",
    "from definitions import PROJECT_ROOT"
   ]
  },
  {
   "cell_type": "code",
   "execution_count": null,
   "outputs": [],
   "source": [
    "datasets = [\"rna N3k\", \"coil20\", 'globe','fashion mnist', 'mnist']\n",
    "results = {dataset : {metric: [] for metric in [\"Stress\", \"k-Means F1\", \"kNN\"]} for dataset in datasets}"
   ],
   "metadata": {
    "collapsed": false
   }
  },
  {
   "cell_type": "code",
   "execution_count": null,
   "outputs": [],
   "source": [
    "\n",
    "\n",
    "\n"
   ],
   "metadata": {
    "collapsed": false
   }
  }
 ],
 "metadata": {
  "kernelspec": {
   "display_name": "Python 3",
   "language": "python",
   "name": "python3"
  },
  "language_info": {
   "codemirror_mode": {
    "name": "ipython",
    "version": 2
   },
   "file_extension": ".py",
   "mimetype": "text/x-python",
   "name": "python",
   "nbconvert_exporter": "python",
   "pygments_lexer": "ipython2",
   "version": "2.7.6"
  }
 },
 "nbformat": 4,
 "nbformat_minor": 0
}
