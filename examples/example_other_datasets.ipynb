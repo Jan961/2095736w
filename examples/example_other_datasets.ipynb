{
 "cells": [
  {
   "cell_type": "code",
   "execution_count": null,
   "metadata": {
    "collapsed": true
   },
   "outputs": [],
   "source": [
    "from hdimvis.data_fetchers.DataFetcher import DataFetcher\n",
    "from hdimvis.metrics.distance_measures.euclidian_and_manhattan import manhattan,euclidean\n",
    "from hdimvis.algorithms.spring_force_algos.chalmers96_algo.Chalmers96 import Chalmers96\n",
    "from hdimvis.create_low_d_layout.LayoutCreation import LayoutCreation\n",
    "from hdimvis.visualise_layouts_and_metrics.plot import show_layout, show_generation_metrics\n",
    "from sklearn.decomposition import PCA\n",
    "import numpy as np\n",
    "from experiments.cube.Cube import Cube\n",
    "from sklearn.decomposition import PCA\n",
    "from hdimvis.algorithms.stochastic_ntet_algo.SNeD import SNeD\n",
    "from hdimvis.create_low_d_layout.LayoutCreation import LayoutCreation\n",
    "from hdimvis.data_fetchers.DataFetcher import DataFetcher\n",
    "from hdimvis.visualise_layouts_and_metrics.plot import show_layout, show_generation_metrics\n",
    "from hdimvis.metrics.distance_measures.euclidian_and_manhattan import manhattan\n",
    "import numpy as np\n",
    "import matplotlib.pyplot as plt\n",
    "from experiments.cube.Cube import Cube\n",
    "from pathlib import Path\n",
    "from definitions import PROJECT_ROOT\n",
    "import pickle"
   ]
  },
  {
   "cell_type": "code",
   "execution_count": null,
   "outputs": [],
   "source": [],
   "metadata": {
    "collapsed": false
   }
  }
 ],
 "metadata": {
  "kernelspec": {
   "display_name": "Python 3",
   "language": "python",
   "name": "python3"
  },
  "language_info": {
   "codemirror_mode": {
    "name": "ipython",
    "version": 2
   },
   "file_extension": ".py",
   "mimetype": "text/x-python",
   "name": "python",
   "nbconvert_exporter": "python",
   "pygments_lexer": "ipython2",
   "version": "2.7.6"
  }
 },
 "nbformat": 4,
 "nbformat_minor": 0
}
