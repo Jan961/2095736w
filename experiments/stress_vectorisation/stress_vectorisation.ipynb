{
 "cells": [
  {
   "cell_type": "code",
   "execution_count": 9,
   "metadata": {
    "collapsed": true
   },
   "outputs": [],
   "source": [
    "from hdimvis.metrics.stress.stress import vectorised_stress,unvectorised_stress\n",
    "from hdimvis.data_fetchers.DataFetcher import DataFetcher\n",
    "from hdimvis.metrics.distance_measures.euclidian_and_manhattan import euclidean,manhattan\n",
    "import numpy as np\n",
    "import tracemalloc\n",
    "from time import perf_counter"
   ]
  },
  {
   "cell_type": "code",
   "execution_count": 2,
   "outputs": [
    {
     "name": "stdout",
     "output_type": "stream",
     "text": [
      "####################\n",
      "Fetching the \"mnist\" dataset\n"
     ]
    },
    {
     "name": "stderr",
     "output_type": "stream",
     "text": [
      "C:\\Users\\Owner\\.virtualenvs\\2095736w-0SnFieZ0\\lib\\site-packages\\sklearn\\datasets\\_openml.py:932: FutureWarning: The default value of `parser` will change from `'liac-arff'` to `'auto'` in 1.4. You can set `parser='auto'` to silence this warning. Therefore, an `ImportError` will be raised from 1.4 if the dataset is dense and pandas is not installed. Note that the pandas parser may return different data types. See the Notes Section in fetch_openml's API doc for details.\n",
      "  warn(\n"
     ]
    },
    {
     "name": "stdout",
     "output_type": "stream",
     "text": [
      "####################\n",
      "Dataset loaded\n",
      "Dataset shape: (70000, 784)\n"
     ]
    }
   ],
   "source": [
    "large_dataset = DataFetcher.fetch_data('mnist', size='max')\n"
   ],
   "metadata": {
    "collapsed": false
   }
  },
  {
   "cell_type": "code",
   "execution_count": 20,
   "outputs": [],
   "source": [
    "sizes = [10, 50 , 100 ,400, 800, 1000, 1200, 1500, 2000]\n",
    "\n",
    "\n",
    "vectorised_data = np.zeros((len(sizes),2))\n",
    "un_vectorised_data = np.zeros((len(sizes),2))\n",
    "\n",
    "collected_data = [vectorised_data, un_vectorised_data]\n",
    "functions = [vectorised_stress, unvectorised_stress]"
   ],
   "metadata": {
    "collapsed": false
   }
  },
  {
   "cell_type": "code",
   "execution_count": null,
   "outputs": [],
   "source": [
    "for i in sizes:\n",
    "    for j in range(2):\n",
    "        sample_indices = np.random.randint(0, 69999, i)\n",
    "        sample = large_dataset.data[sample_indices]\n",
    "        ld_positions = 20*np.random.rand(sample.shape[0],2)\n",
    "        stress_fn = functions[j]\n",
    "\n",
    "        tracemalloc.start()\n",
    "        stress1 = stress_fn(sample, ld_positions, euclidean)\n",
    "        tracemalloc.stop()\n",
    "        collected_data[j][i,0] = tracemalloc.get_traced_memory()[1]\n",
    "\n",
    "        start = perf_counter()\n",
    "        stress2 = stress_fn(sample, ld_positions, euclidean)\n",
    "        collected_data[j][i,1] = perf_counter() - start\n",
    "\n",
    "\n",
    "\n",
    "\n",
    "\n",
    "\n",
    "\n"
   ],
   "metadata": {
    "collapsed": false
   }
  },
  {
   "cell_type": "code",
   "execution_count": 21,
   "outputs": [
    {
     "ename": "KeyboardInterrupt",
     "evalue": "",
     "output_type": "error",
     "traceback": [
      "\u001B[1;31m---------------------------------------------------------------------------\u001B[0m",
      "\u001B[1;31mKeyboardInterrupt\u001B[0m                         Traceback (most recent call last)",
      "Cell \u001B[1;32mIn[21], line 1\u001B[0m\n\u001B[1;32m----> 1\u001B[0m stress \u001B[38;5;241m=\u001B[39m \u001B[43mvectorised_stress\u001B[49m\u001B[43m(\u001B[49m\u001B[43msample\u001B[49m\u001B[43m,\u001B[49m\u001B[43m \u001B[49m\u001B[43mld_positions\u001B[49m\u001B[43m,\u001B[49m\u001B[43m \u001B[49m\u001B[43meuclidean\u001B[49m\u001B[43m)\u001B[49m\n\u001B[0;32m      2\u001B[0m \u001B[38;5;28mprint\u001B[39m(stress)\n",
      "File \u001B[1;32m~\\Desktop\\2095736w\\hdimvis\\metrics\\stress\\stress.py:10\u001B[0m, in \u001B[0;36mvectorised_stress\u001B[1;34m(data, ld_positions, distance_function)\u001B[0m\n\u001B[0;32m      8\u001B[0m \u001B[38;5;28;01mdef\u001B[39;00m \u001B[38;5;21mvectorised_stress\u001B[39m(data: np\u001B[38;5;241m.\u001B[39mndarray, ld_positions: np\u001B[38;5;241m.\u001B[39mndarray, distance_function: Callable):\n\u001B[1;32m---> 10\u001B[0m     hd_dist \u001B[38;5;241m=\u001B[39m \u001B[43mdistance_function\u001B[49m\u001B[43m(\u001B[49m\u001B[43mdata\u001B[49m\u001B[43m[\u001B[49m\u001B[43m:\u001B[49m\u001B[43m,\u001B[49m\u001B[43m:\u001B[49m\u001B[43m,\u001B[49m\u001B[38;5;28;43;01mNone\u001B[39;49;00m\u001B[43m]\u001B[49m\u001B[43m \u001B[49m\u001B[38;5;241;43m-\u001B[39;49m\u001B[43m \u001B[49m\u001B[43mdata\u001B[49m\u001B[43m[\u001B[49m\u001B[43m:\u001B[49m\u001B[43m,\u001B[49m\u001B[43m:\u001B[49m\u001B[43m,\u001B[49m\u001B[38;5;28;43;01mNone\u001B[39;49;00m\u001B[43m]\u001B[49m\u001B[38;5;241;43m.\u001B[39;49m\u001B[43mT\u001B[49m\u001B[43m,\u001B[49m\u001B[43m \u001B[49m\u001B[38;5;241;43m1\u001B[39;49m\u001B[43m)\u001B[49m\n\u001B[0;32m     11\u001B[0m     ld_dist \u001B[38;5;241m=\u001B[39m distance_function(ld_positions[:,:,\u001B[38;5;28;01mNone\u001B[39;00m] \u001B[38;5;241m-\u001B[39m ld_positions[:,:,\u001B[38;5;28;01mNone\u001B[39;00m]\u001B[38;5;241m.\u001B[39mT, \u001B[38;5;241m1\u001B[39m)\n\u001B[0;32m     12\u001B[0m     numerator \u001B[38;5;241m=\u001B[39m np\u001B[38;5;241m.\u001B[39msum((hd_dist \u001B[38;5;241m-\u001B[39m ld_dist)\u001B[38;5;241m*\u001B[39m\u001B[38;5;241m*\u001B[39m\u001B[38;5;241m2\u001B[39m)\u001B[38;5;241m/\u001B[39m\u001B[38;5;241m4\u001B[39m\n",
      "File \u001B[1;32m~\\Desktop\\2095736w\\hdimvis\\metrics\\distance_measures\\euclidian_and_manhattan.py:4\u001B[0m, in \u001B[0;36meuclidean\u001B[1;34m(arr, axis)\u001B[0m\n\u001B[0;32m      3\u001B[0m \u001B[38;5;28;01mdef\u001B[39;00m \u001B[38;5;21meuclidean\u001B[39m(arr: np\u001B[38;5;241m.\u001B[39mndarray,  axis: \u001B[38;5;28mint\u001B[39m \u001B[38;5;241m=\u001B[39m \u001B[38;5;241m0\u001B[39m) \u001B[38;5;241m-\u001B[39m\u001B[38;5;241m>\u001B[39m \u001B[38;5;28mfloat\u001B[39m \u001B[38;5;241m|\u001B[39m np\u001B[38;5;241m.\u001B[39mndarray:\n\u001B[1;32m----> 4\u001B[0m     \u001B[38;5;28;01mreturn\u001B[39;00m \u001B[43mnp\u001B[49m\u001B[38;5;241;43m.\u001B[39;49m\u001B[43mlinalg\u001B[49m\u001B[38;5;241;43m.\u001B[39;49m\u001B[43mnorm\u001B[49m\u001B[43m(\u001B[49m\u001B[43marr\u001B[49m\u001B[43m,\u001B[49m\u001B[43m \u001B[49m\u001B[43maxis\u001B[49m\u001B[38;5;241;43m=\u001B[39;49m\u001B[43maxis\u001B[49m\u001B[43m)\u001B[49m\n",
      "File \u001B[1;32m<__array_function__ internals>:180\u001B[0m, in \u001B[0;36mnorm\u001B[1;34m(*args, **kwargs)\u001B[0m\n",
      "File \u001B[1;32m~\\.virtualenvs\\2095736w-0SnFieZ0\\lib\\site-packages\\numpy\\linalg\\linalg.py:2557\u001B[0m, in \u001B[0;36mnorm\u001B[1;34m(x, ord, axis, keepdims)\u001B[0m\n\u001B[0;32m   2554\u001B[0m \u001B[38;5;28;01melif\u001B[39;00m \u001B[38;5;28mord\u001B[39m \u001B[38;5;129;01mis\u001B[39;00m \u001B[38;5;28;01mNone\u001B[39;00m \u001B[38;5;129;01mor\u001B[39;00m \u001B[38;5;28mord\u001B[39m \u001B[38;5;241m==\u001B[39m \u001B[38;5;241m2\u001B[39m:\n\u001B[0;32m   2555\u001B[0m     \u001B[38;5;66;03m# special case for speedup\u001B[39;00m\n\u001B[0;32m   2556\u001B[0m     s \u001B[38;5;241m=\u001B[39m (x\u001B[38;5;241m.\u001B[39mconj() \u001B[38;5;241m*\u001B[39m x)\u001B[38;5;241m.\u001B[39mreal\n\u001B[1;32m-> 2557\u001B[0m     \u001B[38;5;28;01mreturn\u001B[39;00m sqrt(\u001B[43madd\u001B[49m\u001B[38;5;241;43m.\u001B[39;49m\u001B[43mreduce\u001B[49m\u001B[43m(\u001B[49m\u001B[43ms\u001B[49m\u001B[43m,\u001B[49m\u001B[43m \u001B[49m\u001B[43maxis\u001B[49m\u001B[38;5;241;43m=\u001B[39;49m\u001B[43maxis\u001B[49m\u001B[43m,\u001B[49m\u001B[43m \u001B[49m\u001B[43mkeepdims\u001B[49m\u001B[38;5;241;43m=\u001B[39;49m\u001B[43mkeepdims\u001B[49m\u001B[43m)\u001B[49m)\n\u001B[0;32m   2558\u001B[0m \u001B[38;5;66;03m# None of the str-type keywords for ord ('fro', 'nuc')\u001B[39;00m\n\u001B[0;32m   2559\u001B[0m \u001B[38;5;66;03m# are valid for vectors\u001B[39;00m\n\u001B[0;32m   2560\u001B[0m \u001B[38;5;28;01melif\u001B[39;00m \u001B[38;5;28misinstance\u001B[39m(\u001B[38;5;28mord\u001B[39m, \u001B[38;5;28mstr\u001B[39m):\n",
      "\u001B[1;31mKeyboardInterrupt\u001B[0m: "
     ]
    }
   ],
   "source": [
    "stress = vectorised_stress(sample, ld_positions, euclidean)\n",
    "print(stress)"
   ],
   "metadata": {
    "collapsed": false
   }
  }
 ],
 "metadata": {
  "kernelspec": {
   "display_name": "Python 3",
   "language": "python",
   "name": "python3"
  },
  "language_info": {
   "codemirror_mode": {
    "name": "ipython",
    "version": 2
   },
   "file_extension": ".py",
   "mimetype": "text/x-python",
   "name": "python",
   "nbconvert_exporter": "python",
   "pygments_lexer": "ipython2",
   "version": "2.7.6"
  }
 },
 "nbformat": 4,
 "nbformat_minor": 0
}
