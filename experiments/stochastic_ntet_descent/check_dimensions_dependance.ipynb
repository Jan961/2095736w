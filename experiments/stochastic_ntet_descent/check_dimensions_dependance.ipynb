{
 "cells": [
  {
   "cell_type": "code",
   "execution_count": 1,
   "metadata": {
    "collapsed": true
   },
   "outputs": [],
   "source": [
    "from experiments.cube.Cube import Cube\n",
    "from hdimvis.metrics.stress.stress import vectorised_stress, unvectorised_stress\n",
    "from hdimvis.metrics.distance_measures.euclidian_and_manhattan import euclidean\n",
    "from sklearn.decomposition import PCA\n",
    "from hdimvis.algorithms.stochastic_ntet_algo.SNeD import SNeD\n",
    "from hdimvis.create_low_d_layout.LayoutCreation import LayoutCreation\n",
    "from hdimvis.data_fetchers.DataFetcher import DataFetcher\n",
    "from hdimvis.visualise_layouts_and_metrics.plot import show_layout, show_generation_metrics\n",
    "from hdimvis.metrics.distance_measures.euclidian_and_manhattan import manhattan\n",
    "import numpy as np\n",
    "import matplotlib.pyplot as plt\n",
    "import os\n",
    "import definitions\n",
    "from time import perf_counter\n",
    "import pathlib\n",
    "from pathlib import Path\n",
    "import pickle"
   ]
  },
  {
   "cell_type": "code",
   "execution_count": 2,
   "outputs": [
    {
     "name": "stdout",
     "output_type": "stream",
     "text": [
      "####################\n",
      "Fetching the \"cancer RNA\" dataset\n",
      "[[        nan  0.          0.59273209 ...  9.39785429  2.09416849\n",
      "   0.        ]\n",
      " [        nan  0.          3.51175898 ... 10.09046974  1.68302267\n",
      "   0.        ]\n",
      " [        nan  0.          3.66361787 ...  9.68436467  3.29200131\n",
      "   0.        ]\n",
      " ...\n",
      " [        nan  0.          2.98719351 ...  9.97108366  5.75634816\n",
      "   0.        ]\n",
      " [        nan  0.          3.59087743 ...  9.32801064  5.65327216\n",
      "   0.        ]\n",
      " [        nan  0.          3.88283866 ...  9.64949511  5.11270013\n",
      "   0.        ]]\n",
      "[]\n",
      "####################\n",
      "Dataset loaded\n",
      "Dataset shape: (800, 20532)\n",
      "####################\n"
     ]
    }
   ],
   "source": [
    "rna_many_dims = DataFetcher.fetch_data('cancer RNA')"
   ],
   "metadata": {
    "collapsed": false
   }
  }
 ],
 "metadata": {
  "kernelspec": {
   "display_name": "Python 3",
   "language": "python",
   "name": "python3"
  },
  "language_info": {
   "codemirror_mode": {
    "name": "ipython",
    "version": 2
   },
   "file_extension": ".py",
   "mimetype": "text/x-python",
   "name": "python",
   "nbconvert_exporter": "python",
   "pygments_lexer": "ipython2",
   "version": "2.7.6"
  }
 },
 "nbformat": 4,
 "nbformat_minor": 0
}
