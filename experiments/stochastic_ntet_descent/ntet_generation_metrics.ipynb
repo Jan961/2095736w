{
 "cells": [
  {
   "cell_type": "code",
   "execution_count": 4,
   "outputs": [
    {
     "ename": "SystemError",
     "evalue": "initialization of _internal failed without raising an exception",
     "output_type": "error",
     "traceback": [
      "\u001B[1;31m---------------------------------------------------------------------------\u001B[0m",
      "\u001B[1;31mSystemError\u001B[0m                               Traceback (most recent call last)",
      "Cell \u001B[1;32mIn[4], line 5\u001B[0m\n\u001B[0;32m      3\u001B[0m \u001B[38;5;28;01mfrom\u001B[39;00m \u001B[38;5;21;01mhdimvis\u001B[39;00m\u001B[38;5;21;01m.\u001B[39;00m\u001B[38;5;21;01mmetrics\u001B[39;00m\u001B[38;5;21;01m.\u001B[39;00m\u001B[38;5;21;01mdistance_measures\u001B[39;00m\u001B[38;5;21;01m.\u001B[39;00m\u001B[38;5;21;01meuclidian_and_manhattan\u001B[39;00m \u001B[38;5;28;01mimport\u001B[39;00m euclidean\n\u001B[0;32m      4\u001B[0m \u001B[38;5;28;01mfrom\u001B[39;00m \u001B[38;5;21;01msklearn\u001B[39;00m\u001B[38;5;21;01m.\u001B[39;00m\u001B[38;5;21;01mdecomposition\u001B[39;00m \u001B[38;5;28;01mimport\u001B[39;00m PCA\n\u001B[1;32m----> 5\u001B[0m \u001B[38;5;28;01mfrom\u001B[39;00m \u001B[38;5;21;01mhdimvis\u001B[39;00m\u001B[38;5;21;01m.\u001B[39;00m\u001B[38;5;21;01malgorithms\u001B[39;00m\u001B[38;5;21;01m.\u001B[39;00m\u001B[38;5;21;01mstochastic_ntet_algo\u001B[39;00m\u001B[38;5;21;01m.\u001B[39;00m\u001B[38;5;21;01mSNeD\u001B[39;00m \u001B[38;5;28;01mimport\u001B[39;00m SNeD\n\u001B[0;32m      6\u001B[0m \u001B[38;5;28;01mfrom\u001B[39;00m \u001B[38;5;21;01mhdimvis\u001B[39;00m\u001B[38;5;21;01m.\u001B[39;00m\u001B[38;5;21;01mcreate_low_d_layout\u001B[39;00m\u001B[38;5;21;01m.\u001B[39;00m\u001B[38;5;21;01mLowDLayoutCreation\u001B[39;00m \u001B[38;5;28;01mimport\u001B[39;00m LowDLayoutCreation\n\u001B[0;32m      7\u001B[0m \u001B[38;5;28;01mfrom\u001B[39;00m \u001B[38;5;21;01mhdimvis\u001B[39;00m\u001B[38;5;21;01m.\u001B[39;00m\u001B[38;5;21;01mdata_fetchers\u001B[39;00m\u001B[38;5;21;01m.\u001B[39;00m\u001B[38;5;21;01mDataFetcher\u001B[39;00m \u001B[38;5;28;01mimport\u001B[39;00m DataFetcher\n",
      "File \u001B[1;32m~\\Desktop\\2095736w\\hdimvis\\algorithms\\stochastic_ntet_algo\\SNeD.py:5\u001B[0m\n\u001B[0;32m      3\u001B[0m \u001B[38;5;28;01mimport\u001B[39;00m \u001B[38;5;21;01mnumpy\u001B[39;00m \u001B[38;5;28;01mas\u001B[39;00m \u001B[38;5;21;01mnp\u001B[39;00m\n\u001B[0;32m      4\u001B[0m \u001B[38;5;28;01mimport\u001B[39;00m \u001B[38;5;21;01mmath\u001B[39;00m\n\u001B[1;32m----> 5\u001B[0m \u001B[38;5;28;01mfrom\u001B[39;00m \u001B[38;5;21;01m.\u001B[39;00m\u001B[38;5;21;01mgradients\u001B[39;00m \u001B[38;5;28;01mimport\u001B[39;00m compute_quartet_grads\n\u001B[0;32m      6\u001B[0m \u001B[38;5;28;01mfrom\u001B[39;00m \u001B[38;5;21;01m.\u001B[39;00m\u001B[38;5;21;01m.\u001B[39;00m\u001B[38;5;21;01mBaseAlgorithm\u001B[39;00m \u001B[38;5;28;01mimport\u001B[39;00m BaseAlgorithm\n\u001B[0;32m      7\u001B[0m \u001B[38;5;28;01mfrom\u001B[39;00m \u001B[38;5;21;01mhdimvis\u001B[39;00m\u001B[38;5;21;01m.\u001B[39;00m\u001B[38;5;21;01mmetrics\u001B[39;00m\u001B[38;5;21;01m.\u001B[39;00m\u001B[38;5;21;01mdistance_measures\u001B[39;00m\u001B[38;5;21;01m.\u001B[39;00m\u001B[38;5;21;01meuclidian_and_manhattan\u001B[39;00m \u001B[38;5;28;01mimport\u001B[39;00m euclidean\n",
      "File \u001B[1;32m~\\Desktop\\2095736w\\hdimvis\\algorithms\\stochastic_ntet_algo\\gradients.py:2\u001B[0m\n\u001B[0;32m      1\u001B[0m \u001B[38;5;28;01mimport\u001B[39;00m \u001B[38;5;21;01mnumpy\u001B[39;00m \u001B[38;5;28;01mas\u001B[39;00m \u001B[38;5;21;01mnp\u001B[39;00m\n\u001B[1;32m----> 2\u001B[0m \u001B[38;5;28;01mimport\u001B[39;00m \u001B[38;5;21;01mnumba\u001B[39;00m\n\u001B[0;32m      6\u001B[0m \u001B[38;5;129m@numba\u001B[39m\u001B[38;5;241m.\u001B[39mjit(nopython\u001B[38;5;241m=\u001B[39m\u001B[38;5;28;01mTrue\u001B[39;00m)\n\u001B[0;32m      7\u001B[0m \u001B[38;5;28;01mdef\u001B[39;00m \u001B[38;5;21mcompute_quartet_grads\u001B[39m(points : np\u001B[38;5;241m.\u001B[39mndarray, Dhd : np\u001B[38;5;241m.\u001B[39mndarray, Dld : np\u001B[38;5;241m.\u001B[39mndarray,\n\u001B[0;32m      8\u001B[0m                           Dld_distances_full_matrix: np\u001B[38;5;241m.\u001B[39mndarray ):\n\u001B[0;32m     10\u001B[0m     sum_dld \u001B[38;5;241m=\u001B[39m np\u001B[38;5;241m.\u001B[39msum(Dld)\n",
      "File \u001B[1;32m~\\.virtualenvs\\2095736w-0SnFieZ0\\lib\\site-packages\\numba\\__init__.py:42\u001B[0m\n\u001B[0;32m     38\u001B[0m \u001B[38;5;28;01mfrom\u001B[39;00m \u001B[38;5;21;01mnumba\u001B[39;00m\u001B[38;5;21;01m.\u001B[39;00m\u001B[38;5;21;01mcore\u001B[39;00m\u001B[38;5;21;01m.\u001B[39;00m\u001B[38;5;21;01mdecorators\u001B[39;00m \u001B[38;5;28;01mimport\u001B[39;00m (cfunc, generated_jit, jit, njit, stencil,\n\u001B[0;32m     39\u001B[0m                                    jit_module)\n\u001B[0;32m     41\u001B[0m \u001B[38;5;66;03m# Re-export vectorize decorators and the thread layer querying function\u001B[39;00m\n\u001B[1;32m---> 42\u001B[0m \u001B[38;5;28;01mfrom\u001B[39;00m \u001B[38;5;21;01mnumba\u001B[39;00m\u001B[38;5;21;01m.\u001B[39;00m\u001B[38;5;21;01mnp\u001B[39;00m\u001B[38;5;21;01m.\u001B[39;00m\u001B[38;5;21;01mufunc\u001B[39;00m \u001B[38;5;28;01mimport\u001B[39;00m (vectorize, guvectorize, threading_layer,\n\u001B[0;32m     43\u001B[0m                             get_num_threads, set_num_threads,\n\u001B[0;32m     44\u001B[0m                             set_parallel_chunksize, get_parallel_chunksize,\n\u001B[0;32m     45\u001B[0m                             get_thread_id)\n\u001B[0;32m     47\u001B[0m \u001B[38;5;66;03m# Re-export Numpy helpers\u001B[39;00m\n\u001B[0;32m     48\u001B[0m \u001B[38;5;28;01mfrom\u001B[39;00m \u001B[38;5;21;01mnumba\u001B[39;00m\u001B[38;5;21;01m.\u001B[39;00m\u001B[38;5;21;01mnp\u001B[39;00m\u001B[38;5;21;01m.\u001B[39;00m\u001B[38;5;21;01mnumpy_support\u001B[39;00m \u001B[38;5;28;01mimport\u001B[39;00m carray, farray, from_dtype\n",
      "File \u001B[1;32m~\\.virtualenvs\\2095736w-0SnFieZ0\\lib\\site-packages\\numba\\np\\ufunc\\__init__.py:3\u001B[0m\n\u001B[0;32m      1\u001B[0m \u001B[38;5;66;03m# -*- coding: utf-8 -*-\u001B[39;00m\n\u001B[1;32m----> 3\u001B[0m \u001B[38;5;28;01mfrom\u001B[39;00m \u001B[38;5;21;01mnumba\u001B[39;00m\u001B[38;5;21;01m.\u001B[39;00m\u001B[38;5;21;01mnp\u001B[39;00m\u001B[38;5;21;01m.\u001B[39;00m\u001B[38;5;21;01mufunc\u001B[39;00m\u001B[38;5;21;01m.\u001B[39;00m\u001B[38;5;21;01mdecorators\u001B[39;00m \u001B[38;5;28;01mimport\u001B[39;00m Vectorize, GUVectorize, vectorize, guvectorize\n\u001B[0;32m      4\u001B[0m \u001B[38;5;28;01mfrom\u001B[39;00m \u001B[38;5;21;01mnumba\u001B[39;00m\u001B[38;5;21;01m.\u001B[39;00m\u001B[38;5;21;01mnp\u001B[39;00m\u001B[38;5;21;01m.\u001B[39;00m\u001B[38;5;21;01mufunc\u001B[39;00m\u001B[38;5;21;01m.\u001B[39;00m\u001B[38;5;21;01m_internal\u001B[39;00m \u001B[38;5;28;01mimport\u001B[39;00m PyUFunc_None, PyUFunc_Zero, PyUFunc_One\n\u001B[0;32m      5\u001B[0m \u001B[38;5;28;01mfrom\u001B[39;00m \u001B[38;5;21;01mnumba\u001B[39;00m\u001B[38;5;21;01m.\u001B[39;00m\u001B[38;5;21;01mnp\u001B[39;00m\u001B[38;5;21;01m.\u001B[39;00m\u001B[38;5;21;01mufunc\u001B[39;00m \u001B[38;5;28;01mimport\u001B[39;00m _internal, array_exprs\n",
      "File \u001B[1;32m~\\.virtualenvs\\2095736w-0SnFieZ0\\lib\\site-packages\\numba\\np\\ufunc\\decorators.py:3\u001B[0m\n\u001B[0;32m      1\u001B[0m \u001B[38;5;28;01mimport\u001B[39;00m \u001B[38;5;21;01minspect\u001B[39;00m\n\u001B[1;32m----> 3\u001B[0m \u001B[38;5;28;01mfrom\u001B[39;00m \u001B[38;5;21;01mnumba\u001B[39;00m\u001B[38;5;21;01m.\u001B[39;00m\u001B[38;5;21;01mnp\u001B[39;00m\u001B[38;5;21;01m.\u001B[39;00m\u001B[38;5;21;01mufunc\u001B[39;00m \u001B[38;5;28;01mimport\u001B[39;00m _internal\n\u001B[0;32m      4\u001B[0m \u001B[38;5;28;01mfrom\u001B[39;00m \u001B[38;5;21;01mnumba\u001B[39;00m\u001B[38;5;21;01m.\u001B[39;00m\u001B[38;5;21;01mnp\u001B[39;00m\u001B[38;5;21;01m.\u001B[39;00m\u001B[38;5;21;01mufunc\u001B[39;00m\u001B[38;5;21;01m.\u001B[39;00m\u001B[38;5;21;01mparallel\u001B[39;00m \u001B[38;5;28;01mimport\u001B[39;00m ParallelUFuncBuilder, ParallelGUFuncBuilder\n\u001B[0;32m      6\u001B[0m \u001B[38;5;28;01mfrom\u001B[39;00m \u001B[38;5;21;01mnumba\u001B[39;00m\u001B[38;5;21;01m.\u001B[39;00m\u001B[38;5;21;01mcore\u001B[39;00m\u001B[38;5;21;01m.\u001B[39;00m\u001B[38;5;21;01mregistry\u001B[39;00m \u001B[38;5;28;01mimport\u001B[39;00m DelayedRegistry\n",
      "\u001B[1;31mSystemError\u001B[0m: initialization of _internal failed without raising an exception"
     ]
    }
   ],
   "source": [
    "from experiments.cube.Cube import Cube\n",
    "from hdimvis.metrics.stress.stress import vectorised_stress\n",
    "from hdimvis.metrics.distance_measures.euclidian_and_manhattan import euclidean\n",
    "from sklearn.decomposition import PCA\n",
    "from hdimvis.algorithms.stochastic_ntet_algo.SNeD import SNeD\n",
    "from hdimvis.create_low_d_layout.LowDLayoutCreation import LowDLayoutCreation\n",
    "from hdimvis.data_fetchers.DataFetcher import DataFetcher\n",
    "from hdimvis.visualise_layouts_and_metrics.plot import show_layouts, show_generation_metrics\n",
    "from hdimvis.metrics.distance_measures.euclidian_and_manhattan import manhattan\n",
    "import numpy as np\n",
    "import matplotlib.pyplot as plt\n",
    "import os\n",
    "import definitions\n",
    "from time import perf_counter\n",
    "import pathlib\n",
    "from pathlib import Path"
   ],
   "metadata": {
    "collapsed": false
   }
  },
  {
   "cell_type": "code",
   "execution_count": null,
   "outputs": [],
   "source": [
    "all_datasets_list = ['poker', 'mnist', 'coil20', 'rna N3k', 'airfoil', 'wine quality', 'fashion mnist'\n",
    "                                                                                                'shuttle',\n",
    "                     'flow cytometry']\n"
   ],
   "metadata": {
    "collapsed": false
   }
  },
  {
   "cell_type": "code",
   "execution_count": null,
   "outputs": [],
   "source": [
    "cube = Cube(num_points=100, side=30, angle=0.4)\n",
    "cube_dataset= cube.get_sample_dataset(3000)\n",
    "\n",
    "rna_dataset = DataFetcher.fetch_data('rna N3k')\n",
    "coil20_dataset = DataFetcher.fetch_data('coil20')\n",
    "airfoil_dataset = DataFetcher.fetch_data('airfoil')\n"
   ],
   "metadata": {
    "collapsed": false
   }
  },
  {
   "cell_type": "code",
   "execution_count": 5,
   "outputs": [],
   "source": [
    "names_list = ['trio', 'quartet', 'quintet', 'sextet', 'septet', 'octet', 'nonet', 'decet',\n",
    "               'duodecet', 'vigintet', 'quinquagintet', 'centet', 'duocentet', 'quingentet']\n",
    "ntet_sizes = [3,4,]\n",
    "# 3,4,5,6,7,8,9,10,12,20,50,"
   ],
   "metadata": {
    "collapsed": false
   }
  },
  {
   "cell_type": "markdown",
   "source": [],
   "metadata": {
    "collapsed": false
   }
  },
  {
   "cell_type": "markdown",
   "source": [],
   "metadata": {
    "collapsed": false
   }
  },
  {
   "cell_type": "code",
   "execution_count": 3,
   "outputs": [
    {
     "ename": "NameError",
     "evalue": "name 'rna_dataset' is not defined",
     "output_type": "error",
     "traceback": [
      "\u001B[1;31m---------------------------------------------------------------------------\u001B[0m",
      "\u001B[1;31mNameError\u001B[0m                                 Traceback (most recent call last)",
      "Cell \u001B[1;32mIn[3], line 2\u001B[0m\n\u001B[0;32m      1\u001B[0m num_repeats \u001B[38;5;241m=\u001B[39m \u001B[38;5;241m3\u001B[39m\n\u001B[1;32m----> 2\u001B[0m datasets \u001B[38;5;241m=\u001B[39m [\u001B[43mrna_dataset\u001B[49m, coil20_dataset]\n\u001B[0;32m      4\u001B[0m results \u001B[38;5;241m=\u001B[39m np\u001B[38;5;241m.\u001B[39mzeros((num_repeats, \u001B[38;5;241m3\u001B[39m)) \u001B[38;5;66;03m# 4 for - time, stress, average quartet stress and ntet size\u001B[39;00m\n",
      "\u001B[1;31mNameError\u001B[0m: name 'rna_dataset' is not defined"
     ]
    }
   ],
   "source": [
    "\n",
    "num_repeats = 3\n",
    "datasets = [rna_dataset, coil20_dataset]\n",
    "\n",
    "results = np.zeros((num_repeats, 3)) # 4 for - time, stress, average quartet stress and ntet size\n",
    "\n"
   ],
   "metadata": {
    "collapsed": false
   }
  },
  {
   "cell_type": "code",
   "execution_count": 2,
   "outputs": [
    {
     "ename": "NameError",
     "evalue": "name 'datasets' is not defined",
     "output_type": "error",
     "traceback": [
      "\u001B[1;31m---------------------------------------------------------------------------\u001B[0m",
      "\u001B[1;31mNameError\u001B[0m                                 Traceback (most recent call last)",
      "Cell \u001B[1;32mIn[2], line 3\u001B[0m\n\u001B[0;32m      1\u001B[0m metric_collection \u001B[38;5;241m=\u001B[39m {\u001B[38;5;124m'\u001B[39m\u001B[38;5;124mAverage quartet stress\u001B[39m\u001B[38;5;124m'\u001B[39m: \u001B[38;5;241m5\u001B[39m, \u001B[38;5;124m'\u001B[39m\u001B[38;5;124mStress\u001B[39m\u001B[38;5;124m'\u001B[39m: \u001B[38;5;241m200\u001B[39m}\n\u001B[1;32m----> 3\u001B[0m \u001B[38;5;28;01mfor\u001B[39;00m i, dataset \u001B[38;5;129;01min\u001B[39;00m \u001B[38;5;28menumerate\u001B[39m(\u001B[43mdatasets\u001B[49m):\n\u001B[0;32m      5\u001B[0m     output_dir\u001B[38;5;241m=\u001B[39m (Path(definitions\u001B[38;5;241m.\u001B[39mPROJECT_ROOT)\u001B[38;5;241m.\u001B[39mjoinpath(\n\u001B[0;32m      6\u001B[0m     Path(\u001B[38;5;124mf\u001B[39m\u001B[38;5;124m\"\u001B[39m\u001B[38;5;124mexperiments/stochastic_ntet_descent/out/\u001B[39m\u001B[38;5;132;01m{\u001B[39;00mdataset\u001B[38;5;241m.\u001B[39mname\u001B[38;5;132;01m}\u001B[39;00m\u001B[38;5;124m/\u001B[39m\u001B[38;5;124m\"\u001B[39m)))\u001B[38;5;241m.\u001B[39mresolve()\n\u001B[0;32m      7\u001B[0m     \u001B[38;5;66;03m# os.mkdir(output_dir)\u001B[39;00m\n",
      "\u001B[1;31mNameError\u001B[0m: name 'datasets' is not defined"
     ]
    }
   ],
   "source": [
    "metric_collection = {'Average quartet stress': 5, 'Stress': 200}\n",
    "\n",
    "for i, dataset in enumerate(datasets):\n",
    "\n",
    "    output_dir= (Path(definitions.PROJECT_ROOT).joinpath(\n",
    "    Path(f\"experiments/stochastic_ntet_descent/out/{dataset.name}/\"))).resolve()\n",
    "    # os.mkdir(output_dir)\n",
    "\n",
    "\n",
    "    Xld = PCA(n_components=2, whiten=False, copy=True).fit_transform(dataset.data).astype(np.float64)\n",
    "    Xld *= 10/np.std(Xld)\n",
    "\n",
    "    if dataset==cube_dataset:\n",
    "         cube.plot_2d(layout_points=Xld, hd_points=dataset.data, title=\"PCA layout\", save_to=output_dir)\n",
    "\n",
    "\n",
    "    for j, size in enumerate(ntet_sizes):\n",
    "        time = 0\n",
    "        stress = 0\n",
    "        average_quartet_stress = 0\n",
    "\n",
    "        Xld = PCA(n_components=2, whiten=False, copy=True).fit_transform(dataset.data).astype(np.float64)\n",
    "        Xld *= 10/np.std(Xld)\n",
    "\n",
    "        layout = None\n",
    "        for k in range(num_repeats):\n",
    "\n",
    "            squad = SNeD(dataset=datasets[i], initial_layout=Xld, ntet_size=size)\n",
    "\n",
    "            # only collect stress and show generation metrics for the last repeat - shouldn't differ too much between repeats and, in any case, it is not the main focus of this experiment\n",
    "            if k == num_repeats- 1:\n",
    "                current_metric_collection = metric_collection\n",
    "            else:\n",
    "                current_metric_collection = None\n",
    "\n",
    "            start = perf_counter()\n",
    "            layout = LowDLayoutCreation().create_layout(squad, optional_metric_collection=current_metric_collection, no_iters=2)\n",
    "\n",
    "\n",
    "            time = (start - perf_counter())\n",
    "            stress = layout.get_final_stress()\n",
    "\n",
    "\n",
    "            results[k][0] = time\n",
    "            results[k][1] = stress\n",
    "            results[k][2] = sum(layout.collected_metrics['Average quartet stress'][1][-10:])/10\n",
    "            if  num_repeats:\n",
    "                average_quartet_stress = layout.collected_metrics['Average quartet stress'][1][-1]\n",
    "                results[k][2] = average_quartet_stress\n",
    "\n",
    "\n",
    "        print(layout.collected_metrics)\n",
    "\n",
    "        title = f\"Stochastic {names_list[j]} ({size}) descent\"\n",
    "\n",
    "        if dataset == cube_dataset:\n",
    "             cube.plot_2d(layout, title=title + \" - layout\", save_to=output_dir)\n",
    "        else:\n",
    "            show_layouts(layout, use_labels=True, color_map='rainbow', title=title + \" - layout\", save_to=output_dir)\n",
    "\n",
    "        show_generation_metrics(layout, quartet_stress=True, title= title + \" - generation metrics\", save_to=output_dir)\n",
    "        np.save((Path(output_dir).joinpath(Path(f\"{title}\"))).resolve(),results)\n",
    "        results.fill(0)\n",
    "\n",
    "\n"
   ],
   "metadata": {
    "collapsed": false
   }
  }
 ],
 "metadata": {
  "kernelspec": {
   "display_name": "Python 3",
   "language": "python",
   "name": "python3"
  },
  "language_info": {
   "codemirror_mode": {
    "name": "ipython",
    "version": 2
   },
   "file_extension": ".py",
   "mimetype": "text/x-python",
   "name": "python",
   "nbconvert_exporter": "python",
   "pygments_lexer": "ipython2",
   "version": "2.7.6"
  }
 },
 "nbformat": 4,
 "nbformat_minor": 0
}
