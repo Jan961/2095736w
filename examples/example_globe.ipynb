{
 "cells": [
  {
   "cell_type": "code",
   "execution_count": null,
   "metadata": {
    "collapsed": true
   },
   "outputs": [],
   "source": [
    "from hdimvis.data_fetchers.DataFetcher import DataFetcher\n",
    "import numpy as np\n",
    "from hdimvis.algorithms.spring_force_algos.chalmers96_algo.Chalmers96 import Chalmers96\n",
    "from hdimvis.create_low_d_layout.LayoutCreation import LayoutCreation\n",
    "from hdimvis.algorithms.stochastic_ntet_algo.SNeD import SNeD\n",
    "from sklearn.decomposition import PCA\n",
    "from hdimvis.visualise_layouts_and_metrics.plot import show_generation_metrics\n",
    "from hdimvis.metrics.distance_measures.euclidian_and_manhattan import euclidean,manhattan\n",
    "from experiments.globe_and_tsne_umap_compare.plot import show_original_globe, show_globe_embedding\n",
    "%matplotlib notebook"
   ]
  },
  {
   "cell_type": "code",
   "execution_count": null,
   "outputs": [],
   "source": [
    "\n",
    "\n",
    "dataset = DataFetcher.fetch_data('globe', swiss_roll =False, size=5000)\n"
   ],
   "metadata": {
    "collapsed": false
   }
  },
  {
   "cell_type": "code",
   "execution_count": null,
   "outputs": [],
   "source": [
    "show_original_globe(dataset)"
   ],
   "metadata": {
    "collapsed": false
   }
  },
  {
   "cell_type": "code",
   "execution_count": null,
   "outputs": [],
   "source": [
    "embedding_PCA = PCA(n_components=2, whiten=False, copy=True).fit_transform(dataset.data).astype(np.float64)\n",
    "embedding_PCA *= 10/np.std(embedding_PCA)\n",
    "show_globe_embedding(dataset=dataset, points_2d=embedding_PCA)"
   ],
   "metadata": {
    "collapsed": false
   }
  },
  {
   "cell_type": "markdown",
   "source": [],
   "metadata": {
    "collapsed": false
   }
  },
  {
   "cell_type": "code",
   "execution_count": null,
   "outputs": [],
   "source": [
    "metric_collection_sned = {\"Average n-tet stress\": 1, \"Stress\": 200}\n",
    "sned = SNeD(dataset=dataset, initial_layout=embedding_PCA)\n",
    "layout_sned = LayoutCreation.create_layout(sned, num_iters=1000, optional_metric_collection=metric_collection_sned)\n",
    "show_globe_embedding(dataset=dataset, points_2d=layout_sned.get_final_positions())\n",
    "show_generation_metrics(layout_sned, quartet_stress=True, title=\"SNeD generation metrics\")"
   ],
   "metadata": {
    "collapsed": false
   }
  },
  {
   "cell_type": "code",
   "execution_count": null,
   "outputs": [],
   "source": [
    "metric_collection_96 = {\"Average speed\": 1, \"Stress\": 40}\n",
    "algo96 = Chalmers96(dataset=dataset, initial_layout=embedding_PCA, distance_fn=euclidean,\n",
    "                    damping_constant=0, spring_constant=0.07,\n",
    "                    use_knnd=False, sample_set_size=10, neighbour_set_size=5)\n",
    "\n",
    "layout_96 = LayoutCreation().create_layout(algo96, optional_metric_collection=metric_collection_96, num_iters=100)\n",
    "show_globe_embedding(dataset=dataset, points_2d=layout_96.get_final_positions())\n",
    "show_generation_metrics(layout=layout_96, average_speed=True)"
   ],
   "metadata": {
    "collapsed": false
   }
  }
 ],
 "metadata": {
  "kernelspec": {
   "display_name": "Python 3",
   "language": "python",
   "name": "python3"
  },
  "language_info": {
   "codemirror_mode": {
    "name": "ipython",
    "version": 2
   },
   "file_extension": ".py",
   "mimetype": "text/x-python",
   "name": "python",
   "nbconvert_exporter": "python",
   "pygments_lexer": "ipython2",
   "version": "2.7.6"
  }
 },
 "nbformat": 4,
 "nbformat_minor": 0
}
