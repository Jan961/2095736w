{
 "cells": [
  {
   "cell_type": "code",
   "execution_count": 1,
   "metadata": {
    "collapsed": true
   },
   "outputs": [],
   "source": [
    "import numpy as np\n",
    "\n",
    "from hdimvis.algorithms.spring_force_algos.chalmers96_algo.Chalmers96 import Chalmers96\n",
    "from hdimvis.visualise_layouts_and_metrics.plot import show_layout,show_generation_metrics\n",
    "from hdimvis.algorithms.stochastic_ntet_algo.SNeD import SNeD\n",
    "from hdimvis.create_low_d_layout.LayoutCreation import LayoutCreation\n",
    "from hdimvis.data_fetchers.DataFetcher import DataFetcher\n",
    "from hdimvis.visualise_layouts_and_metrics.plot import show_layout\n",
    "from sklearn.neighbors import KNeighborsClassifier\n",
    "from sklearn.model_selection import KFold\n",
    "from experiments.utils.get_kmeans_f1 import get_kmeans_f1\n",
    "from experiments.utils.get_f1_for_best_k_with_knn import get_f1_for_best_k_with_knn\n",
    "from experiments.utils.get_avg_classwise_f1 import get_avg_classwise_f1\n",
    "from sklearn.cluster import KMeans\n",
    "from sklearn.decomposition import PCA\n",
    "from sklearn.metrics import f1_score\n",
    "from pathlib import Path\n",
    "from definitions import PROJECT_ROOT\n",
    "import pickle\n",
    "from scipy import stats\n",
    "import matplotlib.pyplot as plt\n",
    "from time import perf_counter\n",
    "from  sklearn.manifold import SpectralEmbedding, MDS\n",
    "from hdimvis.metrics.distance_measures.euclidian_and_manhattan import euclidean\n",
    "import pandas as pd"
   ]
  },
  {
   "cell_type": "code",
   "execution_count": 6,
   "outputs": [
    {
     "name": "stdout",
     "output_type": "stream",
     "text": [
      "####################\n",
      "Fetching the \"metro\" dataset\n",
      "[[ 8.364  8.35  -0.02  ...  0.     1.     1.   ]\n",
      " [ 9.382  9.37  -0.02  ...  0.     1.     1.   ]\n",
      " [ 9.998  9.99  -0.024 ...  0.     1.     1.   ]\n",
      " ...\n",
      " [ 5.104 -0.01  -0.02  ...  1.     1.     1.   ]\n",
      " [ 8.966 -0.014 -0.016 ...  0.     1.     1.   ]\n",
      " [ 8.43   8.422 -0.018 ...  0.     1.     1.   ]]\n",
      "####################\n",
      "Dataset loaded\n",
      "Dataset shape: (50000, 13)\n",
      "####################\n"
     ]
    }
   ],
   "source": [
    "dataset= DataFetcher.fetch_data(\"metro\", size=50000)"
   ],
   "metadata": {
    "collapsed": false
   }
  },
  {
   "cell_type": "code",
   "execution_count": 7,
   "outputs": [],
   "source": [
    "results = [[],[]]\n",
    "num_repeats = 2"
   ],
   "metadata": {
    "collapsed": false
   }
  },
  {
   "cell_type": "code",
   "execution_count": null,
   "outputs": [
    {
     "name": "stdout",
     "output_type": "stream",
     "text": [
      "####################\n",
      "A 2D layout of the \"metro\" dataset will be created \n",
      "using the \"Chalmers' 1996\" algorithm\n",
      "####################\n",
      "The HD distance measure used is: euclidean\n",
      "####################\n",
      "####################\n",
      "No metrics will be collected during layout creation. \n",
      "To change this use the 'metric collection' parameter of the layout \n",
      "####################\n",
      "All stress calculations will be performed using the euclidian norm\n",
      "####################\n",
      "Spring constant is set to  0.05 \n",
      "Damping constant is set to 0 \n",
      "Spring constant scaling factor is set to 0.03333333333333333 \n",
      "####################\n"
     ]
    }
   ],
   "source": [
    "Xld = PCA(n_components=2, whiten=False, copy=True).fit_transform(dataset.data).astype(np.float64)\n",
    "Xld *= 10/np.std(Xld)\n",
    "\n",
    "for i in range(num_repeats):\n",
    "\n",
    "    no_knnd_start = perf_counter()\n",
    "    algo96 = Chalmers96(dataset=dataset, distance_fn=euclidean,\n",
    "             spring_constant=0.05, initial_layout=Xld,\n",
    "            use_knnd=False)\n",
    "    layout = LayoutCreation.create_layout(algo96, num_iters=100)\n",
    "    results[0].append(perf_counter() - no_knnd_start)\n",
    "\n",
    "\n",
    "\n",
    "    knnd_start = perf_counter()\n",
    "    algo96 = Chalmers96(dataset=dataset, distance_fn=euclidean,\n",
    "             spring_constant=0.05, initial_layout=Xld,\n",
    "            use_knnd=True)\n",
    "    layout_knnd = LayoutCreation.create_layout(algo96, num_iters=100)\n",
    "    results[1].append(perf_counter() - knnd_start)\n",
    "\n"
   ],
   "metadata": {
    "collapsed": false,
    "pycharm": {
     "is_executing": true
    }
   }
  },
  {
   "cell_type": "code",
   "execution_count": 6,
   "outputs": [
    {
     "name": "stdout",
     "output_type": "stream",
     "text": [
      "[[1602.6357605999801, 1617.7469972999534], [21481.32037490001]]\n"
     ]
    }
   ],
   "source": [
    "print(results)[1602.6357605999801, 1617.7469972999534], [21481.32037490001]]"
   ],
   "metadata": {
    "collapsed": false
   }
  }
 ],
 "metadata": {
  "kernelspec": {
   "display_name": "Python 3",
   "language": "python",
   "name": "python3"
  },
  "language_info": {
   "codemirror_mode": {
    "name": "ipython",
    "version": 2
   },
   "file_extension": ".py",
   "mimetype": "text/x-python",
   "name": "python",
   "nbconvert_exporter": "python",
   "pygments_lexer": "ipython2",
   "version": "2.7.6"
  }
 },
 "nbformat": 4,
 "nbformat_minor": 0
}
