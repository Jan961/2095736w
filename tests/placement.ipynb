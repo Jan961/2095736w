{
 "cells": [
  {
   "cell_type": "code",
   "execution_count": 1,
   "metadata": {
    "collapsed": true
   },
   "outputs": [],
   "source": [
    "import numpy as np\n",
    "import matplotlib.pyplot as plt\n",
    "from generate_placement_data import get_data"
   ]
  },
  {
   "cell_type": "code",
   "execution_count": 2,
   "outputs": [
    {
     "name": "stdout",
     "output_type": "stream",
     "text": [
      "####################\n",
      "Fetching the \"coil20\" dataset\n",
      "####################\n",
      "Dataset loaded\n",
      "####################\n",
      "A 2D layout of the \"sample\" dataset will be created \n",
      "using the Chalmers' 1996 algorithm\n",
      "####################\n",
      "####################\n",
      "No metrics will be collected during layout creation. \n",
      "To change this use the 'metric collection' parameter of the layout \n",
      "####################\n",
      "####################\n",
      "Warning: the initial 2D positions are all set to 0. \n",
      "You might want to use the \"initial layout\" parameter of the algorithm\n",
      "to specify a different initialisation\n",
      "####################\n",
      "(1440, 37)\n"
     ]
    }
   ],
   "source": [
    "parents, parent_hd_distances, sample_ld_pos, r, dims, data, sample, sample_indx = get_data('coil20')"
   ],
   "metadata": {
    "collapsed": false
   }
  },
  {
   "cell_type": "code",
   "execution_count": 7,
   "outputs": [
    {
     "name": "stdout",
     "output_type": "stream",
     "text": [
      "number of rows in data: 1440\n",
      "[[15.15301372 14.95242407 14.51960193 14.0633671  13.52540473 12.96985901\n",
      "  12.77788175 12.24431415 11.57856337 10.94776141 10.37353366 10.14724389\n",
      "  10.36843012 10.60094753]\n",
      " [14.96247845 14.7675687  14.31547626 13.5850136  12.99997926 12.56400154\n",
      "  12.30498206 11.82992708 11.35928628 10.93606131 10.48341908 10.48859317\n",
      "  10.73550324 10.92669382]\n",
      " [14.95079774 14.54086592 14.11802417 13.38813645 12.69809764 12.25367855\n",
      "  11.93667073 11.43439799 11.11138954 10.81903661 10.6496884  10.91281533\n",
      "  10.99373161 11.32890802]\n",
      " [15.24546336 14.66484869 13.96880066 13.25482644 12.55926153 12.02523703\n",
      "  11.65658906 11.34538672 11.08220372 10.97505552 10.89324232 11.03169872\n",
      "  11.35520763 11.8907604 ]\n",
      " [15.86039229 15.1351113  14.31412076 13.55492239 12.71033514 11.96930701\n",
      "  11.78316899 11.58548597 11.51362773 11.4518998  11.39409779 11.64085034\n",
      "  12.05690538 12.60040056]\n",
      " [16.44088992 15.81345174 15.05515422 14.23395383 13.43117006 12.75263708\n",
      "  12.36951047 12.18778682 12.08378544 12.05617512 12.10612032 12.3228578\n",
      "  12.72081344 13.2717904 ]\n",
      " [17.07303779 16.50369132 15.8854761  15.25436644 14.60780151 13.99741697\n",
      "  13.32689945 13.0616154  12.8899207  12.81680732 12.77500072 13.00687482\n",
      "  13.36261667 13.96756499]\n",
      " [17.99491909 17.48400419 16.94594371 16.38392207 15.82158905 15.25831517\n",
      "  14.54408161 13.79934563 13.62093009 13.56657266 13.51790561 13.81661423\n",
      "  14.20459409 14.82253017]\n",
      " [19.13738109 18.56667433 18.00474552 17.44745524 16.88280312 16.30344716\n",
      "  15.63259061 14.95368638 14.51851034 14.21821042 14.25614711 14.5882245\n",
      "  15.06271614 15.67509396]\n",
      " [20.14157458 19.62929407 19.05133713 18.41365583 17.82066304 17.23153816\n",
      "  16.6295934  16.16433079 15.76093139 15.40634537 15.45427328 15.82710504\n",
      "  16.39089933 17.20724341]\n",
      " [21.15510732 20.59335636 19.99358471 19.39853834 18.79077753 18.23642379\n",
      "  17.72851151 17.33180181 16.96731931 16.77047257 17.05821774 17.50584615\n",
      "  18.12154173 18.92706229]\n",
      " [22.13758913 21.59630566 21.02335295 20.47631526 19.94207618 19.42190396\n",
      "  19.0291893  18.68628093 18.4332813  18.63375045 18.9719276  19.41015776\n",
      "  20.0435086  20.81951895]\n",
      " [23.22786193 22.67131143 22.17328319 21.67048595 21.17239987 20.76334214\n",
      "  20.42618285 20.22917167 20.29090302 20.53962026 20.87689261 21.31456842\n",
      "  21.96913887 22.77225462]\n",
      " [24.53438857 23.93699959 23.36768292 22.90431384 22.52855429 22.22670656\n",
      "  22.03760779 22.01692558 22.18937969 22.44114343 22.77661316 23.26233954\n",
      "  23.89973027 24.85450928]]\n"
     ]
    }
   ],
   "source": [
    "point_idx = np.random.randint(0, r)\n",
    "print(f\"number of rows in data: {r}\")\n",
    "the_point_hd = data[point_idx]\n",
    "the_parent_indx = parents[point_idx]\n",
    "\n",
    "radius = parent_hd_distances[point_idx]\n",
    "the_parent = sample_ld_pos[the_parent_indx]\n",
    "\n",
    "\n",
    "extra_space = 0\n",
    "x = np.arange( the_parent[1] - radius - extra_space, the_parent[1] + radius + extra_space,1)\n",
    "y = np.arange( the_parent[0] - radius - extra_space, the_parent[0] + radius + extra_space,1)\n",
    "grid_size = x.size\n",
    "\n",
    "xv, yv = np.meshgrid(x, y)\n",
    "\n",
    "hd_dist= np.linalg.norm(sample- the_point_hd, axis=1)\n",
    "\n",
    "ld_dist = np.zeros((grid_size,grid_size, sample.shape[0]))\n",
    "\n",
    "for i in range(sample_ld_pos.shape[0]):\n",
    "    xy =  np.dstack((xv - sample_ld_pos[i, 0], yv - sample_ld_pos[i, 1]))\n",
    "    distance_one_p = np.linalg.norm(xy, axis=2)\n",
    "    ld_dist[... ,i] = distance_one_p\n",
    "\n",
    "diffs = np.abs(ld_dist - hd_dist[None, None,:])\n",
    "error = np.sum((diffs/hd_dist), axis=2)\n",
    "print(error)\n",
    "\n",
    "\n",
    "# fig, ax = plt.subplots()\n",
    "#\n",
    "# circle = plt.Circle((the_parent[0], the_parent[1]), radius, color='r')\n",
    "# h = plt.contourf(x, y, error)\n",
    "# plt.plot(the_parent[0], the_parent[1], 'r+')\n",
    "# plt.axis('scaled')\n",
    "# plt.axis.add_patch(circle)\n",
    "# plt.plot(sample_ld_pos[0], sample_ld_pos[1], 'ro')\n",
    "#\n",
    "# plt.colorbar()\n",
    "# plt.show()"
   ],
   "metadata": {
    "collapsed": false
   }
  },
  {
   "cell_type": "code",
   "execution_count": null,
   "outputs": [],
   "source": [],
   "metadata": {
    "collapsed": false
   }
  }
 ],
 "metadata": {
  "kernelspec": {
   "display_name": "Python 3",
   "language": "python",
   "name": "python3"
  },
  "language_info": {
   "codemirror_mode": {
    "name": "ipython",
    "version": 2
   },
   "file_extension": ".py",
   "mimetype": "text/x-python",
   "name": "python",
   "nbconvert_exporter": "python",
   "pygments_lexer": "ipython2",
   "version": "2.7.6"
  }
 },
 "nbformat": 4,
 "nbformat_minor": 0
}
