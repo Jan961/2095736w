{
 "cells": [
  {
   "cell_type": "code",
   "execution_count": 8,
   "metadata": {
    "collapsed": true
   },
   "outputs": [],
   "source": [
    "import numpy as np\n",
    "\n",
    "from experiments.utils.SimpleComparison import SimpleComparison\n",
    "from hdimvis.algorithms.spring_force_algos.chalmers96_algo.Chalmers96 import Chalmers96\n",
    "from hdimvis.visualise_layouts_and_metrics.plot import show_layout,show_generation_metrics\n",
    "from hdimvis.algorithms.stochastic_ntet_algo.SNeD import SNeD\n",
    "from hdimvis.create_low_d_layout.LayoutCreation import LayoutCreation\n",
    "from hdimvis.data_fetchers.DataFetcher import DataFetcher\n",
    "from hdimvis.visualise_layouts_and_metrics.plot import show_layout\n",
    "from sklearn.neighbors import KNeighborsClassifier\n",
    "from sklearn.model_selection import KFold\n",
    "from experiments.utils.get_kmeans_f1 import get_kmeans_f1\n",
    "from experiments.utils.get_f1_for_best_k_with_knn import get_f1_for_best_k_with_knn\n",
    "from experiments.utils.get_avg_classwise_f1 import get_avg_classwise_f1\n",
    "from sklearn.cluster import KMeans\n",
    "from sklearn.decomposition import PCA\n",
    "from sklearn.metrics import f1_score\n",
    "from pathlib import Path\n",
    "from definitions import PROJECT_ROOT\n",
    "import pickle\n",
    "from scipy import stats\n",
    "import matplotlib.pyplot as plt\n",
    "from time import perf_counter\n",
    "from  sklearn.manifold import SpectralEmbedding, MDS\n",
    "from hdimvis.metrics.distance_measures.euclidian_and_manhattan import euclidean\n",
    "import pandas as pd"
   ]
  },
  {
   "cell_type": "code",
   "execution_count": 4,
   "outputs": [
    {
     "name": "stdout",
     "output_type": "stream",
     "text": [
      "{'rna N3k': {'knnd': [<hdimvis.create_low_d_layout.Chalmers96Layout.Chalmers96Layout object at 0x000001A4386BB670>, <hdimvis.create_low_d_layout.Chalmers96Layout.Chalmers96Layout object at 0x000001A472124580>, <hdimvis.create_low_d_layout.Chalmers96Layout.Chalmers96Layout object at 0x000001A4734B0880>, <hdimvis.create_low_d_layout.Chalmers96Layout.Chalmers96Layout object at 0x000001A476959360>, <hdimvis.create_low_d_layout.Chalmers96Layout.Chalmers96Layout object at 0x000001A47877E6E0>, <hdimvis.create_low_d_layout.Chalmers96Layout.Chalmers96Layout object at 0x000001A4780B48B0>, <hdimvis.create_low_d_layout.Chalmers96Layout.Chalmers96Layout object at 0x000001A47A7CFCD0>, <hdimvis.create_low_d_layout.Chalmers96Layout.Chalmers96Layout object at 0x000001A47D856860>, <hdimvis.create_low_d_layout.Chalmers96Layout.Chalmers96Layout object at 0x000001A47F161720>, <hdimvis.create_low_d_layout.Chalmers96Layout.Chalmers96Layout object at 0x000001A40082E200>, <hdimvis.create_low_d_layout.Chalmers96Layout.Chalmers96Layout object at 0x000001A404D08250>, <hdimvis.create_low_d_layout.Chalmers96Layout.Chalmers96Layout object at 0x000001A47E08F790>, <hdimvis.create_low_d_layout.Chalmers96Layout.Chalmers96Layout object at 0x000001A409983250>, <hdimvis.create_low_d_layout.Chalmers96Layout.Chalmers96Layout object at 0x000001A40655E3B0>, <hdimvis.create_low_d_layout.Chalmers96Layout.Chalmers96Layout object at 0x000001A40C6F07C0>, <hdimvis.create_low_d_layout.Chalmers96Layout.Chalmers96Layout object at 0x000001A409492DD0>, <hdimvis.create_low_d_layout.Chalmers96Layout.Chalmers96Layout object at 0x000001A410A40580>, <hdimvis.create_low_d_layout.Chalmers96Layout.Chalmers96Layout object at 0x000001A4092D1E40>, <hdimvis.create_low_d_layout.Chalmers96Layout.Chalmers96Layout object at 0x000001A4136BD060>, <hdimvis.create_low_d_layout.Chalmers96Layout.Chalmers96Layout object at 0x000001A40BE6B250>, <hdimvis.create_low_d_layout.Chalmers96Layout.Chalmers96Layout object at 0x000001A403CEAFB0>, <hdimvis.create_low_d_layout.Chalmers96Layout.Chalmers96Layout object at 0x000001A407257370>, <hdimvis.create_low_d_layout.Chalmers96Layout.Chalmers96Layout object at 0x000001A419CF5450>, <hdimvis.create_low_d_layout.Chalmers96Layout.Chalmers96Layout object at 0x000001A41B648BE0>, <hdimvis.create_low_d_layout.Chalmers96Layout.Chalmers96Layout object at 0x000001A41924F6D0>], 'no knnd': [<hdimvis.create_low_d_layout.Chalmers96Layout.Chalmers96Layout object at 0x000001A41FC39F90>, <hdimvis.create_low_d_layout.Chalmers96Layout.Chalmers96Layout object at 0x000001A412465870>, <hdimvis.create_low_d_layout.Chalmers96Layout.Chalmers96Layout object at 0x000001A4226AC7C0>, <hdimvis.create_low_d_layout.Chalmers96Layout.Chalmers96Layout object at 0x000001A425018190>, <hdimvis.create_low_d_layout.Chalmers96Layout.Chalmers96Layout object at 0x000001A4167F0A60>, <hdimvis.create_low_d_layout.Chalmers96Layout.Chalmers96Layout object at 0x000001A42C344BE0>, <hdimvis.create_low_d_layout.Chalmers96Layout.Chalmers96Layout object at 0x000001A42EF62AD0>, <hdimvis.create_low_d_layout.Chalmers96Layout.Chalmers96Layout object at 0x000001A43190DED0>, <hdimvis.create_low_d_layout.Chalmers96Layout.Chalmers96Layout object at 0x000001A47D334E80>, <hdimvis.create_low_d_layout.Chalmers96Layout.Chalmers96Layout object at 0x000001A4819AE290>, <hdimvis.create_low_d_layout.Chalmers96Layout.Chalmers96Layout object at 0x000001A484327AF0>, <hdimvis.create_low_d_layout.Chalmers96Layout.Chalmers96Layout object at 0x000001A486CC1AE0>, <hdimvis.create_low_d_layout.Chalmers96Layout.Chalmers96Layout object at 0x000001A489667E80>, <hdimvis.create_low_d_layout.Chalmers96Layout.Chalmers96Layout object at 0x000001A48C2D40A0>, <hdimvis.create_low_d_layout.Chalmers96Layout.Chalmers96Layout object at 0x000001A4275D7DF0>, <hdimvis.create_low_d_layout.Chalmers96Layout.Chalmers96Layout object at 0x000001A42A475210>, <hdimvis.create_low_d_layout.Chalmers96Layout.Chalmers96Layout object at 0x000001A498389060>, <hdimvis.create_low_d_layout.Chalmers96Layout.Chalmers96Layout object at 0x000001A49B0265F0>, <hdimvis.create_low_d_layout.Chalmers96Layout.Chalmers96Layout object at 0x000001A49DCA8AC0>, <hdimvis.create_low_d_layout.Chalmers96Layout.Chalmers96Layout object at 0x000001A4A1641CF0>, <hdimvis.create_low_d_layout.Chalmers96Layout.Chalmers96Layout object at 0x000001A4A42B7A00>, <hdimvis.create_low_d_layout.Chalmers96Layout.Chalmers96Layout object at 0x000001A4A6F2B820>, <hdimvis.create_low_d_layout.Chalmers96Layout.Chalmers96Layout object at 0x000001A4A98A28F0>, <hdimvis.create_low_d_layout.Chalmers96Layout.Chalmers96Layout object at 0x000001A4AC27CCA0>, <hdimvis.create_low_d_layout.Chalmers96Layout.Chalmers96Layout object at 0x000001A4AEEF26B0>]}, 'coli20': {'knnd': [<hdimvis.create_low_d_layout.Chalmers96Layout.Chalmers96Layout object at 0x000001A4B1B89C30>, <hdimvis.create_low_d_layout.Chalmers96Layout.Chalmers96Layout object at 0x000001A4B5E9D240>, <hdimvis.create_low_d_layout.Chalmers96Layout.Chalmers96Layout object at 0x000001A4B9E5ACB0>, <hdimvis.create_low_d_layout.Chalmers96Layout.Chalmers96Layout object at 0x000001A4BDED8970>, <hdimvis.create_low_d_layout.Chalmers96Layout.Chalmers96Layout object at 0x000001A4C1F6DBD0>, <hdimvis.create_low_d_layout.Chalmers96Layout.Chalmers96Layout object at 0x000001A4C1745990>, <hdimvis.create_low_d_layout.Chalmers96Layout.Chalmers96Layout object at 0x000001A4B7C3D870>, <hdimvis.create_low_d_layout.Chalmers96Layout.Chalmers96Layout object at 0x000001A4B5BDC0A0>, <hdimvis.create_low_d_layout.Chalmers96Layout.Chalmers96Layout object at 0x000001A4CFE8C760>, <hdimvis.create_low_d_layout.Chalmers96Layout.Chalmers96Layout object at 0x000001A4D3E4CC70>, <hdimvis.create_low_d_layout.Chalmers96Layout.Chalmers96Layout object at 0x000001A4D7E59840>, <hdimvis.create_low_d_layout.Chalmers96Layout.Chalmers96Layout object at 0x000001A4DBE8EAD0>, <hdimvis.create_low_d_layout.Chalmers96Layout.Chalmers96Layout object at 0x000001A4DFF1C6A0>, <hdimvis.create_low_d_layout.Chalmers96Layout.Chalmers96Layout object at 0x000001A40F37EB90>, <hdimvis.create_low_d_layout.Chalmers96Layout.Chalmers96Layout object at 0x000001A4E9399F30>, <hdimvis.create_low_d_layout.Chalmers96Layout.Chalmers96Layout object at 0x000001A4ED43BD90>, <hdimvis.create_low_d_layout.Chalmers96Layout.Chalmers96Layout object at 0x000001A4ECC6D7E0>, <hdimvis.create_low_d_layout.Chalmers96Layout.Chalmers96Layout object at 0x000001A4DFD69270>, <hdimvis.create_low_d_layout.Chalmers96Layout.Chalmers96Layout object at 0x000001A4D78DBCD0>, <hdimvis.create_low_d_layout.Chalmers96Layout.Chalmers96Layout object at 0x000001A4BD82F7F0>, <hdimvis.create_low_d_layout.Chalmers96Layout.Chalmers96Layout object at 0x000001A4BD9652D0>, <hdimvis.create_low_d_layout.Chalmers96Layout.Chalmers96Layout object at 0x000001A4CF9E5300>, <hdimvis.create_low_d_layout.Chalmers96Layout.Chalmers96Layout object at 0x000001A4D3845F00>, <hdimvis.create_low_d_layout.Chalmers96Layout.Chalmers96Layout object at 0x000001A50709EEF0>, <hdimvis.create_low_d_layout.Chalmers96Layout.Chalmers96Layout object at 0x000001A50B064D90>], 'no knnd': [<hdimvis.create_low_d_layout.Chalmers96Layout.Chalmers96Layout object at 0x000001A50F03B310>, <hdimvis.create_low_d_layout.Chalmers96Layout.Chalmers96Layout object at 0x000001A511C0EE90>, <hdimvis.create_low_d_layout.Chalmers96Layout.Chalmers96Layout object at 0x000001A514870640>, <hdimvis.create_low_d_layout.Chalmers96Layout.Chalmers96Layout object at 0x000001A516515480>, <hdimvis.create_low_d_layout.Chalmers96Layout.Chalmers96Layout object at 0x000001A50E7D15A0>, <hdimvis.create_low_d_layout.Chalmers96Layout.Chalmers96Layout object at 0x000001A4F0E5F130>, <hdimvis.create_low_d_layout.Chalmers96Layout.Chalmers96Layout object at 0x000001A4B5A8D7E0>, <hdimvis.create_low_d_layout.Chalmers96Layout.Chalmers96Layout object at 0x000001A4DA883280>, <hdimvis.create_low_d_layout.Chalmers96Layout.Chalmers96Layout object at 0x000001A4EF199300>, <hdimvis.create_low_d_layout.Chalmers96Layout.Chalmers96Layout object at 0x000001A522C19000>, <hdimvis.create_low_d_layout.Chalmers96Layout.Chalmers96Layout object at 0x000001A5255006D0>, <hdimvis.create_low_d_layout.Chalmers96Layout.Chalmers96Layout object at 0x000001A526E09000>, <hdimvis.create_low_d_layout.Chalmers96Layout.Chalmers96Layout object at 0x000001A52980E410>, <hdimvis.create_low_d_layout.Chalmers96Layout.Chalmers96Layout object at 0x000001A52C3F79A0>, <hdimvis.create_low_d_layout.Chalmers96Layout.Chalmers96Layout object at 0x000001A48EC7DDB0>, <hdimvis.create_low_d_layout.Chalmers96Layout.Chalmers96Layout object at 0x000001A4918D22C0>, <hdimvis.create_low_d_layout.Chalmers96Layout.Chalmers96Layout object at 0x000001A493550FD0>, <hdimvis.create_low_d_layout.Chalmers96Layout.Chalmers96Layout object at 0x000001A496186680>, <hdimvis.create_low_d_layout.Chalmers96Layout.Chalmers96Layout object at 0x000001A541222FB0>, <hdimvis.create_low_d_layout.Chalmers96Layout.Chalmers96Layout object at 0x000001A543E8C7F0>, <hdimvis.create_low_d_layout.Chalmers96Layout.Chalmers96Layout object at 0x000001A546AE4280>, <hdimvis.create_low_d_layout.Chalmers96Layout.Chalmers96Layout object at 0x000001A548764BE0>, <hdimvis.create_low_d_layout.Chalmers96Layout.Chalmers96Layout object at 0x000001A54B396950>, <hdimvis.create_low_d_layout.Chalmers96Layout.Chalmers96Layout object at 0x000001A54DFE5D50>, <hdimvis.create_low_d_layout.Chalmers96Layout.Chalmers96Layout object at 0x000001A550C35870>]}, 'globe': {'knnd': [<hdimvis.create_low_d_layout.Chalmers96Layout.Chalmers96Layout object at 0x000001A55387B490>, <hdimvis.create_low_d_layout.Chalmers96Layout.Chalmers96Layout object at 0x000001A554F27010>, <hdimvis.create_low_d_layout.Chalmers96Layout.Chalmers96Layout object at 0x000001A5567296C0>, <hdimvis.create_low_d_layout.Chalmers96Layout.Chalmers96Layout object at 0x000001A559054460>, <hdimvis.create_low_d_layout.Chalmers96Layout.Chalmers96Layout object at 0x000001A55B987880>, <hdimvis.create_low_d_layout.Chalmers96Layout.Chalmers96Layout object at 0x000001A55D2CB670>, <hdimvis.create_low_d_layout.Chalmers96Layout.Chalmers96Layout object at 0x000001A55FBDD030>, <hdimvis.create_low_d_layout.Chalmers96Layout.Chalmers96Layout object at 0x000001A5625437F0>, <hdimvis.create_low_d_layout.Chalmers96Layout.Chalmers96Layout object at 0x000001A563EC3700>, <hdimvis.create_low_d_layout.Chalmers96Layout.Chalmers96Layout object at 0x000001A56686D060>, <hdimvis.create_low_d_layout.Chalmers96Layout.Chalmers96Layout object at 0x000001A5692E3610>, <hdimvis.create_low_d_layout.Chalmers96Layout.Chalmers96Layout object at 0x000001A56BD3B550>, <hdimvis.create_low_d_layout.Chalmers96Layout.Chalmers96Layout object at 0x000001A56CF9F7F0>, <hdimvis.create_low_d_layout.Chalmers96Layout.Chalmers96Layout object at 0x000001A5609230D0>, <hdimvis.create_low_d_layout.Chalmers96Layout.Chalmers96Layout object at 0x000001A555F1B250>, <hdimvis.create_low_d_layout.Chalmers96Layout.Chalmers96Layout object at 0x000001A55F00D240>, <hdimvis.create_low_d_layout.Chalmers96Layout.Chalmers96Layout object at 0x000001A56FD0F9D0>, <hdimvis.create_low_d_layout.Chalmers96Layout.Chalmers96Layout object at 0x000001A5716478E0>, <hdimvis.create_low_d_layout.Chalmers96Layout.Chalmers96Layout object at 0x000001A572F99210>, <hdimvis.create_low_d_layout.Chalmers96Layout.Chalmers96Layout object at 0x000001A5759A7970>, <hdimvis.create_low_d_layout.Chalmers96Layout.Chalmers96Layout object at 0x000001A5775F3700>, <hdimvis.create_low_d_layout.Chalmers96Layout.Chalmers96Layout object at 0x000001A579F48FD0>, <hdimvis.create_low_d_layout.Chalmers96Layout.Chalmers96Layout object at 0x000001A57C90F610>, <hdimvis.create_low_d_layout.Chalmers96Layout.Chalmers96Layout object at 0x000001A57F353430>, <hdimvis.create_low_d_layout.Chalmers96Layout.Chalmers96Layout object at 0x000001A580DE0CA0>], 'no knnd': [<hdimvis.create_low_d_layout.Chalmers96Layout.Chalmers96Layout object at 0x000001A57D977A00>, <hdimvis.create_low_d_layout.Chalmers96Layout.Chalmers96Layout object at 0x000001A5850F4C10>, <hdimvis.create_low_d_layout.Chalmers96Layout.Chalmers96Layout object at 0x000001A58AF9E830>, <hdimvis.create_low_d_layout.Chalmers96Layout.Chalmers96Layout object at 0x000001A59133D3C0>, <hdimvis.create_low_d_layout.Chalmers96Layout.Chalmers96Layout object at 0x000001A59771EA40>, <hdimvis.create_low_d_layout.Chalmers96Layout.Chalmers96Layout object at 0x000001A59DB39510>, <hdimvis.create_low_d_layout.Chalmers96Layout.Chalmers96Layout object at 0x000001A5A3BBEEF0>, <hdimvis.create_low_d_layout.Chalmers96Layout.Chalmers96Layout object at 0x000001A5A9F02770>, <hdimvis.create_low_d_layout.Chalmers96Layout.Chalmers96Layout object at 0x000001A5B02E5BA0>, <hdimvis.create_low_d_layout.Chalmers96Layout.Chalmers96Layout object at 0x000001A530CAA2C0>, <hdimvis.create_low_d_layout.Chalmers96Layout.Chalmers96Layout object at 0x000001A53706E500>, <hdimvis.create_low_d_layout.Chalmers96Layout.Chalmers96Layout object at 0x000001A53D49A1D0>, <hdimvis.create_low_d_layout.Chalmers96Layout.Chalmers96Layout object at 0x000001A5D9413F70>, <hdimvis.create_low_d_layout.Chalmers96Layout.Chalmers96Layout object at 0x000001A5DF883700>, <hdimvis.create_low_d_layout.Chalmers96Layout.Chalmers96Layout object at 0x000001A5E5CD6950>, <hdimvis.create_low_d_layout.Chalmers96Layout.Chalmers96Layout object at 0x000001A5EC162FE0>, <hdimvis.create_low_d_layout.Chalmers96Layout.Chalmers96Layout object at 0x000001A5F262CA60>, <hdimvis.create_low_d_layout.Chalmers96Layout.Chalmers96Layout object at 0x000001A5F8A823E0>, <hdimvis.create_low_d_layout.Chalmers96Layout.Chalmers96Layout object at 0x000001A5FEF36860>, <hdimvis.create_low_d_layout.Chalmers96Layout.Chalmers96Layout object at 0x000001A6053D3670>, <hdimvis.create_low_d_layout.Chalmers96Layout.Chalmers96Layout object at 0x000001A60B8AAEC0>, <hdimvis.create_low_d_layout.Chalmers96Layout.Chalmers96Layout object at 0x000001A611D36080>, <hdimvis.create_low_d_layout.Chalmers96Layout.Chalmers96Layout object at 0x000001A6181BF850>, <hdimvis.create_low_d_layout.Chalmers96Layout.Chalmers96Layout object at 0x000001A61E68EB60>, <hdimvis.create_low_d_layout.Chalmers96Layout.Chalmers96Layout object at 0x000001A624B1B0A0>]}, 'fashion mnist': {'knnd': [<hdimvis.create_low_d_layout.Chalmers96Layout.Chalmers96Layout object at 0x000001A62AF85210>, <hdimvis.create_low_d_layout.Chalmers96Layout.Chalmers96Layout object at 0x000001A6376A3A30>, <hdimvis.create_low_d_layout.Chalmers96Layout.Chalmers96Layout object at 0x000001A644B8F0D0>, <hdimvis.create_low_d_layout.Chalmers96Layout.Chalmers96Layout object at 0x000001A652005840>, <hdimvis.create_low_d_layout.Chalmers96Layout.Chalmers96Layout object at 0x000001A65F4D2E60>, <hdimvis.create_low_d_layout.Chalmers96Layout.Chalmers96Layout object at 0x000001A66C94E560>, <hdimvis.create_low_d_layout.Chalmers96Layout.Chalmers96Layout object at 0x000001A67AE28EE0>, <hdimvis.create_low_d_layout.Chalmers96Layout.Chalmers96Layout object at 0x000001A6882DA5F0>, <hdimvis.create_low_d_layout.Chalmers96Layout.Chalmers96Layout object at 0x000001A695FE1F00>, <hdimvis.create_low_d_layout.Chalmers96Layout.Chalmers96Layout object at 0x000001A6A348C730>, <hdimvis.create_low_d_layout.Chalmers96Layout.Chalmers96Layout object at 0x000001A6B0945DE0>, <hdimvis.create_low_d_layout.Chalmers96Layout.Chalmers96Layout object at 0x000001A6BEF01330>, <hdimvis.create_low_d_layout.Chalmers96Layout.Chalmers96Layout object at 0x000001A6CC5039A0>, <hdimvis.create_low_d_layout.Chalmers96Layout.Chalmers96Layout object at 0x000001A6D9AB9240>, <hdimvis.create_low_d_layout.Chalmers96Layout.Chalmers96Layout object at 0x000001A6E81285E0>, <hdimvis.create_low_d_layout.Chalmers96Layout.Chalmers96Layout object at 0x000001A6F56B9D50>, <hdimvis.create_low_d_layout.Chalmers96Layout.Chalmers96Layout object at 0x000001A703CB72E0>, <hdimvis.create_low_d_layout.Chalmers96Layout.Chalmers96Layout object at 0x000001A7112AA7A0>, <hdimvis.create_low_d_layout.Chalmers96Layout.Chalmers96Layout object at 0x000001A71E817F10>, <hdimvis.create_low_d_layout.Chalmers96Layout.Chalmers96Layout object at 0x000001A72CD69600>, <hdimvis.create_low_d_layout.Chalmers96Layout.Chalmers96Layout object at 0x000001A73A33CA90>, <hdimvis.create_low_d_layout.Chalmers96Layout.Chalmers96Layout object at 0x000001A71D7C0100>, <hdimvis.create_low_d_layout.Chalmers96Layout.Chalmers96Layout object at 0x000001A6D56FE350>, <hdimvis.create_low_d_layout.Chalmers96Layout.Chalmers96Layout object at 0x000001A6863C5D80>, <hdimvis.create_low_d_layout.Chalmers96Layout.Chalmers96Layout object at 0x000001A63F7F4310>], 'no knnd': [<hdimvis.create_low_d_layout.Chalmers96Layout.Chalmers96Layout object at 0x000001A642D497B0>, <hdimvis.create_low_d_layout.Chalmers96Layout.Chalmers96Layout object at 0x000001A77CD709D0>, <hdimvis.create_low_d_layout.Chalmers96Layout.Chalmers96Layout object at 0x000001A788B660B0>, <hdimvis.create_low_d_layout.Chalmers96Layout.Chalmers96Layout object at 0x000001A79497B9D0>, <hdimvis.create_low_d_layout.Chalmers96Layout.Chalmers96Layout object at 0x000001A7A07CBB80>, <hdimvis.create_low_d_layout.Chalmers96Layout.Chalmers96Layout object at 0x000001A7AB64FFD0>, <hdimvis.create_low_d_layout.Chalmers96Layout.Chalmers96Layout object at 0x000001A7B74BA710>, <hdimvis.create_low_d_layout.Chalmers96Layout.Chalmers96Layout object at 0x000001A7C330E2C0>, <hdimvis.create_low_d_layout.Chalmers96Layout.Chalmers96Layout object at 0x000001A7CF159090>, <hdimvis.create_low_d_layout.Chalmers96Layout.Chalmers96Layout object at 0x000001A7D9F7C190>, <hdimvis.create_low_d_layout.Chalmers96Layout.Chalmers96Layout object at 0x000001A7E5DB2B00>, <hdimvis.create_low_d_layout.Chalmers96Layout.Chalmers96Layout object at 0x000001A5B9EA5F00>, <hdimvis.create_low_d_layout.Chalmers96Layout.Chalmers96Layout object at 0x000001A5C4683C40>, <hdimvis.create_low_d_layout.Chalmers96Layout.Chalmers96Layout object at 0x000001A5CFF3A260>, <hdimvis.create_low_d_layout.Chalmers96Layout.Chalmers96Layout object at 0x000001A832B61C00>, <hdimvis.create_low_d_layout.Chalmers96Layout.Chalmers96Layout object at 0x000001A83E90E770>, <hdimvis.create_low_d_layout.Chalmers96Layout.Chalmers96Layout object at 0x000001A84A6E6860>, <hdimvis.create_low_d_layout.Chalmers96Layout.Chalmers96Layout object at 0x000001A8564AAD40>, <hdimvis.create_low_d_layout.Chalmers96Layout.Chalmers96Layout object at 0x000001A86221BFD0>, <hdimvis.create_low_d_layout.Chalmers96Layout.Chalmers96Layout object at 0x000001A86DFFBFD0>, <hdimvis.create_low_d_layout.Chalmers96Layout.Chalmers96Layout object at 0x000001A879E36B00>, <hdimvis.create_low_d_layout.Chalmers96Layout.Chalmers96Layout object at 0x000001A884CFC160>, <hdimvis.create_low_d_layout.Chalmers96Layout.Chalmers96Layout object at 0x000001A890B0FD90>, <hdimvis.create_low_d_layout.Chalmers96Layout.Chalmers96Layout object at 0x000001A89C99E500>, <hdimvis.create_low_d_layout.Chalmers96Layout.Chalmers96Layout object at 0x000001A8A87A9240>]}, 'mnist': {'knnd': [<hdimvis.create_low_d_layout.Chalmers96Layout.Chalmers96Layout object at 0x000001A8B45C7880>, <hdimvis.create_low_d_layout.Chalmers96Layout.Chalmers96Layout object at 0x000001A8C1A031C0>, <hdimvis.create_low_d_layout.Chalmers96Layout.Chalmers96Layout object at 0x000001A8CEBBAD70>, <hdimvis.create_low_d_layout.Chalmers96Layout.Chalmers96Layout object at 0x000001A8DBD24520>, <hdimvis.create_low_d_layout.Chalmers96Layout.Chalmers96Layout object at 0x000001A8E8EADC60>, <hdimvis.create_low_d_layout.Chalmers96Layout.Chalmers96Layout object at 0x000001A8F60D5090>, <hdimvis.create_low_d_layout.Chalmers96Layout.Chalmers96Layout object at 0x000001A8CE120A30>, <hdimvis.create_low_d_layout.Chalmers96Layout.Chalmers96Layout object at 0x000001A90E390220>, <hdimvis.create_low_d_layout.Chalmers96Layout.Chalmers96Layout object at 0x000001A91B50FD30>, <hdimvis.create_low_d_layout.Chalmers96Layout.Chalmers96Layout object at 0x000001A928730FA0>, <hdimvis.create_low_d_layout.Chalmers96Layout.Chalmers96Layout object at 0x000001A93593A590>, <hdimvis.create_low_d_layout.Chalmers96Layout.Chalmers96Layout object at 0x000001A943AB1630>, <hdimvis.create_low_d_layout.Chalmers96Layout.Chalmers96Layout object at 0x000001A950D10310>, <hdimvis.create_low_d_layout.Chalmers96Layout.Chalmers96Layout object at 0x000001A95DF6B1C0>, <hdimvis.create_low_d_layout.Chalmers96Layout.Chalmers96Layout object at 0x000001A96B10ADA0>, <hdimvis.create_low_d_layout.Chalmers96Layout.Chalmers96Layout object at 0x000001A9792CC070>, <hdimvis.create_low_d_layout.Chalmers96Layout.Chalmers96Layout object at 0x000001A98646D930>, <hdimvis.create_low_d_layout.Chalmers96Layout.Chalmers96Layout object at 0x000001A993680670>, <hdimvis.create_low_d_layout.Chalmers96Layout.Chalmers96Layout object at 0x000001A9A084AF20>, <hdimvis.create_low_d_layout.Chalmers96Layout.Chalmers96Layout object at 0x000001A9AEA92050>, <hdimvis.create_low_d_layout.Chalmers96Layout.Chalmers96Layout object at 0x000001A9BBBC1DB0>, <hdimvis.create_low_d_layout.Chalmers96Layout.Chalmers96Layout object at 0x000001A9C8E831C0>, <hdimvis.create_low_d_layout.Chalmers96Layout.Chalmers96Layout object at 0x000001A9D6191E70>, <hdimvis.create_low_d_layout.Chalmers96Layout.Chalmers96Layout object at 0x000001A9E44C54E0>, <hdimvis.create_low_d_layout.Chalmers96Layout.Chalmers96Layout object at 0x000001A9F1806680>], 'no knnd': [<hdimvis.create_low_d_layout.Chalmers96Layout.Chalmers96Layout object at 0x000001A9FEB68D00>, <hdimvis.create_low_d_layout.Chalmers96Layout.Chalmers96Layout object at 0x000001AA0A6F6B90>, <hdimvis.create_low_d_layout.Chalmers96Layout.Chalmers96Layout object at 0x000001AA16548280>, <hdimvis.create_low_d_layout.Chalmers96Layout.Chalmers96Layout object at 0x000001AA2236E140>, <hdimvis.create_low_d_layout.Chalmers96Layout.Chalmers96Layout object at 0x000001AA2E161990>, <hdimvis.create_low_d_layout.Chalmers96Layout.Chalmers96Layout object at 0x000001AA39F512A0>, <hdimvis.create_low_d_layout.Chalmers96Layout.Chalmers96Layout object at 0x000001AA45DC5570>, <hdimvis.create_low_d_layout.Chalmers96Layout.Chalmers96Layout object at 0x000001AA50C31D50>, <hdimvis.create_low_d_layout.Chalmers96Layout.Chalmers96Layout object at 0x000001AA5CA2D240>, <hdimvis.create_low_d_layout.Chalmers96Layout.Chalmers96Layout object at 0x000001AA6883D2A0>, <hdimvis.create_low_d_layout.Chalmers96Layout.Chalmers96Layout object at 0x000001AA7468F250>, <hdimvis.create_low_d_layout.Chalmers96Layout.Chalmers96Layout object at 0x000001A9FA77B0D0>, <hdimvis.create_low_d_layout.Chalmers96Layout.Chalmers96Layout object at 0x000001A93BCF8880>, <hdimvis.create_low_d_layout.Chalmers96Layout.Chalmers96Layout object at 0x000001AA8DFD2590>, <hdimvis.create_low_d_layout.Chalmers96Layout.Chalmers96Layout object at 0x000001AA99C50D90>, <hdimvis.create_low_d_layout.Chalmers96Layout.Chalmers96Layout object at 0x000001AAA58F84F0>, <hdimvis.create_low_d_layout.Chalmers96Layout.Chalmers96Layout object at 0x000001AAB06D1480>, <hdimvis.create_low_d_layout.Chalmers96Layout.Chalmers96Layout object at 0x000001AABC4A9BA0>, <hdimvis.create_low_d_layout.Chalmers96Layout.Chalmers96Layout object at 0x000001AAC8256F20>, <hdimvis.create_low_d_layout.Chalmers96Layout.Chalmers96Layout object at 0x000001AAD401A740>, <hdimvis.create_low_d_layout.Chalmers96Layout.Chalmers96Layout object at 0x000001AADFDC6B60>, <hdimvis.create_low_d_layout.Chalmers96Layout.Chalmers96Layout object at 0x000001AAEBB99060>, <hdimvis.create_low_d_layout.Chalmers96Layout.Chalmers96Layout object at 0x000001AAF69512D0>, <hdimvis.create_low_d_layout.Chalmers96Layout.Chalmers96Layout object at 0x000001AB026DFB80>, <hdimvis.create_low_d_layout.Chalmers96Layout.Chalmers96Layout object at 0x000001AB0E4FF3A0>]}}\n"
     ]
    }
   ],
   "source": [
    "output_dir= (Path(PROJECT_ROOT).joinpath(\n",
    "    Path(f\"experiments/knnd/out/\"))).resolve().absolute()\n",
    "\n",
    "path_to_pickle = (Path(output_dir).joinpath(Path(f\"layouts.pickle\"))).resolve()\n",
    "with open(path_to_pickle, 'rb') as file:\n",
    "    layouts = pickle.load(file)\n",
    "print(layouts)"
   ],
   "metadata": {
    "collapsed": false
   }
  },
  {
   "cell_type": "code",
   "execution_count": 1,
   "outputs": [],
   "source": [
    "# for name, dict in layouts.items():\n",
    "#     print(name)\n",
    "#     for type, ls in dict.items():\n",
    "#         print(type)\n",
    "#         for l in ls:\n",
    "#             show_layout(l, use_labels=True)\n"
   ],
   "metadata": {
    "collapsed": false
   }
  },
  {
   "cell_type": "code",
   "execution_count": 5,
   "outputs": [
    {
     "name": "stdout",
     "output_type": "stream",
     "text": [
      "{'rna N3k': {'knnd': [85.31632380001247, 63.752671600086614, 63.74740770016797, 64.82735210005194, 65.18459600000642, 64.59016799996607, 63.802429100032896, 64.07501300005242, 64.28779600001872, 64.09899349999614, 64.80092409998178, 64.72249549999833, 63.79322290001437, 63.354148800019175, 64.30235060001723, 63.78219369985163, 63.682911900104955, 64.16301600006409, 64.04541250015609, 63.49404940009117, 63.91439009993337, 63.77847160003148, 63.64793949993327, 64.17900529992767, 65.1879226998426], 'no knnd': [83.69624890014529, 84.68989200005308, 83.98113120021299, 83.25401789997704, 83.20399270020425, 84.23498809989542, 83.98310529999435, 83.08164989994839, 83.85975219984539, 83.59804440010339, 83.56781659997068, 83.42386400001124, 84.08998779999092, 83.4031485999003, 83.5658438000828, 83.22416989994235, 84.42527849995531, 83.30991800012998, 83.43133950000629, 83.91075200005434, 83.80825729994103, 84.35294310003519, 82.8200451999437, 83.3459037002176, 82.78242840012535]}, 'coli20': {'knnd': [33.54589399998076, 33.53672099998221, 33.72439990006387, 33.96117709996179, 33.60927170002833, 33.75927340006456, 33.47095620003529, 34.03916039993055, 33.34073320007883, 33.87404150003567, 34.00801969994791, 33.70234839990735, 33.34589849994518, 37.70834030001424, 33.84979999996722, 34.16897589992732, 33.636662600096315, 34.242081499891356, 34.29466680018231, 34.31920129992068, 34.22082110005431, 34.25937750004232, 34.48781859991141, 34.4094559000805, 34.53257709997706], 'no knnd': [46.110623999964446, 46.32750599994324, 46.266324299853295, 46.43043680000119, 46.15329309995286, 46.858548200223595, 46.092164600035176, 46.13470850000158, 46.161899799946696, 45.97834839997813, 46.070629900088534, 46.107752199983224, 46.035463199950755, 46.189777199877426, 46.1835059998557, 46.06682020006701, 45.844314800109714, 46.10541069996543, 46.22079439996742, 46.115619900170714, 45.89877490000799, 46.172773000085726, 46.0224929000251, 47.038332299795, 46.195303900167346]}, 'globe': {'knnd': [167.95410580001771, 168.7053121998906, 168.06639259983785, 169.32718600006774, 169.38199039991014, 168.99144820007496, 168.90762059995905, 166.4524340000935, 167.05333080003038, 169.66993890004233, 169.4218168000225, 189.23991489992477, 170.4311410000082, 168.8342989999801, 172.7042167999316, 171.28458510013297, 170.17625169991516, 169.38872590009123, 171.70714780013077, 171.394734099973, 173.3273776001297, 172.73433030000888, 172.71597170014866, 169.99540410004556, 171.96450780006126], 'no knnd': [197.45944690005854, 197.05014800000936, 194.2879170998931, 233.528877499979, 195.56238789996132, 196.2696179000195, 196.46870639990084, 195.38389619998634, 195.93149220012128, 193.27368089999072, 195.01242160005495, 195.5286977000069, 195.55725319986232, 195.66556419990957, 195.04640840017237, 195.1917072001379, 194.9765025000088, 196.07580440002494, 194.61406299984083, 196.34369749994949, 193.84383989986964, 196.81502330000512, 197.60217730002478, 196.40972480014898, 196.26971839996986]}, 'fashion mnist': {'knnd': [202.34725979994982, 201.73975160019472, 201.44687100010924, 201.0943179000169, 200.73378619994037, 200.6981889999006, 204.70527309994213, 203.58368959999643, 203.53588129999116, 203.5640962999314, 203.67507430003025, 204.11780490004458, 205.07190249999985, 204.01181609998457, 204.2513216000516, 205.61546090012416, 205.14647989999503, 205.3890031001065, 207.55487599992193, 205.15877839992754, 206.58213189989328, 207.7569550999906, 208.65449539991096, 204.69312479998916, 209.35852160002105], 'no knnd': [235.14972770004533, 234.32501420006156, 234.2231269001495, 232.79229440004565, 234.4587855001446, 233.9786415998824, 233.60675209993497, 233.53343560011126, 233.63761000009254, 233.89834619988687, 233.73441240005195, 233.58109949994832, 234.63588029984385, 233.7579552999232, 233.3814964001067, 232.16797039983794, 233.8204278999474, 235.28300919989124, 237.77937030000612, 233.90760130016133, 233.71780840004794, 233.71433029999025, 232.57770170015283, 233.50808029994369, 233.43406879995018]}, 'mnist': {'knnd': [209.5680660000071, 208.0534881001804, 208.96187240001746, 209.98618520004675, 210.8474208000116, 211.29547849996015, 210.04253960005008, 217.5348704000935, 213.4765117999632, 211.92433529999107, 213.10385740012862, 213.06459660013206, 213.01053109997883, 215.61314240004867, 223.51071910001338, 214.43311730003916, 238.8464207998477, 215.7893356999848, 216.77560860011727, 216.16686089988798, 215.9728401999455, 217.14448219980113, 217.9539913998451, 219.60262409993447, 227.70668740011752], 'no knnd': [233.65034369984642, 233.41668169992045, 232.93483300018124, 232.8959986998234, 233.93330340017565, 233.94197169994004, 233.19341279985383, 233.1639590000268, 234.4231742999982, 233.8835402999539, 233.0118003000971, 233.68394669983536, 233.4920914999675, 277.10769780003466, 232.5918966999743, 233.10867449990474, 234.11631949990988, 273.903944300022, 234.60900470009074, 234.56192190013826, 234.351409799885, 233.53981560003012, 232.69016080000438, 233.81334090000018, 234.6394686999265]}}\n"
     ]
    }
   ],
   "source": [
    "output_dir= (Path(PROJECT_ROOT).joinpath(\n",
    "    Path(f\"experiments/knnd/out/\"))).resolve().absolute()\n",
    "\n",
    "path_to_pickle = (Path(output_dir).joinpath(Path(f\"times.pickle\"))).resolve()\n",
    "with open(path_to_pickle, 'rb') as file:\n",
    "    times = pickle.load(file)\n",
    "print(times)"
   ],
   "metadata": {
    "collapsed": false
   }
  },
  {
   "cell_type": "code",
   "execution_count": 22,
   "outputs": [
    {
     "name": "stdout",
     "output_type": "stream",
     "text": [
      "rna N3k:Mean kNNd: 64.13, SD: 0.5 \n",
      "Mean no knnd 83.64, SD: 0.48 \n",
      "\n",
      "1.31e-62\n",
      "####################\n",
      "coli20:Mean kNNd: 34.08, SD: 0.82 \n",
      "Mean no knnd 46.19, SD: 0.25 \n",
      "\n",
      "1.11e-33\n",
      "####################\n",
      "globe:Mean kNNd: 170.79, SD: 4.17 \n",
      "Mean no knnd 197.21, SD: 7.49 \n",
      "\n",
      "7.62e-18\n",
      "####################\n",
      "fashion mnist:Mean kNNd: 204.42, SD: 2.31 \n",
      "Mean no knnd 233.94, SD: 1.03 \n",
      "\n",
      "4.86e-35\n",
      "####################\n",
      "mnist:Mean kNNd: 215.62, SD: 6.51 \n",
      "Mean no knnd 236.99, SD: 11.38 \n",
      "\n",
      "5.77e-10\n",
      "####################\n"
     ]
    }
   ],
   "source": [
    "# rna N3k -  knnd first removed - outlier\n",
    "\n",
    "\n",
    "names = ['rna N3k','coli20', 'globe', 'fashion mnist', 'mnist']\n",
    "\n",
    "\n",
    "for i, name in enumerate(names):\n",
    "    if name == 'rna N3k':\n",
    "        knnd = np.array(times[name]['knnd'])[1:]  # remove the outlier for rna n3k\n",
    "    else:\n",
    "        knnd = np.array(times[name]['knnd'])\n",
    "\n",
    "    no_knnd = np.array(times[name]['no knnd'])\n",
    "\n",
    "    tstat, pvalue = stats.ttest_ind(no_knnd, knnd, equal_var=False, alternative='greater')\n",
    "\n",
    "\n",
    "    print(f\"{name}:\"\n",
    "      f\"Mean kNNd: {np.mean(knnd).round(2)}, SD: {np.std(knnd).round(2)} \\n\"\n",
    "      f\"Mean no knnd {np.mean(no_knnd).round(2)}, SD: {np.std(no_knnd).round(2)} \\n\")\n",
    "    tstat, pvalue = stats.ttest_ind(no_knnd, knnd, equal_var=False, alternative='greater')\n",
    "    print(np.format_float_scientific(pvalue, precision=2,min_digits=2))\n",
    "    print('#'*20)\n",
    "\n"
   ],
   "metadata": {
    "collapsed": false
   }
  },
  {
   "cell_type": "code",
   "execution_count": null,
   "outputs": [],
   "source": [
    "# see what good bounds for k might be for knn classifier\n",
    "for dataset_name, version_dict in layouts:\n",
    "    print(dataset_name)\n",
    "    for j, version in enumerate(['knnd', 'no knnd']):\n",
    "        print(version)\n",
    "        for i,layout in enumerate(version_dict[version]):\n",
    "            print(i)\n",
    "            get_f1_for_best_k_with_knn(lower_bound=1, upper_bound=200,\n",
    "                                         cross_validation_folds=10,\n",
    "                                         data=layout.data,\n",
    "                                         labels=layout.labels,\n",
    "                                       show_averages=True)\n",
    "\n"
   ],
   "metadata": {
    "collapsed": false
   }
  },
  {
   "cell_type": "code",
   "execution_count": null,
   "outputs": [],
   "source": [
    "results_arr = np.zeros((5,2,20,3)) # 5 datasets, 2 version - knnd and not, 20 repeats, 3 stats\n",
    "\n",
    "for dataset_name, version_dict in layouts:\n",
    "    for j, version in enumerate(['knnd', 'no knnd']):\n",
    "        for i,layout in enumerate(version_dict[version]):\n",
    "            stress = layout.get_final_stress()\n",
    "            kmeans_f1 = get_kmeans_f1(layout.get_final_positions(), layout.labels)\n",
    "            f1_for_best_k_with_knn =  get_f1_for_best_k_with_knn(lower_bound=1, upper_bound=3,\n",
    "                                                                 cross_validation_folds=10,\n",
    "                                                                 data=layout.data,\n",
    "                                                                 labels=layout.labels)\n",
    "\n",
    "            results_arr[names.index(dataset_name),j,i,0] = stress\n",
    "            results_arr[names.index(dataset_name),j,i,1] = kmeans_f1\n",
    "            results_arr[names.index(dataset_name),j,i,2] = f1_for_best_k_with_knn\n",
    "\n",
    "\n",
    "# see the means\n",
    "for i in range(3):\n",
    "    means_arr = np.mean(results_arr[:,:,:,i], axis=2)\n",
    "\n",
    "\n",
    "# _, pvalues_stress = stats.ttest_ind(results_arr[:,0,:,0], results_arr[:,1,:,0],\n",
    "#                                     axis=1,equal_var=False,alternative='two sided' )\n",
    "# _, pvalues_kmeans = stats.ttest_ind(results_arr[:,0,:,1], results_arr[:,1,:,1],\n",
    "#                                     axis=1,equal_var=False,alternative='two sided' )\n",
    "# _, pvalues_knn = stats.ttest_ind(results_arr[:,0,:,2], results_arr[:,1,:,2],\n",
    "#                                     axis=1,equal_var=False,alternative='two sided' )"
   ],
   "metadata": {
    "collapsed": false
   }
  }
 ],
 "metadata": {
  "kernelspec": {
   "display_name": "Python 3",
   "language": "python",
   "name": "python3"
  },
  "language_info": {
   "codemirror_mode": {
    "name": "ipython",
    "version": 2
   },
   "file_extension": ".py",
   "mimetype": "text/x-python",
   "name": "python",
   "nbconvert_exporter": "python",
   "pygments_lexer": "ipython2",
   "version": "2.7.6"
  }
 },
 "nbformat": 4,
 "nbformat_minor": 0
}
