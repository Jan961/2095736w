{
 "cells": [
  {
   "cell_type": "code",
   "execution_count": 1,
   "metadata": {
    "collapsed": true
   },
   "outputs": [],
   "source": [
    "from hdimvis.data_fetchers.DataFetcher import DataFetcher\n",
    "from hdimvis.metrics.distance_measures.euclidian_and_manhattan import manhattan,euclidean\n",
    "from hdimvis.algorithms.spring_force_algos.chalmers96_algo.Chalmers96 import Chalmers96\n",
    "from hdimvis.create_low_d_layout.LayoutCreation import LayoutCreation\n",
    "from hdimvis.visualise_layouts_and_metrics.plot import show_layout, show_generation_metrics\n",
    "from sklearn.decomposition import PCA\n",
    "from time import perf_counter\n",
    "import numpy as np\n",
    "from pathlib import Path\n",
    "from definitions import PROJECT_ROOT\n",
    "import pickle"
   ]
  },
  {
   "cell_type": "code",
   "execution_count": 2,
   "outputs": [
    {
     "name": "stdout",
     "output_type": "stream",
     "text": [
      "####################\n",
      "Fetching the \"rna n3k\" dataset\n",
      "####################\n",
      "Dataset loaded\n",
      "Dataset shape: (3000, 50)\n",
      "####################\n",
      "####################\n",
      "A 2D layout of the \"rna n3k\" dataset will be created \n",
      "using the \"Chalmers' 1996\" algorithm\n",
      "####################\n",
      "The HD distance measure used is: manhattan\n",
      "####################\n",
      "\"Average speed\" will be measured on every iteration\n",
      "####################\n",
      "\"Stress\" will be measured every 5 iterations\n",
      "####################\n",
      "All stress calculations will be performed using the euclidian norm\n",
      "####################\n",
      "Spring constant is set to  0.5 \n",
      "Damping constant is set to 0 \n",
      "Spring constant scaling factor is set to 0.03333333333333333 \n",
      "####################\n",
      "\n",
      " Computing vectorised euclidean stress \n",
      "\n"
     ]
    },
    {
     "ename": "KeyboardInterrupt",
     "evalue": "",
     "output_type": "error",
     "traceback": [
      "\u001B[1;31m---------------------------------------------------------------------------\u001B[0m",
      "\u001B[1;31mKeyboardInterrupt\u001B[0m                         Traceback (most recent call last)",
      "Cell \u001B[1;32mIn[2], line 17\u001B[0m\n\u001B[0;32m      7\u001B[0m \u001B[38;5;66;03m# show_layout(positions=Xld, labels=dataset.labels, title=\"PCA\")\u001B[39;00m\n\u001B[0;32m      8\u001B[0m \n\u001B[0;32m      9\u001B[0m \u001B[38;5;66;03m# zero_initial = np.zeros((dataset.data.shape[0], 2))\u001B[39;00m\n\u001B[0;32m     10\u001B[0m \u001B[38;5;66;03m# random_initial =  10*np.random.randn(dataset.data.shape[0], 2)\u001B[39;00m\n\u001B[0;32m     12\u001B[0m algo96 \u001B[38;5;241m=\u001B[39m Chalmers96(dataset\u001B[38;5;241m=\u001B[39mdataset,  distance_fn\u001B[38;5;241m=\u001B[39mmanhattan, initial_layout\u001B[38;5;241m=\u001B[39mXld,\n\u001B[0;32m     13\u001B[0m                     damping_constant\u001B[38;5;241m=\u001B[39m\u001B[38;5;241m0\u001B[39m, spring_constant\u001B[38;5;241m=\u001B[39m\u001B[38;5;241m0.5\u001B[39m,\n\u001B[0;32m     14\u001B[0m                     use_knnd\u001B[38;5;241m=\u001B[39m\u001B[38;5;28;01mFalse\u001B[39;00m, sample_set_size\u001B[38;5;241m=\u001B[39m\u001B[38;5;241m10\u001B[39m, neighbour_set_size\u001B[38;5;241m=\u001B[39m\u001B[38;5;241m5\u001B[39m)\n\u001B[1;32m---> 17\u001B[0m layout \u001B[38;5;241m=\u001B[39m \u001B[43mLayoutCreation\u001B[49m\u001B[38;5;241;43m.\u001B[39;49m\u001B[43mcreate_layout\u001B[49m\u001B[43m(\u001B[49m\u001B[43malgo96\u001B[49m\u001B[43m,\u001B[49m\u001B[43m \u001B[49m\u001B[43moptional_metric_collection\u001B[49m\u001B[38;5;241;43m=\u001B[39;49m\u001B[43mmetric_collection\u001B[49m\u001B[43m,\u001B[49m\u001B[43m \u001B[49m\u001B[43mnum_iters\u001B[49m\u001B[38;5;241;43m=\u001B[39;49m\u001B[38;5;241;43m50\u001B[39;49m\u001B[43m)\u001B[49m\n\u001B[0;32m     18\u001B[0m show_layout(layout, use_labels\u001B[38;5;241m=\u001B[39m\u001B[38;5;28;01mTrue\u001B[39;00m)\n",
      "File \u001B[1;32m~\\Desktop\\2095736w\\hdimvis\\create_low_d_layout\\LayoutCreation.py:96\u001B[0m, in \u001B[0;36mLayoutCreation.create_layout\u001B[1;34m(algorithm, num_iters, optional_metric_collection, **additional_parameters)\u001B[0m\n\u001B[0;32m     93\u001B[0m     \u001B[38;5;28mprint\u001B[39m(\u001B[38;5;124mf\u001B[39m\u001B[38;5;124m\"\u001B[39m\u001B[38;5;124mSpring constant scaling factor is set to \u001B[39m\u001B[38;5;132;01m{\u001B[39;00mlayout\u001B[38;5;241m.\u001B[39malgorithm\u001B[38;5;241m.\u001B[39msc_scaling_factor\u001B[38;5;132;01m}\u001B[39;00m\u001B[38;5;124m \u001B[39m\u001B[38;5;124m\"\u001B[39m)\n\u001B[0;32m     94\u001B[0m     \u001B[38;5;28mprint\u001B[39m(\u001B[38;5;124m\"\u001B[39m\u001B[38;5;124m#\u001B[39m\u001B[38;5;124m\"\u001B[39m \u001B[38;5;241m*\u001B[39m \u001B[38;5;241m20\u001B[39m)\n\u001B[1;32m---> 96\u001B[0m \u001B[43mlayout\u001B[49m\u001B[38;5;241;43m.\u001B[39;49m\u001B[43mrun\u001B[49m\u001B[43m(\u001B[49m\u001B[43m)\u001B[49m\n\u001B[0;32m     97\u001B[0m \u001B[38;5;28;01mreturn\u001B[39;00m layout\n",
      "File \u001B[1;32m~\\Desktop\\2095736w\\hdimvis\\create_low_d_layout\\Chalmers96Layout.py:38\u001B[0m, in \u001B[0;36mChalmers96Layout.run\u001B[1;34m(self)\u001B[0m\n\u001B[0;32m     36\u001B[0m \u001B[38;5;28;01mif\u001B[39;00m \u001B[38;5;28mself\u001B[39m\u001B[38;5;241m.\u001B[39moptional_metric_collection \u001B[38;5;129;01mis\u001B[39;00m \u001B[38;5;129;01mnot\u001B[39;00m \u001B[38;5;28;01mNone\u001B[39;00m:\n\u001B[0;32m     37\u001B[0m     \u001B[38;5;28mself\u001B[39m\u001B[38;5;241m.\u001B[39mcollect_metrics()\n\u001B[1;32m---> 38\u001B[0m \u001B[38;5;28;43mself\u001B[39;49m\u001B[38;5;241;43m.\u001B[39;49m\u001B[43malgorithm\u001B[49m\u001B[38;5;241;43m.\u001B[39;49m\u001B[43mone_iteration\u001B[49m\u001B[43m(\u001B[49m\u001B[38;5;28;43mself\u001B[39;49m\u001B[38;5;241;43m.\u001B[39;49m\u001B[43malpha\u001B[49m\u001B[43m)\u001B[49m\n\u001B[0;32m     39\u001B[0m \u001B[38;5;28mself\u001B[39m\u001B[38;5;241m.\u001B[39miteration_number \u001B[38;5;241m+\u001B[39m\u001B[38;5;241m=\u001B[39m \u001B[38;5;241m1\u001B[39m\n\u001B[0;32m     40\u001B[0m \u001B[38;5;28mself\u001B[39m\u001B[38;5;241m.\u001B[39mfinal_positions \u001B[38;5;241m=\u001B[39m \u001B[38;5;28mself\u001B[39m\u001B[38;5;241m.\u001B[39malgorithm\u001B[38;5;241m.\u001B[39mget_positions()\n",
      "File \u001B[1;32m~\\Desktop\\2095736w\\hdimvis\\algorithms\\spring_force_algos\\chalmers96_algo\\Chalmers96.py:68\u001B[0m, in \u001B[0;36mChalmers96.one_iteration\u001B[1;34m(self, alpha)\u001B[0m\n\u001B[0;32m     64\u001B[0m                 node\u001B[38;5;241m.\u001B[39mclear_position_update()\n\u001B[0;32m     67\u001B[0m \u001B[38;5;28;01mif\u001B[39;00m \u001B[38;5;129;01mnot\u001B[39;00m \u001B[38;5;28mself\u001B[39m\u001B[38;5;241m.\u001B[39muse_knnd \u001B[38;5;129;01mand\u001B[39;00m \u001B[38;5;28mself\u001B[39m\u001B[38;5;241m.\u001B[39mneighbour_set_size \u001B[38;5;129;01mand\u001B[39;00m \u001B[38;5;28mself\u001B[39m\u001B[38;5;241m.\u001B[39msample_set_size:\n\u001B[1;32m---> 68\u001B[0m     count \u001B[38;5;241m=\u001B[39m \u001B[38;5;28;43mself\u001B[39;49m\u001B[38;5;241;43m.\u001B[39;49m\u001B[43m_update_neighbours\u001B[49m\u001B[43m(\u001B[49m\u001B[43mi\u001B[49m\u001B[43m,\u001B[49m\u001B[43m \u001B[49m\u001B[43msamples\u001B[49m\u001B[38;5;241;43m=\u001B[39;49m\u001B[43msample_set\u001B[49m\u001B[43m)\u001B[49m\n\u001B[0;32m     69\u001B[0m     \u001B[38;5;28;01mif\u001B[39;00m \u001B[38;5;28mself\u001B[39m\u001B[38;5;241m.\u001B[39mrecord_neighbour_updates:\n\u001B[0;32m     70\u001B[0m         updates_count \u001B[38;5;241m+\u001B[39m\u001B[38;5;241m=\u001B[39m count\n",
      "File \u001B[1;32m~\\Desktop\\2095736w\\hdimvis\\algorithms\\spring_force_algos\\chalmers96_algo\\Chalmers96.py:114\u001B[0m, in \u001B[0;36mChalmers96._update_neighbours\u001B[1;34m(self, i, samples)\u001B[0m\n\u001B[0;32m    112\u001B[0m furthest_neighbour \u001B[38;5;241m=\u001B[39m \u001B[38;5;28mself\u001B[39m\u001B[38;5;241m.\u001B[39mhd_distance(source, \u001B[38;5;28mself\u001B[39m\u001B[38;5;241m.\u001B[39mnodes[neighbours[\u001B[38;5;241m-\u001B[39m\u001B[38;5;241m1\u001B[39m]])\n\u001B[0;32m    113\u001B[0m \u001B[38;5;28;01mfor\u001B[39;00m s \u001B[38;5;129;01min\u001B[39;00m samples:\n\u001B[1;32m--> 114\u001B[0m     sample_distance \u001B[38;5;241m=\u001B[39m \u001B[38;5;28;43mself\u001B[39;49m\u001B[38;5;241;43m.\u001B[39;49m\u001B[43mhd_distance\u001B[49m\u001B[43m(\u001B[49m\u001B[43msource\u001B[49m\u001B[43m,\u001B[49m\u001B[43m \u001B[49m\u001B[38;5;28;43mself\u001B[39;49m\u001B[38;5;241;43m.\u001B[39;49m\u001B[43mnodes\u001B[49m\u001B[43m[\u001B[49m\u001B[43ms\u001B[49m\u001B[43m]\u001B[49m\u001B[43m)\u001B[49m\n\u001B[0;32m    115\u001B[0m     \u001B[38;5;28;01mif\u001B[39;00m sample_distance \u001B[38;5;241m<\u001B[39m furthest_neighbour:\n\u001B[0;32m    116\u001B[0m         n \u001B[38;5;241m=\u001B[39m \u001B[38;5;28mself\u001B[39m\u001B[38;5;241m.\u001B[39mneighbour_set_size \u001B[38;5;241m-\u001B[39m \u001B[38;5;241m2\u001B[39m\n",
      "File \u001B[1;32m~\\Desktop\\2095736w\\hdimvis\\algorithms\\spring_force_algos\\SpringForceBase.py:102\u001B[0m, in \u001B[0;36mSpringForceBase.hd_distance\u001B[1;34m(self, source, target, cache)\u001B[0m\n\u001B[0;32m    100\u001B[0m \u001B[38;5;28;01mif\u001B[39;00m pair \u001B[38;5;129;01min\u001B[39;00m \u001B[38;5;28mself\u001B[39m\u001B[38;5;241m.\u001B[39mdistances:\n\u001B[0;32m    101\u001B[0m     \u001B[38;5;28;01mreturn\u001B[39;00m \u001B[38;5;28mself\u001B[39m\u001B[38;5;241m.\u001B[39mdistances[pair]\n\u001B[1;32m--> 102\u001B[0m distance \u001B[38;5;241m=\u001B[39m \u001B[38;5;28;43mself\u001B[39;49m\u001B[38;5;241;43m.\u001B[39;49m\u001B[43mdistance_fn\u001B[49m\u001B[43m(\u001B[49m\u001B[43msource\u001B[49m\u001B[38;5;241;43m.\u001B[39;49m\u001B[43mdatapoint\u001B[49m\u001B[43m \u001B[49m\u001B[38;5;241;43m-\u001B[39;49m\u001B[43m \u001B[49m\u001B[43mtarget\u001B[49m\u001B[38;5;241;43m.\u001B[39;49m\u001B[43mdatapoint\u001B[49m\u001B[43m)\u001B[49m\n\u001B[0;32m    103\u001B[0m \u001B[38;5;28;01mif\u001B[39;00m cache:\n\u001B[0;32m    104\u001B[0m     \u001B[38;5;28mself\u001B[39m\u001B[38;5;241m.\u001B[39mdistances[pair] \u001B[38;5;241m=\u001B[39m distance\n",
      "File \u001B[1;32m~\\Desktop\\2095736w\\hdimvis\\metrics\\distance_measures\\euclidian_and_manhattan.py:14\u001B[0m, in \u001B[0;36mmanhattan\u001B[1;34m(arr, axis)\u001B[0m\n\u001B[0;32m      9\u001B[0m \u001B[38;5;28;01mdef\u001B[39;00m \u001B[38;5;21mmanhattan\u001B[39m(arr: np\u001B[38;5;241m.\u001B[39mndarray, axis : \u001B[38;5;28mint\u001B[39m \u001B[38;5;241m=\u001B[39m \u001B[38;5;241m0\u001B[39m) \u001B[38;5;241m-\u001B[39m\u001B[38;5;241m>\u001B[39m \u001B[38;5;28mfloat\u001B[39m \u001B[38;5;241m|\u001B[39m np\u001B[38;5;241m.\u001B[39mndarray:\n\u001B[0;32m     10\u001B[0m \u001B[38;5;250m    \u001B[39m\u001B[38;5;124;03m\"\"\"\u001B[39;00m\n\u001B[0;32m     11\u001B[0m \u001B[38;5;124;03m    Calculate the Manhattan distance - the sum of\u001B[39;00m\n\u001B[0;32m     12\u001B[0m \u001B[38;5;124;03m    the distances along every dimension\u001B[39;00m\n\u001B[0;32m     13\u001B[0m \u001B[38;5;124;03m    \"\"\"\u001B[39;00m\n\u001B[1;32m---> 14\u001B[0m     \u001B[38;5;28;01mreturn\u001B[39;00m \u001B[43mnp\u001B[49m\u001B[38;5;241;43m.\u001B[39;49m\u001B[43msum\u001B[49m\u001B[43m(\u001B[49m\u001B[43mnp\u001B[49m\u001B[38;5;241;43m.\u001B[39;49m\u001B[43mabs\u001B[49m\u001B[43m(\u001B[49m\u001B[43marr\u001B[49m\u001B[43m)\u001B[49m\u001B[43m,\u001B[49m\u001B[43m \u001B[49m\u001B[43maxis\u001B[49m\u001B[38;5;241;43m=\u001B[39;49m\u001B[43maxis\u001B[49m\u001B[43m)\u001B[49m\n",
      "File \u001B[1;32m<__array_function__ internals>:180\u001B[0m, in \u001B[0;36msum\u001B[1;34m(*args, **kwargs)\u001B[0m\n",
      "File \u001B[1;32m~\\.virtualenvs\\2095736w-0SnFieZ0\\lib\\site-packages\\numpy\\core\\fromnumeric.py:2298\u001B[0m, in \u001B[0;36msum\u001B[1;34m(a, axis, dtype, out, keepdims, initial, where)\u001B[0m\n\u001B[0;32m   2295\u001B[0m         \u001B[38;5;28;01mreturn\u001B[39;00m out\n\u001B[0;32m   2296\u001B[0m     \u001B[38;5;28;01mreturn\u001B[39;00m res\n\u001B[1;32m-> 2298\u001B[0m \u001B[38;5;28;01mreturn\u001B[39;00m \u001B[43m_wrapreduction\u001B[49m\u001B[43m(\u001B[49m\u001B[43ma\u001B[49m\u001B[43m,\u001B[49m\u001B[43m \u001B[49m\u001B[43mnp\u001B[49m\u001B[38;5;241;43m.\u001B[39;49m\u001B[43madd\u001B[49m\u001B[43m,\u001B[49m\u001B[43m \u001B[49m\u001B[38;5;124;43m'\u001B[39;49m\u001B[38;5;124;43msum\u001B[39;49m\u001B[38;5;124;43m'\u001B[39;49m\u001B[43m,\u001B[49m\u001B[43m \u001B[49m\u001B[43maxis\u001B[49m\u001B[43m,\u001B[49m\u001B[43m \u001B[49m\u001B[43mdtype\u001B[49m\u001B[43m,\u001B[49m\u001B[43m \u001B[49m\u001B[43mout\u001B[49m\u001B[43m,\u001B[49m\u001B[43m \u001B[49m\u001B[43mkeepdims\u001B[49m\u001B[38;5;241;43m=\u001B[39;49m\u001B[43mkeepdims\u001B[49m\u001B[43m,\u001B[49m\n\u001B[0;32m   2299\u001B[0m \u001B[43m                      \u001B[49m\u001B[43minitial\u001B[49m\u001B[38;5;241;43m=\u001B[39;49m\u001B[43minitial\u001B[49m\u001B[43m,\u001B[49m\u001B[43m \u001B[49m\u001B[43mwhere\u001B[49m\u001B[38;5;241;43m=\u001B[39;49m\u001B[43mwhere\u001B[49m\u001B[43m)\u001B[49m\n",
      "\u001B[1;31mKeyboardInterrupt\u001B[0m: "
     ]
    }
   ],
   "source": [
    "metric_collection = {'Average speed': 1, \"Stress\": 5}\n",
    "\n",
    "dataset = DataFetcher.fetch_data('rna N3k')\n",
    "Xld = PCA(n_components=2, whiten=False, copy=True).fit_transform(dataset.data).astype(np.float64)\n",
    "Xld *= 10/np.std(Xld)\n",
    "\n",
    "# show_layout(positions=Xld, labels=dataset.labels, title=\"PCA\")\n",
    "\n",
    "# zero_initial = np.zeros((dataset.data.shape[0], 2))\n",
    "# random_initial =  10*np.random.randn(dataset.data.shape[0], 2)\n",
    "\n",
    "algo96 = Chalmers96(dataset=dataset,  distance_fn=manhattan, initial_layout=Xld,\n",
    "                    damping_constant=0, spring_constant=0.5,\n",
    "                    use_knnd=False, sample_set_size=10, neighbour_set_size=5)\n",
    "\n",
    "\n",
    "layout = LayoutCreation.create_layout(algo96, optional_metric_collection=metric_collection, num_iters=50)\n",
    "show_layout(layout, use_labels=True)"
   ],
   "metadata": {
    "collapsed": false
   }
  }
 ],
 "metadata": {
  "kernelspec": {
   "display_name": "Python 3",
   "language": "python",
   "name": "python3"
  },
  "language_info": {
   "codemirror_mode": {
    "name": "ipython",
    "version": 2
   },
   "file_extension": ".py",
   "mimetype": "text/x-python",
   "name": "python",
   "nbconvert_exporter": "python",
   "pygments_lexer": "ipython2",
   "version": "2.7.6"
  }
 },
 "nbformat": 4,
 "nbformat_minor": 0
}
