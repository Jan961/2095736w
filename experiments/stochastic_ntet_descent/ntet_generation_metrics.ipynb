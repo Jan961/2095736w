{
 "cells": [
  {
   "cell_type": "code",
   "execution_count": null,
   "outputs": [],
   "source": [
    "from experiments.cube.Cube import Cube\n",
    "from hdimvis.metrics.stress.stress import vectorised_stress\n",
    "from hdimvis.metrics.distance_measures.euclidian_and_manhattan import euclidean\n",
    "from sklearn.decomposition import PCA\n",
    "from hdimvis.algorithms.stochastic_ntet_algo.SNeD import SNeD\n",
    "from hdimvis.create_low_d_layout.LowDLayoutCreation import LowDLayoutCreation\n",
    "from hdimvis.data_fetchers.DataFetcher import DataFetcher\n",
    "from hdimvis.visualise_layouts_and_metrics.plot import show_layouts, show_generation_metrics\n",
    "from hdimvis.metrics.distance_measures.euclidian_and_manhattan import manhattan\n",
    "import numpy as np\n",
    "import matplotlib.pyplot as plt"
   ],
   "metadata": {
    "collapsed": false
   }
  },
  {
   "cell_type": "code",
   "execution_count": null,
   "outputs": [],
   "source": [
    "all_datasets_list = ['poker', 'mnist', 'bonds', 'coil20', 'rna N3k', 'airfoil', 'wine quality', 'fashion mnist'\n",
    "                                                                                                'shuttle',\n",
    "                     'flow cytometry']\n"
   ],
   "metadata": {
    "collapsed": false
   }
  },
  {
   "cell_type": "code",
   "execution_count": null,
   "outputs": [],
   "source": [
    "cube = Cube(num_points=100, side=30, angle=0.4)\n",
    "cube_dataset= cube.get_sample_dataset(3000)"
   ],
   "metadata": {
    "collapsed": false
   }
  },
  {
   "cell_type": "code",
   "execution_count": null,
   "outputs": [],
   "source": [
    "\n",
    "rna_dataset = DataFetcher.fetch_data('rna N3k')"
   ],
   "metadata": {
    "collapsed": false
   }
  },
  {
   "cell_type": "code",
   "execution_count": null,
   "outputs": [],
   "source": [
    "ntet_sizes = [2,3,4,5,6,7,8,9,10,12,20,50,100]\n",
    "datasets = [cube_dataset, rna_dataset]\n",
    "results_cube = np.zeros((len(ntet_sizes), 3)) # 3 for - time, stress and average quartet stress"
   ],
   "metadata": {
    "collapsed": false
   }
  },
  {
   "cell_type": "code",
   "execution_count": null,
   "outputs": [],
   "source": [
    "# metric_collection = {'Average quartet stress': 100, 'Stress': 100}\n",
    "#\n",
    "# for i, size in enumerate(ntet_sizes):\n",
    "#     squad = SNeD(dataset=datasets[i], initial_layout=None, nesterovs_momentum=False, ntet_size=size)\n",
    "#     layout = LowDLayoutCreation().create_layout(squad, optional_metric_collection=metric_collection, no_iters=1000)\n",
    "#\n",
    "#     show_layouts(layout, use_labels=True, color_map='rainbow', title=\" 2k iter ntet 2\")\n",
    "#     show_generation_metrics(layout, quartet_stress=True)\n",
    "#\n",
    "# fig, axis = plt.subplots()\n",
    "# axis.scatter(Xld[:,0], Xld[:,1], c=dataset.labels, cmap='rainbow')"
   ],
   "metadata": {
    "collapsed": false
   }
  }
 ],
 "metadata": {
  "kernelspec": {
   "display_name": "Python 3",
   "language": "python",
   "name": "python3"
  },
  "language_info": {
   "codemirror_mode": {
    "name": "ipython",
    "version": 2
   },
   "file_extension": ".py",
   "mimetype": "text/x-python",
   "name": "python",
   "nbconvert_exporter": "python",
   "pygments_lexer": "ipython2",
   "version": "2.7.6"
  }
 },
 "nbformat": 4,
 "nbformat_minor": 0
}
