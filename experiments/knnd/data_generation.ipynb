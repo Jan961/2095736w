{
 "cells": [
  {
   "cell_type": "code",
   "execution_count": null,
   "metadata": {
    "collapsed": true
   },
   "outputs": [],
   "source": [
    "from hdimvis.data_fetchers.DataFetcher import DataFetcher\n",
    "from hdimvis.metrics.distance_measures.euclidian_and_manhattan import manhattan,euclidean\n",
    "from hdimvis.algorithms.spring_force_algos.chalmers96_algo.Chalmers96 import Chalmers96\n",
    "from hdimvis.create_low_d_layout.LayoutCreation import LayoutCreation\n",
    "from hdimvis.visualise_layouts_and_metrics.plot import show_layout, show_generation_metrics\n",
    "from sklearn.decomposition import PCA\n",
    "from time import perf_counter\n",
    "import numpy as np\n",
    "from pathlib import Path\n",
    "from definitions import PROJECT_ROOT\n",
    "import pickle\n"
   ]
  },
  {
   "cell_type": "code",
   "execution_count": null,
   "outputs": [],
   "source": [
    "rna = DataFetcher.fetch_data('rna N3k')\n",
    "coli20 =  DataFetcher.fetch_data('coil20')\n",
    "globe = DataFetcher.fetch_data('globe', size=7000)\n",
    "fmnist = DataFetcher.fetch_data('fashion mnist', size=7000)\n",
    "mnist = DataFetcher.fetch_data('mnist', size=7000)\n",
    "\n",
    "datasets = [rna, coli20,globe,fmnist, mnist]\n",
    "dataset_names = ['rna N3k', 'coli20', 'globe', 'fashion mnist', 'mnist']\n",
    "layouts = {name : {\"knnd\": [], \"no knnd\":[]} for name in dataset_names }\n",
    "times = {name : {\"knnd\": [], \"no knnd\":[]} for name in dataset_names }\n",
    "num_repeats = 20"
   ],
   "metadata": {
    "collapsed": false
   }
  },
  {
   "cell_type": "code",
   "execution_count": null,
   "outputs": [],
   "source": [
    "for j,dataset in enumerate(datasets):\n",
    "    for i in range(num_repeats):\n",
    "            no_knnd_start = perf_counter()\n",
    "            algo96 = Chalmers96(dataset=dataset, distance_fn=euclidean,\n",
    "                     spring_constant=0.6,\n",
    "                    use_knnd=False)\n",
    "            layout = LayoutCreation.create_layout(algo96, no_iters=100)\n",
    "\n",
    "            times[dataset_names[j]][\"no knnd\"].append(perf_counter() - no_knnd_start)\n",
    "            layouts[dataset_names[j]][\"no knnd\"].append(layout)\n",
    "\n",
    "            knnd_start = perf_counter()\n",
    "            algo96 = Chalmers96(dataset=dataset, distance_fn=euclidean,\n",
    "                     spring_constant=0.6,\n",
    "                    use_knnd=True)\n",
    "            layout = LayoutCreation.create_layout(algo96, no_iters=100)\n",
    "\n",
    "            times[dataset_names[j]][\"knnd\"].append(perf_counter() - knnd_start)\n",
    "            layouts[dataset_names[j]][\"knnd\"].append(layout)\n",
    "\n",
    "\n",
    "output_dir= (Path(PROJECT_ROOT).joinpath(\n",
    "    Path(f\"experiments/varing_V_and_S/out/\"))).resolve().absolute()\n",
    "\n",
    "path_to_pickle_lay = (Path(output_dir).joinpath(Path(f\"layouts.pickle\"))).resolve()\n",
    "with open(path_to_pickle_lay, 'wb') as pickle_out:\n",
    "    pickle.dump(layouts, pickle_out)\n",
    "\n",
    "path_to_pickle_time = (Path(output_dir).joinpath(Path(f\"times.pickle\"))).resolve()\n",
    "with open(path_to_pickle_time, 'wb') as pickle_out:\n",
    "    pickle.dump(times, pickle_out)\n",
    "\n"
   ],
   "metadata": {
    "collapsed": false
   }
  }
 ],
 "metadata": {
  "kernelspec": {
   "display_name": "Python 3",
   "language": "python",
   "name": "python3"
  },
  "language_info": {
   "codemirror_mode": {
    "name": "ipython",
    "version": 2
   },
   "file_extension": ".py",
   "mimetype": "text/x-python",
   "name": "python",
   "nbconvert_exporter": "python",
   "pygments_lexer": "ipython2",
   "version": "2.7.6"
  }
 },
 "nbformat": 4,
 "nbformat_minor": 0
}
