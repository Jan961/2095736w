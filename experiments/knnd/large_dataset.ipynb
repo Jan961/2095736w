{
 "cells": [
  {
   "cell_type": "code",
   "execution_count": 1,
   "metadata": {
    "collapsed": true
   },
   "outputs": [],
   "source": [
    "import numpy as np\n",
    "\n",
    "from hdimvis.algorithms.spring_force_algos.chalmers96_algo.Chalmers96 import Chalmers96\n",
    "from hdimvis.visualise_layouts_and_metrics.plot import show_layout,show_generation_metrics\n",
    "from hdimvis.algorithms.stochastic_ntet_algo.SNeD import SNeD\n",
    "from hdimvis.create_low_d_layout.LayoutCreation import LayoutCreation\n",
    "from hdimvis.data_fetchers.DataFetcher import DataFetcher\n",
    "from hdimvis.visualise_layouts_and_metrics.plot import show_layout\n",
    "from sklearn.neighbors import KNeighborsClassifier\n",
    "from sklearn.model_selection import KFold\n",
    "from experiments.utils.get_kmeans_f1 import get_kmeans_f1\n",
    "from experiments.utils.get_f1_for_best_k_with_knn import get_f1_for_best_k_with_knn\n",
    "from experiments.utils.get_avg_classwise_f1 import get_avg_classwise_f1\n",
    "from sklearn.cluster import KMeans\n",
    "from sklearn.decomposition import PCA\n",
    "from sklearn.metrics import f1_score\n",
    "from pathlib import Path\n",
    "from definitions import PROJECT_ROOT\n",
    "import pickle\n",
    "from scipy import stats\n",
    "import matplotlib.pyplot as plt\n",
    "from time import perf_counter\n",
    "from  sklearn.manifold import SpectralEmbedding, MDS\n",
    "from hdimvis.metrics.distance_measures.euclidian_and_manhattan import euclidean\n",
    "import pandas as pd"
   ]
  },
  {
   "cell_type": "code",
   "execution_count": 6,
   "outputs": [
    {
     "name": "stdout",
     "output_type": "stream",
     "text": [
      "####################\n",
      "Fetching the \"metro\" dataset\n",
      "[[ 8.364  8.35  -0.02  ...  0.     1.     1.   ]\n",
      " [ 9.382  9.37  -0.02  ...  0.     1.     1.   ]\n",
      " [ 9.998  9.99  -0.024 ...  0.     1.     1.   ]\n",
      " ...\n",
      " [ 5.104 -0.01  -0.02  ...  1.     1.     1.   ]\n",
      " [ 8.966 -0.014 -0.016 ...  0.     1.     1.   ]\n",
      " [ 8.43   8.422 -0.018 ...  0.     1.     1.   ]]\n",
      "####################\n",
      "Dataset loaded\n",
      "Dataset shape: (50000, 13)\n",
      "####################\n"
     ]
    }
   ],
   "source": [
    "dataset= DataFetcher.fetch_data(\"metro\", size=50000)"
   ],
   "metadata": {
    "collapsed": false
   }
  },
  {
   "cell_type": "code",
   "execution_count": 7,
   "outputs": [],
   "source": [
    "results = [[],[]]\n",
    "num_repeats = 2"
   ],
   "metadata": {
    "collapsed": false
   }
  },
  {
   "cell_type": "code",
   "execution_count": 8,
   "outputs": [
    {
     "name": "stdout",
     "output_type": "stream",
     "text": [
      "####################\n",
      "A 2D layout of the \"metro\" dataset will be created \n",
      "using the \"Chalmers' 1996\" algorithm\n",
      "####################\n",
      "The HD distance measure used is: euclidean\n",
      "####################\n",
      "####################\n",
      "No metrics will be collected during layout creation. \n",
      "To change this use the 'metric collection' parameter of the layout \n",
      "####################\n",
      "All stress calculations will be performed using the euclidian norm\n",
      "####################\n",
      "Spring constant is set to  0.05 \n",
      "Damping constant is set to 0 \n",
      "Spring constant scaling factor is set to 0.03333333333333333 \n",
      "####################\n"
     ]
    },
    {
     "ename": "KeyboardInterrupt",
     "evalue": "",
     "output_type": "error",
     "traceback": [
      "\u001B[1;31m---------------------------------------------------------------------------\u001B[0m",
      "\u001B[1;31mKeyboardInterrupt\u001B[0m                         Traceback (most recent call last)",
      "Cell \u001B[1;32mIn[8], line 10\u001B[0m\n\u001B[0;32m      6\u001B[0m no_knnd_start \u001B[38;5;241m=\u001B[39m perf_counter()\n\u001B[0;32m      7\u001B[0m algo96 \u001B[38;5;241m=\u001B[39m Chalmers96(dataset\u001B[38;5;241m=\u001B[39mdataset, distance_fn\u001B[38;5;241m=\u001B[39meuclidean,\n\u001B[0;32m      8\u001B[0m          spring_constant\u001B[38;5;241m=\u001B[39m\u001B[38;5;241m0.05\u001B[39m, initial_layout\u001B[38;5;241m=\u001B[39mXld,\n\u001B[0;32m      9\u001B[0m         use_knnd\u001B[38;5;241m=\u001B[39m\u001B[38;5;28;01mFalse\u001B[39;00m)\n\u001B[1;32m---> 10\u001B[0m layout \u001B[38;5;241m=\u001B[39m \u001B[43mLayoutCreation\u001B[49m\u001B[38;5;241;43m.\u001B[39;49m\u001B[43mcreate_layout\u001B[49m\u001B[43m(\u001B[49m\u001B[43malgo96\u001B[49m\u001B[43m,\u001B[49m\u001B[43m \u001B[49m\u001B[43mnum_iters\u001B[49m\u001B[38;5;241;43m=\u001B[39;49m\u001B[38;5;241;43m100\u001B[39;49m\u001B[43m)\u001B[49m\n\u001B[0;32m     11\u001B[0m results[\u001B[38;5;241m0\u001B[39m]\u001B[38;5;241m.\u001B[39mappend(perf_counter() \u001B[38;5;241m-\u001B[39m no_knnd_start)\n\u001B[0;32m     15\u001B[0m knnd_start \u001B[38;5;241m=\u001B[39m perf_counter()\n",
      "File \u001B[1;32m~\\Desktop\\2095736w\\hdimvis\\create_low_d_layout\\LayoutCreation.py:96\u001B[0m, in \u001B[0;36mLayoutCreation.create_layout\u001B[1;34m(algorithm, num_iters, optional_metric_collection, **additional_parameters)\u001B[0m\n\u001B[0;32m     93\u001B[0m     \u001B[38;5;28mprint\u001B[39m(\u001B[38;5;124mf\u001B[39m\u001B[38;5;124m\"\u001B[39m\u001B[38;5;124mSpring constant scaling factor is set to \u001B[39m\u001B[38;5;132;01m{\u001B[39;00mlayout\u001B[38;5;241m.\u001B[39malgorithm\u001B[38;5;241m.\u001B[39msc_scaling_factor\u001B[38;5;132;01m}\u001B[39;00m\u001B[38;5;124m \u001B[39m\u001B[38;5;124m\"\u001B[39m)\n\u001B[0;32m     94\u001B[0m     \u001B[38;5;28mprint\u001B[39m(\u001B[38;5;124m\"\u001B[39m\u001B[38;5;124m#\u001B[39m\u001B[38;5;124m\"\u001B[39m \u001B[38;5;241m*\u001B[39m \u001B[38;5;241m20\u001B[39m)\n\u001B[1;32m---> 96\u001B[0m \u001B[43mlayout\u001B[49m\u001B[38;5;241;43m.\u001B[39;49m\u001B[43mrun\u001B[49m\u001B[43m(\u001B[49m\u001B[43m)\u001B[49m\n\u001B[0;32m     97\u001B[0m \u001B[38;5;28;01mreturn\u001B[39;00m layout\n",
      "File \u001B[1;32m~\\Desktop\\2095736w\\hdimvis\\create_low_d_layout\\Chalmers96Layout.py:38\u001B[0m, in \u001B[0;36mChalmers96Layout.run\u001B[1;34m(self)\u001B[0m\n\u001B[0;32m     36\u001B[0m \u001B[38;5;28;01mif\u001B[39;00m \u001B[38;5;28mself\u001B[39m\u001B[38;5;241m.\u001B[39moptional_metric_collection \u001B[38;5;129;01mis\u001B[39;00m \u001B[38;5;129;01mnot\u001B[39;00m \u001B[38;5;28;01mNone\u001B[39;00m:\n\u001B[0;32m     37\u001B[0m     \u001B[38;5;28mself\u001B[39m\u001B[38;5;241m.\u001B[39mcollect_metrics()\n\u001B[1;32m---> 38\u001B[0m \u001B[38;5;28;43mself\u001B[39;49m\u001B[38;5;241;43m.\u001B[39;49m\u001B[43malgorithm\u001B[49m\u001B[38;5;241;43m.\u001B[39;49m\u001B[43mone_iteration\u001B[49m\u001B[43m(\u001B[49m\u001B[38;5;28;43mself\u001B[39;49m\u001B[38;5;241;43m.\u001B[39;49m\u001B[43malpha\u001B[49m\u001B[43m)\u001B[49m\n\u001B[0;32m     39\u001B[0m \u001B[38;5;28mself\u001B[39m\u001B[38;5;241m.\u001B[39miteration_number \u001B[38;5;241m+\u001B[39m\u001B[38;5;241m=\u001B[39m \u001B[38;5;241m1\u001B[39m\n\u001B[0;32m     40\u001B[0m \u001B[38;5;28mself\u001B[39m\u001B[38;5;241m.\u001B[39mfinal_positions \u001B[38;5;241m=\u001B[39m \u001B[38;5;28mself\u001B[39m\u001B[38;5;241m.\u001B[39malgorithm\u001B[38;5;241m.\u001B[39mget_positions()\n",
      "File \u001B[1;32m~\\Desktop\\2095736w\\hdimvis\\algorithms\\spring_force_algos\\chalmers96_algo\\Chalmers96.py:45\u001B[0m, in \u001B[0;36mChalmers96.one_iteration\u001B[1;34m(self, alpha)\u001B[0m\n\u001B[0;32m     43\u001B[0m sample_set \u001B[38;5;241m=\u001B[39m \u001B[38;5;28mself\u001B[39m\u001B[38;5;241m.\u001B[39m_get_sample_set(i)\n\u001B[0;32m     44\u001B[0m \u001B[38;5;28;01mfor\u001B[39;00m global_index \u001B[38;5;129;01min\u001B[39;00m sample_set:\n\u001B[1;32m---> 45\u001B[0m     \u001B[38;5;28;43mself\u001B[39;49m\u001B[38;5;241;43m.\u001B[39;49m\u001B[43m_set_position_update\u001B[49m\u001B[43m(\u001B[49m\u001B[43msource\u001B[49m\u001B[38;5;241;43m=\u001B[39;49m\u001B[38;5;28;43mself\u001B[39;49m\u001B[38;5;241;43m.\u001B[39;49m\u001B[43mnodes\u001B[49m\u001B[43m[\u001B[49m\u001B[43mi\u001B[49m\u001B[43m]\u001B[49m\u001B[43m,\u001B[49m\u001B[43m \u001B[49m\u001B[43mtarget\u001B[49m\u001B[38;5;241;43m=\u001B[39;49m\u001B[38;5;28;43mself\u001B[39;49m\u001B[38;5;241;43m.\u001B[39;49m\u001B[43mnodes\u001B[49m\u001B[43m[\u001B[49m\u001B[43mglobal_index\u001B[49m\u001B[43m]\u001B[49m\u001B[43m)\u001B[49m\n\u001B[0;32m     47\u001B[0m     \u001B[38;5;28;01mif\u001B[39;00m \u001B[38;5;129;01mnot\u001B[39;00m \u001B[38;5;28mself\u001B[39m\u001B[38;5;241m.\u001B[39mintegrate_sum:  \u001B[38;5;66;03m# integration step for each force in turn\u001B[39;00m\n\u001B[0;32m     48\u001B[0m         \u001B[38;5;28;01mfor\u001B[39;00m node \u001B[38;5;129;01min\u001B[39;00m [\u001B[38;5;28mself\u001B[39m\u001B[38;5;241m.\u001B[39mnodes[i], \u001B[38;5;28mself\u001B[39m\u001B[38;5;241m.\u001B[39mnodes[global_index]]:\n",
      "File \u001B[1;32m~\\Desktop\\2095736w\\hdimvis\\algorithms\\spring_force_algos\\SpringForceBase.py:180\u001B[0m, in \u001B[0;36mSpringForceBase._set_position_update\u001B[1;34m(self, source, target, cache_distance)\u001B[0m\n\u001B[0;32m    171\u001B[0m \u001B[38;5;28;01mdef\u001B[39;00m \u001B[38;5;21m_set_position_update\u001B[39m(\u001B[38;5;28mself\u001B[39m, source: Node, target: Node,\n\u001B[0;32m    172\u001B[0m                          cache_distance: \u001B[38;5;28mbool\u001B[39m \u001B[38;5;241m=\u001B[39m \u001B[38;5;28;01mFalse\u001B[39;00m) \u001B[38;5;241m-\u001B[39m\u001B[38;5;241m>\u001B[39m \u001B[38;5;28;01mNone\u001B[39;00m:\n\u001B[0;32m    173\u001B[0m \u001B[38;5;250m    \u001B[39m\u001B[38;5;124;03m\"\"\"\u001B[39;00m\n\u001B[0;32m    174\u001B[0m \u001B[38;5;124;03m    Calculate the force between two nodes and increment the position update\u001B[39;00m\n\u001B[0;32m    175\u001B[0m \u001B[38;5;124;03m    the integration timestep for force and mass of the \"particle\" are assumed to be 1,\u001B[39;00m\n\u001B[1;32m   (...)\u001B[0m\n\u001B[0;32m    178\u001B[0m \u001B[38;5;124;03m    We simply add all the forces on top of each other as we go\u001B[39;00m\n\u001B[0;32m    179\u001B[0m \u001B[38;5;124;03m    \"\"\"\u001B[39;00m\n\u001B[1;32m--> 180\u001B[0m     f_x, f_y \u001B[38;5;241m=\u001B[39m \u001B[38;5;28;43mself\u001B[39;49m\u001B[38;5;241;43m.\u001B[39;49m\u001B[43m_calculate_force\u001B[49m\u001B[43m(\u001B[49m\u001B[43msource\u001B[49m\u001B[43m,\u001B[49m\u001B[43m \u001B[49m\u001B[43mtarget\u001B[49m\u001B[43m,\u001B[49m\n\u001B[0;32m    181\u001B[0m \u001B[43m                                   \u001B[49m\u001B[43mcache_distance\u001B[49m\u001B[38;5;241;43m=\u001B[39;49m\u001B[43mcache_distance\u001B[49m\u001B[43m)\u001B[49m\n\u001B[0;32m    183\u001B[0m     source\u001B[38;5;241m.\u001B[39mincrement_position_update(f_x, f_y)\n\u001B[0;32m    184\u001B[0m     target\u001B[38;5;241m.\u001B[39mincrement_position_update(\u001B[38;5;241m-\u001B[39mf_x, \u001B[38;5;241m-\u001B[39mf_y)\n",
      "File \u001B[1;32m~\\Desktop\\2095736w\\hdimvis\\algorithms\\spring_force_algos\\SpringForceBase.py:138\u001B[0m, in \u001B[0;36mSpringForceBase._calculate_force\u001B[1;34m(self, source, target, cache_distance)\u001B[0m\n\u001B[0;32m    136\u001B[0m dist_x, dist_y \u001B[38;5;241m=\u001B[39m \u001B[38;5;28mself\u001B[39m\u001B[38;5;241m.\u001B[39m_low_d_distances_xy(source, target) \u001B[38;5;66;03m# x,y distance vector from source to target\u001B[39;00m\n\u001B[0;32m    137\u001B[0m ld_dist \u001B[38;5;241m=\u001B[39m math\u001B[38;5;241m.\u001B[39mhypot(dist_x, dist_y)\n\u001B[1;32m--> 138\u001B[0m hd_dist \u001B[38;5;241m=\u001B[39m \u001B[38;5;28;43mself\u001B[39;49m\u001B[38;5;241;43m.\u001B[39;49m\u001B[43mhd_distance\u001B[49m\u001B[43m(\u001B[49m\u001B[43msource\u001B[49m\u001B[43m,\u001B[49m\u001B[43m \u001B[49m\u001B[43mtarget\u001B[49m\u001B[43m,\u001B[49m\u001B[43m \u001B[49m\u001B[43mcache\u001B[49m\u001B[38;5;241;43m=\u001B[39;49m\u001B[43mcache_distance\u001B[49m\u001B[43m)\u001B[49m\n\u001B[0;32m    139\u001B[0m \u001B[38;5;66;03m# if k%500 == 0:\u001B[39;00m\n\u001B[0;32m    140\u001B[0m \u001B[38;5;66;03m# print(f\"ld dist: {ld_dist}\")\u001B[39;00m\n\u001B[0;32m    141\u001B[0m \u001B[38;5;66;03m# print(f\"hd dist: {hd_dist}\")\u001B[39;00m\n\u001B[0;32m    142\u001B[0m first_term \u001B[38;5;241m=\u001B[39m \u001B[38;5;28mself\u001B[39m\u001B[38;5;241m.\u001B[39mspring_constant \u001B[38;5;241m*\u001B[39m ( ld_dist \u001B[38;5;241m-\u001B[39m hd_dist)\n",
      "File \u001B[1;32m~\\Desktop\\2095736w\\hdimvis\\algorithms\\spring_force_algos\\SpringForceBase.py:102\u001B[0m, in \u001B[0;36mSpringForceBase.hd_distance\u001B[1;34m(self, source, target, cache)\u001B[0m\n\u001B[0;32m    100\u001B[0m \u001B[38;5;28;01mif\u001B[39;00m pair \u001B[38;5;129;01min\u001B[39;00m \u001B[38;5;28mself\u001B[39m\u001B[38;5;241m.\u001B[39mdistances:\n\u001B[0;32m    101\u001B[0m     \u001B[38;5;28;01mreturn\u001B[39;00m \u001B[38;5;28mself\u001B[39m\u001B[38;5;241m.\u001B[39mdistances[pair]\n\u001B[1;32m--> 102\u001B[0m distance \u001B[38;5;241m=\u001B[39m \u001B[38;5;28;43mself\u001B[39;49m\u001B[38;5;241;43m.\u001B[39;49m\u001B[43mdistance_fn\u001B[49m\u001B[43m(\u001B[49m\u001B[43msource\u001B[49m\u001B[38;5;241;43m.\u001B[39;49m\u001B[43mdatapoint\u001B[49m\u001B[43m \u001B[49m\u001B[38;5;241;43m-\u001B[39;49m\u001B[43m \u001B[49m\u001B[43mtarget\u001B[49m\u001B[38;5;241;43m.\u001B[39;49m\u001B[43mdatapoint\u001B[49m\u001B[43m)\u001B[49m\n\u001B[0;32m    103\u001B[0m \u001B[38;5;28;01mif\u001B[39;00m cache:\n\u001B[0;32m    104\u001B[0m     \u001B[38;5;28mself\u001B[39m\u001B[38;5;241m.\u001B[39mdistances[pair] \u001B[38;5;241m=\u001B[39m distance\n",
      "File \u001B[1;32m~\\Desktop\\2095736w\\hdimvis\\metrics\\distance_measures\\euclidian_and_manhattan.py:4\u001B[0m, in \u001B[0;36meuclidean\u001B[1;34m(arr, axis)\u001B[0m\n\u001B[0;32m      1\u001B[0m \u001B[38;5;28;01mimport\u001B[39;00m \u001B[38;5;21;01mnumpy\u001B[39;00m \u001B[38;5;28;01mas\u001B[39;00m \u001B[38;5;21;01mnp\u001B[39;00m\n\u001B[0;32m      3\u001B[0m \u001B[38;5;66;03m# the axis parameter allows us to vectorise calculations\u001B[39;00m\n\u001B[1;32m----> 4\u001B[0m \u001B[38;5;28;01mdef\u001B[39;00m \u001B[38;5;21meuclidean\u001B[39m(arr: np\u001B[38;5;241m.\u001B[39mndarray,  axis: \u001B[38;5;28mint\u001B[39m \u001B[38;5;241m=\u001B[39m \u001B[38;5;241m0\u001B[39m) \u001B[38;5;241m-\u001B[39m\u001B[38;5;241m>\u001B[39m \u001B[38;5;28mfloat\u001B[39m \u001B[38;5;241m|\u001B[39m np\u001B[38;5;241m.\u001B[39mndarray:\n\u001B[0;32m      6\u001B[0m     \u001B[38;5;28;01mreturn\u001B[39;00m np\u001B[38;5;241m.\u001B[39mlinalg\u001B[38;5;241m.\u001B[39mnorm(arr, axis\u001B[38;5;241m=\u001B[39maxis)\n\u001B[0;32m      9\u001B[0m \u001B[38;5;28;01mdef\u001B[39;00m \u001B[38;5;21mmanhattan\u001B[39m(arr: np\u001B[38;5;241m.\u001B[39mndarray, axis : \u001B[38;5;28mint\u001B[39m \u001B[38;5;241m=\u001B[39m \u001B[38;5;241m0\u001B[39m) \u001B[38;5;241m-\u001B[39m\u001B[38;5;241m>\u001B[39m \u001B[38;5;28mfloat\u001B[39m \u001B[38;5;241m|\u001B[39m np\u001B[38;5;241m.\u001B[39mndarray:\n",
      "\u001B[1;31mKeyboardInterrupt\u001B[0m: "
     ]
    }
   ],
   "source": [
    "Xld = PCA(n_components=2, whiten=False, copy=True).fit_transform(dataset.data).astype(np.float64)\n",
    "Xld *= 10/np.std(Xld)\n",
    "\n",
    "for i in range(num_repeats):\n",
    "\n",
    "    no_knnd_start = perf_counter()\n",
    "    algo96 = Chalmers96(dataset=dataset, distance_fn=euclidean,\n",
    "             spring_constant=0.05, initial_layout=Xld,\n",
    "            use_knnd=False)\n",
    "    layout = LayoutCreation.create_layout(algo96, num_iters=100)\n",
    "    results[0].append(perf_counter() - no_knnd_start)\n",
    "\n",
    "\n",
    "\n",
    "    knnd_start = perf_counter()\n",
    "    algo96 = Chalmers96(dataset=dataset, distance_fn=euclidean,\n",
    "             spring_constant=0.05, initial_layout=Xld,\n",
    "            use_knnd=True)\n",
    "    layout_knnd = LayoutCreation.create_layout(algo96, num_iters=100)\n",
    "    results[1].append(perf_counter() - knnd_start)\n",
    "\n"
   ],
   "metadata": {
    "collapsed": false
   }
  },
  {
   "cell_type": "code",
   "execution_count": 9,
   "outputs": [],
   "source": [
    "results = np.array([[296.41819789999863, 308.94675129999814], [480.133877100001, 392.8605233999988]])"
   ],
   "metadata": {
    "collapsed": false
   }
  },
  {
   "cell_type": "code",
   "execution_count": 10,
   "outputs": [
    {
     "name": "stdout",
     "output_type": "stream",
     "text": [
      "133.8147256500015\n",
      "0.30656491169556255\n"
     ]
    }
   ],
   "source": [
    "means = np.mean(results, axis=1)\n",
    "print(means[1]- means[0])\n",
    "print((means[1]- means[0])/means[1])"
   ],
   "metadata": {
    "collapsed": false
   }
  }
 ],
 "metadata": {
  "kernelspec": {
   "display_name": "Python 3",
   "language": "python",
   "name": "python3"
  },
  "language_info": {
   "codemirror_mode": {
    "name": "ipython",
    "version": 2
   },
   "file_extension": ".py",
   "mimetype": "text/x-python",
   "name": "python",
   "nbconvert_exporter": "python",
   "pygments_lexer": "ipython2",
   "version": "2.7.6"
  }
 },
 "nbformat": 4,
 "nbformat_minor": 0
}
