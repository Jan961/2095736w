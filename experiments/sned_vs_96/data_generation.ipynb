{
 "cells": [
  {
   "cell_type": "code",
   "execution_count": 2,
   "metadata": {
    "collapsed": true
   },
   "outputs": [],
   "source": [
    "import numpy as np\n",
    "\n",
    "from experiments.utils.SimpleComparison import SimpleComparison\n",
    "from hdimvis.algorithms.spring_force_algos.chalmers96_algo.Chalmers96 import Chalmers96\n",
    "from hdimvis.visualise_layouts_and_metrics.plot import show_layout,show_generation_metrics\n",
    "from hdimvis.algorithms.stochastic_ntet_algo.SNeD import SNeD\n",
    "from hdimvis.create_low_d_layout.LayoutCreation import LayoutCreation\n",
    "from hdimvis.data_fetchers.DataFetcher import DataFetcher\n",
    "from sklearn.neighbors import KNeighborsClassifier\n",
    "from sklearn.model_selection import KFold\n",
    "from experiments.utils.get_avg_classwise_f1 import get_avg_classwise_f1\n",
    "from sklearn.cluster import KMeans\n",
    "from sklearn.decomposition import PCA\n",
    "from sklearn.metrics import f1_score\n",
    "from pathlib import Path\n",
    "from definitions import PROJECT_ROOT\n",
    "import pickle"
   ]
  },
  {
   "cell_type": "code",
   "execution_count": 2,
   "outputs": [],
   "source": [
    "\n",
    "results = {dataset : {metric: [] for metric in [\"Stress\", \"k-Means F1\", \"kNN\"]} for dataset in datasets}"
   ],
   "metadata": {
    "collapsed": false
   }
  },
  {
   "cell_type": "code",
   "execution_count": 1,
   "outputs": [
    {
     "ename": "NameError",
     "evalue": "name 'DataFetcher' is not defined",
     "output_type": "error",
     "traceback": [
      "\u001B[1;31m---------------------------------------------------------------------------\u001B[0m",
      "\u001B[1;31mNameError\u001B[0m                                 Traceback (most recent call last)",
      "Cell \u001B[1;32mIn[1], line 1\u001B[0m\n\u001B[1;32m----> 1\u001B[0m rna \u001B[38;5;241m=\u001B[39m \u001B[43mDataFetcher\u001B[49m\u001B[38;5;241m.\u001B[39mfetch_data(\u001B[38;5;124m'\u001B[39m\u001B[38;5;124mrne N3k\u001B[39m\u001B[38;5;124m'\u001B[39m)\n\u001B[0;32m      2\u001B[0m coli20 \u001B[38;5;241m=\u001B[39m  DataFetcher\u001B[38;5;241m.\u001B[39mfetch_data(\u001B[38;5;124m'\u001B[39m\u001B[38;5;124mcoli20\u001B[39m\u001B[38;5;124m'\u001B[39m)\n\u001B[0;32m      3\u001B[0m globe \u001B[38;5;241m=\u001B[39m DataFetcher\u001B[38;5;241m.\u001B[39mfetch_data(\u001B[38;5;124m'\u001B[39m\u001B[38;5;124mglobe\u001B[39m\u001B[38;5;124m'\u001B[39m, size\u001B[38;5;241m=\u001B[39m\u001B[38;5;241m7000\u001B[39m)\n",
      "\u001B[1;31mNameError\u001B[0m: name 'DataFetcher' is not defined"
     ]
    }
   ],
   "source": [
    "rna = DataFetcher.fetch_data('rna N3k')\n",
    "coli20 =  DataFetcher.fetch_data('coli20')\n",
    "globe = DataFetcher.fetch_data('globe', size=7000)\n",
    "fmnist = DataFetcher.fetch_data('fashion mnist', size=7000)\n",
    "mnist = DataFetcher.fetch_data('mnist', size=7000)\n",
    "\n",
    "datasets = [rna, coli20,globe,fmnist, mnist]\n",
    "dataset_names = ['rna N3k', 'coli20', 'globe', 'fashion mnist', 'mnist']"
   ],
   "metadata": {
    "collapsed": false
   }
  },
  {
   "cell_type": "code",
   "execution_count": null,
   "outputs": [],
   "source": [
    "layouts = {\"squad\": {name : [] for name in dataset_names}, \"96\": {name : [] for name in dataset_names}}"
   ],
   "metadata": {
    "collapsed": false
   }
  },
  {
   "cell_type": "code",
   "execution_count": 3,
   "outputs": [
    {
     "name": "stdout",
     "output_type": "stream",
     "text": [
      "####################\n",
      "Fetching the \"rna N3k\" dataset\n",
      "####################\n",
      "Dataset loaded\n",
      "Dataset shape: (3000, 50)\n",
      "####################\n",
      "####################\n",
      "A 2D layout of the \"rna N3k\" dataset will be created \n",
      "using the \"Stochastic N-tet Descent MDS\" algorithm\n",
      "####################\n",
      "The HD distance measure used is: euclidean\n",
      "####################\n",
      " \"N-tet\" size: 4\n",
      "####################\n",
      "####################\n",
      "No metrics will be collected during layout creation. \n",
      "To change this use the 'metric collection' parameter of the layout \n",
      "####################\n",
      "All stress calculations will be performed using the euclidian norm\n",
      "####################\n"
     ]
    }
   ],
   "source": [
    "num_repeats = 20\n",
    "\n",
    "for j,dataset in enumerate(datasets):\n",
    "    Xld = PCA(n_components=2, whiten=False, copy=True).fit_transform(dataset.data).astype(np.float64)\n",
    "    Xld *= 10/np.std(Xld)\n",
    "\n",
    "    for i in range(num_repeats):\n",
    "        squad = SNeD(dataset=dataset, initial_layout=Xld, use_nesterovs_momentum=False, ntet_size=4)\n",
    "        layout_squad = LayoutCreation().create_layout(squad, no_iters=1000)\n",
    "        layouts['squad'][dataset_names[j]].append(layout_squad)\n",
    "\n",
    "        algo96 = Chalmers96(dataset=dataset, initial_layout=Xld, damping_constant=0, spring_constant=0.7,\n",
    "                    use_knnd=False, sample_set_size=10, neighbour_set_size=5)\n",
    "        layout_96 = LayoutCreation.create_layout(algo96, no_iters=200)\n",
    "        layouts['96'][dataset_names[j]].append(layout_squad)\n",
    "\n",
    "\n",
    "output_dir= (Path(PROJECT_ROOT).joinpath(\n",
    "    Path(f\"experiments/sned_vs_96/out/\"))).resolve().absolute()\n",
    "\n",
    "path_to_pickle = (Path(output_dir).joinpath(Path(f\"layouts.pickle\"))).resolve()\n",
    "with open(path_to_pickle, 'wb') as pickle_out:\n",
    "    pickle.dump(layouts, pickle_out)\n",
    "\n"
   ],
   "metadata": {
    "collapsed": false
   }
  },
  {
   "cell_type": "code",
   "execution_count": 4,
   "outputs": [],
   "source": [
    "# import matplotlib.pyplot as plt\n",
    "#\n",
    "# fig, ax = plt.subplots()\n",
    "# avg_f1 = [f1 for id, f1 in averages]\n",
    "#\n",
    "# ax.plot(np.arange(3,200), avg_f1)\n",
    "# plt.show()"
   ],
   "metadata": {
    "collapsed": false
   }
  },
  {
   "cell_type": "code",
   "execution_count": 5,
   "outputs": [
    {
     "name": "stdout",
     "output_type": "stream",
     "text": [
      "17.0\n",
      "0.19452171500193238\n"
     ]
    }
   ],
   "source": [
    "from experiments.utils.get_f1_for_best_k_with_knn import get_f1_for_best_k_with_knn\n",
    "k, f1 = get_f1_for_best_k_with_knn(2,20,10,positions,labels)\n",
    "\n",
    "print(k)\n",
    "print(f1)"
   ],
   "metadata": {
    "collapsed": false
   }
  },
  {
   "cell_type": "markdown",
   "source": [],
   "metadata": {
    "collapsed": false
   }
  }
 ],
 "metadata": {
  "kernelspec": {
   "display_name": "Python 3",
   "language": "python",
   "name": "python3"
  },
  "language_info": {
   "codemirror_mode": {
    "name": "ipython",
    "version": 2
   },
   "file_extension": ".py",
   "mimetype": "text/x-python",
   "name": "python",
   "nbconvert_exporter": "python",
   "pygments_lexer": "ipython2",
   "version": "2.7.6"
  }
 },
 "nbformat": 4,
 "nbformat_minor": 0
}
