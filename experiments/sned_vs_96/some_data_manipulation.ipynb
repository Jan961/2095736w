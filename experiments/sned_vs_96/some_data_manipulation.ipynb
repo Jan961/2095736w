{
 "cells": [
  {
   "cell_type": "code",
   "execution_count": 1,
   "metadata": {
    "collapsed": true
   },
   "outputs": [],
   "source": [
    "import numpy as np\n",
    "from hdimvis.algorithms.spring_force_algos.chalmers96_algo.Chalmers96 import Chalmers96\n",
    "from hdimvis.visualise_layouts_and_metrics.plot import show_layout,show_generation_metrics\n",
    "from hdimvis.algorithms.stochastic_ntet_algo.SNeD import SNeD\n",
    "from hdimvis.create_low_d_layout.LayoutCreation import LayoutCreation\n",
    "from hdimvis.data_fetchers.DataFetcher import DataFetcher\n",
    "from sklearn.neighbors import KNeighborsClassifier\n",
    "from sklearn.model_selection import KFold\n",
    "from experiments.utils.get_avg_classwise_f1 import get_avg_classwise_f1\n",
    "from hdimvis.metrics.stress.stress import unvectorised_stress\n",
    "from hdimvis.metrics.distance_measures.euclidian_and_manhattan import euclidean\n",
    "from experiments.utils.get_kmeans_f1 import get_kmeans_f1\n",
    "from experiments.utils.get_f1_for_best_k_with_knn import get_f1_for_best_k_with_knn\n",
    "\n",
    "from sklearn.cluster import KMeans\n",
    "from sklearn.decomposition import PCA\n",
    "from sklearn.metrics import f1_score\n",
    "from pathlib import Path\n",
    "from definitions import PROJECT_ROOT\n",
    "import pickle\n",
    "from scipy import stats\n",
    "\n"
   ]
  },
  {
   "cell_type": "code",
   "execution_count": 3,
   "outputs": [],
   "source": [
    "# output_dir= (Path(PROJECT_ROOT).joinpath(\n",
    "#     Path(f\"experiments/sned_vs_96/out/\"))).resolve().absolute()\n",
    "#\n",
    "#\n",
    "#\n",
    "# dataset_name = 'fashion mnist'\n",
    "# path_to_pickle = (Path(output_dir).joinpath(Path(f\"layouts_{dataset_name}.pickle\"))).resolve()\n",
    "# with open(path_to_pickle, 'rb') as file:\n",
    "#     layouts = pickle.load(file)\n",
    "\n",
    "# for type, layouts in layouts.items():\n",
    "#     print(type)\n",
    "#     print(len(layouts))\n",
    "#     for l in layouts:\n",
    "#         show_layout(l, use_labels=True, title=f\"{type.capitalize()} - Fashion MNIST\")\n",
    "\n"
   ],
   "metadata": {
    "collapsed": false
   }
  },
  {
   "cell_type": "code",
   "execution_count": null,
   "outputs": [],
   "source": [],
   "metadata": {
    "collapsed": false
   }
  },
  {
   "cell_type": "code",
   "execution_count": 1,
   "outputs": [
    {
     "ename": "NameError",
     "evalue": "name 'layouts' is not defined",
     "output_type": "error",
     "traceback": [
      "\u001B[1;31m---------------------------------------------------------------------------\u001B[0m",
      "\u001B[1;31mNameError\u001B[0m                                 Traceback (most recent call last)",
      "Cell \u001B[1;32mIn[1], line 1\u001B[0m\n\u001B[1;32m----> 1\u001B[0m \u001B[38;5;28;01mfor\u001B[39;00m name, \u001B[38;5;28mdict\u001B[39m \u001B[38;5;129;01min\u001B[39;00m \u001B[43mlayouts\u001B[49m\u001B[38;5;241m.\u001B[39mitems():\n\u001B[0;32m      2\u001B[0m     \u001B[38;5;28mprint\u001B[39m(name)\n\u001B[0;32m      3\u001B[0m     \u001B[38;5;28;01mfor\u001B[39;00m \u001B[38;5;28mtype\u001B[39m, ls \u001B[38;5;129;01min\u001B[39;00m \u001B[38;5;28mdict\u001B[39m\u001B[38;5;241m.\u001B[39mitems():\n",
      "\u001B[1;31mNameError\u001B[0m: name 'layouts' is not defined"
     ]
    }
   ],
   "source": [
    "# for name, dict in layouts.items():\n",
    "#     print(name)\n",
    "#     for type, ls in dict.items():\n",
    "#         print(type)\n",
    "#         for l in ls:\n",
    "#             print(l.iteration_number)"
   ],
   "metadata": {
    "collapsed": false
   }
  },
  {
   "cell_type": "code",
   "execution_count": 3,
   "outputs": [
    {
     "name": "stdout",
     "output_type": "stream",
     "text": [
      "fashion mnist\n",
      "Layout: 0\n"
     ]
    },
    {
     "ename": "KeyboardInterrupt",
     "evalue": "",
     "output_type": "error",
     "traceback": [
      "\u001B[1;31m---------------------------------------------------------------------------\u001B[0m",
      "\u001B[1;31mKeyboardInterrupt\u001B[0m                         Traceback (most recent call last)",
      "Cell \u001B[1;32mIn[3], line 16\u001B[0m\n\u001B[0;32m     14\u001B[0m \u001B[38;5;28;01mfor\u001B[39;00m i,layout \u001B[38;5;129;01min\u001B[39;00m \u001B[38;5;28menumerate\u001B[39m(layouts[version]):\n\u001B[0;32m     15\u001B[0m     \u001B[38;5;28mprint\u001B[39m(\u001B[38;5;124mf\u001B[39m\u001B[38;5;124m\"\u001B[39m\u001B[38;5;124mLayout: \u001B[39m\u001B[38;5;132;01m{\u001B[39;00mi\u001B[38;5;132;01m}\u001B[39;00m\u001B[38;5;124m\"\u001B[39m)\n\u001B[1;32m---> 16\u001B[0m     stress \u001B[38;5;241m=\u001B[39m \u001B[43munvectorised_stress\u001B[49m\u001B[43m(\u001B[49m\u001B[43mlayout\u001B[49m\u001B[38;5;241;43m.\u001B[39;49m\u001B[43mdata\u001B[49m\u001B[43m,\u001B[49m\u001B[43mlayout\u001B[49m\u001B[38;5;241;43m.\u001B[39;49m\u001B[43mget_final_positions\u001B[49m\u001B[43m(\u001B[49m\u001B[43m)\u001B[49m\u001B[43m,\u001B[49m\u001B[43m \u001B[49m\u001B[43meuclidean\u001B[49m\u001B[43m)\u001B[49m\n\u001B[0;32m     17\u001B[0m     kmeans_f1 \u001B[38;5;241m=\u001B[39m get_kmeans_f1(layout\u001B[38;5;241m.\u001B[39mget_final_positions(), layout\u001B[38;5;241m.\u001B[39mlabels)\n\u001B[0;32m     18\u001B[0m     k, f1_for_best_k_with_knn \u001B[38;5;241m=\u001B[39m  get_f1_for_best_k_with_knn(lower_bound\u001B[38;5;241m=\u001B[39m\u001B[38;5;241m1\u001B[39m, upper_bound\u001B[38;5;241m=\u001B[39m\u001B[38;5;241m10\u001B[39m,\n\u001B[0;32m     19\u001B[0m                                                         cross_validation_folds\u001B[38;5;241m=\u001B[39m\u001B[38;5;241m10\u001B[39m,\n\u001B[0;32m     20\u001B[0m                                                          data\u001B[38;5;241m=\u001B[39mlayout\u001B[38;5;241m.\u001B[39mdata,\n\u001B[0;32m     21\u001B[0m                                                          labels\u001B[38;5;241m=\u001B[39mlayout\u001B[38;5;241m.\u001B[39mlabels)\n",
      "File \u001B[1;32m~\\Desktop\\2095736w\\hdimvis\\metrics\\stress\\stress.py:25\u001B[0m, in \u001B[0;36munvectorised_stress\u001B[1;34m(data, ld_positions, distance_function)\u001B[0m\n\u001B[0;32m     22\u001B[0m denominator: \u001B[38;5;28mfloat\u001B[39m \u001B[38;5;241m=\u001B[39m \u001B[38;5;241m0.0\u001B[39m\n\u001B[0;32m     24\u001B[0m \u001B[38;5;28;01mfor\u001B[39;00m source, target \u001B[38;5;129;01min\u001B[39;00m combinations(\u001B[38;5;28mzip\u001B[39m(data\u001B[38;5;241m.\u001B[39mtolist(), ld_positions\u001B[38;5;241m.\u001B[39mtolist()), \u001B[38;5;241m2\u001B[39m):\n\u001B[1;32m---> 25\u001B[0m     high_d_distance \u001B[38;5;241m=\u001B[39m \u001B[43mdistance_function\u001B[49m\u001B[43m(\u001B[49m\u001B[43mnp\u001B[49m\u001B[38;5;241;43m.\u001B[39;49m\u001B[43marray\u001B[49m\u001B[43m(\u001B[49m\u001B[43msource\u001B[49m\u001B[43m[\u001B[49m\u001B[38;5;241;43m0\u001B[39;49m\u001B[43m]\u001B[49m\u001B[43m)\u001B[49m\u001B[43m \u001B[49m\u001B[38;5;241;43m-\u001B[39;49m\u001B[43m \u001B[49m\u001B[43mnp\u001B[49m\u001B[38;5;241;43m.\u001B[39;49m\u001B[43marray\u001B[49m\u001B[43m(\u001B[49m\u001B[43mtarget\u001B[49m\u001B[43m[\u001B[49m\u001B[38;5;241;43m0\u001B[39;49m\u001B[43m]\u001B[49m\u001B[43m)\u001B[49m\u001B[43m)\u001B[49m\n\u001B[0;32m     26\u001B[0m     low_d_distance \u001B[38;5;241m=\u001B[39m distance_function(np\u001B[38;5;241m.\u001B[39marray(source[\u001B[38;5;241m1\u001B[39m])\u001B[38;5;241m-\u001B[39m  np\u001B[38;5;241m.\u001B[39marray(target[\u001B[38;5;241m1\u001B[39m]))\n\u001B[0;32m     27\u001B[0m     numerator \u001B[38;5;241m+\u001B[39m\u001B[38;5;241m=\u001B[39m (high_d_distance \u001B[38;5;241m-\u001B[39m low_d_distance) \u001B[38;5;241m*\u001B[39m\u001B[38;5;241m*\u001B[39m \u001B[38;5;241m2\u001B[39m\n",
      "File \u001B[1;32m~\\Desktop\\2095736w\\hdimvis\\metrics\\distance_measures\\euclidian_and_manhattan.py:6\u001B[0m, in \u001B[0;36meuclidean\u001B[1;34m(arr, axis)\u001B[0m\n\u001B[0;32m      4\u001B[0m \u001B[38;5;28;01mdef\u001B[39;00m \u001B[38;5;21meuclidean\u001B[39m(arr: np\u001B[38;5;241m.\u001B[39mndarray,  axis: \u001B[38;5;28mint\u001B[39m \u001B[38;5;241m=\u001B[39m \u001B[38;5;241m0\u001B[39m) \u001B[38;5;241m-\u001B[39m\u001B[38;5;241m>\u001B[39m \u001B[38;5;28mfloat\u001B[39m \u001B[38;5;241m|\u001B[39m np\u001B[38;5;241m.\u001B[39mndarray:\n\u001B[1;32m----> 6\u001B[0m     \u001B[38;5;28;01mreturn\u001B[39;00m \u001B[43mnp\u001B[49m\u001B[38;5;241;43m.\u001B[39;49m\u001B[43mlinalg\u001B[49m\u001B[38;5;241;43m.\u001B[39;49m\u001B[43mnorm\u001B[49m\u001B[43m(\u001B[49m\u001B[43marr\u001B[49m\u001B[43m,\u001B[49m\u001B[43m \u001B[49m\u001B[43maxis\u001B[49m\u001B[38;5;241;43m=\u001B[39;49m\u001B[43maxis\u001B[49m\u001B[43m)\u001B[49m\n",
      "File \u001B[1;32m<__array_function__ internals>:180\u001B[0m, in \u001B[0;36mnorm\u001B[1;34m(*args, **kwargs)\u001B[0m\n",
      "File \u001B[1;32m~\\.virtualenvs\\2095736w-0SnFieZ0\\lib\\site-packages\\numpy\\linalg\\linalg.py:2557\u001B[0m, in \u001B[0;36mnorm\u001B[1;34m(x, ord, axis, keepdims)\u001B[0m\n\u001B[0;32m   2554\u001B[0m \u001B[38;5;28;01melif\u001B[39;00m \u001B[38;5;28mord\u001B[39m \u001B[38;5;129;01mis\u001B[39;00m \u001B[38;5;28;01mNone\u001B[39;00m \u001B[38;5;129;01mor\u001B[39;00m \u001B[38;5;28mord\u001B[39m \u001B[38;5;241m==\u001B[39m \u001B[38;5;241m2\u001B[39m:\n\u001B[0;32m   2555\u001B[0m     \u001B[38;5;66;03m# special case for speedup\u001B[39;00m\n\u001B[0;32m   2556\u001B[0m     s \u001B[38;5;241m=\u001B[39m (x\u001B[38;5;241m.\u001B[39mconj() \u001B[38;5;241m*\u001B[39m x)\u001B[38;5;241m.\u001B[39mreal\n\u001B[1;32m-> 2557\u001B[0m     \u001B[38;5;28;01mreturn\u001B[39;00m sqrt(\u001B[43madd\u001B[49m\u001B[38;5;241;43m.\u001B[39;49m\u001B[43mreduce\u001B[49m\u001B[43m(\u001B[49m\u001B[43ms\u001B[49m\u001B[43m,\u001B[49m\u001B[43m \u001B[49m\u001B[43maxis\u001B[49m\u001B[38;5;241;43m=\u001B[39;49m\u001B[43maxis\u001B[49m\u001B[43m,\u001B[49m\u001B[43m \u001B[49m\u001B[43mkeepdims\u001B[49m\u001B[38;5;241;43m=\u001B[39;49m\u001B[43mkeepdims\u001B[49m\u001B[43m)\u001B[49m)\n\u001B[0;32m   2558\u001B[0m \u001B[38;5;66;03m# None of the str-type keywords for ord ('fro', 'nuc')\u001B[39;00m\n\u001B[0;32m   2559\u001B[0m \u001B[38;5;66;03m# are valid for vectors\u001B[39;00m\n\u001B[0;32m   2560\u001B[0m \u001B[38;5;28;01melif\u001B[39;00m \u001B[38;5;28misinstance\u001B[39m(\u001B[38;5;28mord\u001B[39m, \u001B[38;5;28mstr\u001B[39m):\n",
      "\u001B[1;31mKeyboardInterrupt\u001B[0m: "
     ]
    }
   ],
   "source": [
    "dataset_names = [ 'fashion mnist']\n",
    "# 'coli20', 'globe', 'fashion mnist', 'mnist']\n",
    "output_dir= (Path(PROJECT_ROOT).joinpath(\n",
    "    Path(f\"experiments/sned_vs_96/out/\"))).resolve().absolute()\n",
    "\n",
    "for dataset_name in dataset_names:\n",
    "    path_to_pickle = (Path(output_dir).joinpath(Path(f\"layouts_{dataset_name}.pickle\"))).resolve()\n",
    "    with open(path_to_pickle, 'rb') as file:\n",
    "        layouts = pickle.load(file)\n",
    "\n",
    "    results_arr = np.zeros((2,15,4))\n",
    "    print(dataset_name)\n",
    "    for j, version in enumerate([\"96\"]):\n",
    "        for i,layout in enumerate(layouts[version]):\n",
    "            print(f\"Layout: {i}\")\n",
    "            stress = unvectorised_stress(layout.data,layout.get_final_positions(), euclidean)\n",
    "            kmeans_f1 = get_kmeans_f1(layout.get_final_positions(), layout.labels)\n",
    "            k, f1_for_best_k_with_knn =  get_f1_for_best_k_with_knn(lower_bound=1, upper_bound=10,\n",
    "                                                                cross_validation_folds=10,\n",
    "                                                                 data=layout.data,\n",
    "                                                                 labels=layout.labels)\n",
    "\n",
    "            results_arr[j,i,0] = stress\n",
    "            results_arr[j,i,1] = kmeans_f1\n",
    "            results_arr[j,i,2],results_arr[j,i,3] =k,  f1_for_best_k_with_knn\n",
    "\n",
    "    print(results_arr)\n",
    "    output_dir= (Path(PROJECT_ROOT).joinpath(\n",
    "        Path(f\"experiments/sned_vs_96/out/\"))).resolve().absolute()\n",
    "\n",
    "    path_to_pickle_arr = (Path(output_dir).joinpath(Path(f\"results_arr_{dataset_name}_{version}.pickle\"))).resolve()\n",
    "    with open(path_to_pickle_arr, 'wb') as pickle_out:\n",
    "        pickle.dump(results_arr, pickle_out)"
   ],
   "metadata": {
    "collapsed": false
   }
  },
  {
   "cell_type": "code",
   "execution_count": 5,
   "outputs": [
    {
     "name": "stdout",
     "output_type": "stream",
     "text": [
      "[[[0.72799511 0.42713443 3.         0.8085503 ]\n",
      "  [0.72790682 0.42134323 3.         0.8085503 ]\n",
      "  [0.72812229 0.41334828 3.         0.8085503 ]\n",
      "  [0.72805059 0.44134554 3.         0.8085503 ]\n",
      "  [0.72788839 0.41229727 3.         0.8085503 ]\n",
      "  [0.72801836 0.43302683 3.         0.8085503 ]\n",
      "  [0.72801454 0.42398541 3.         0.8085503 ]\n",
      "  [0.72783331 0.42683169 3.         0.8085503 ]\n",
      "  [0.72763264 0.41481386 3.         0.8085503 ]\n",
      "  [0.72784553 0.42526937 3.         0.8085503 ]\n",
      "  [0.72791001 0.44674412 3.         0.8085503 ]\n",
      "  [0.72782412 0.40515203 3.         0.8085503 ]\n",
      "  [0.         0.         0.         0.        ]\n",
      "  [0.         0.         0.         0.        ]\n",
      "  [0.         0.         0.         0.        ]]\n",
      "\n",
      " [[0.         0.         0.         0.        ]\n",
      "  [0.         0.         0.         0.        ]\n",
      "  [0.         0.         0.         0.        ]\n",
      "  [0.         0.         0.         0.        ]\n",
      "  [0.         0.         0.         0.        ]\n",
      "  [0.         0.         0.         0.        ]\n",
      "  [0.         0.         0.         0.        ]\n",
      "  [0.         0.         0.         0.        ]\n",
      "  [0.         0.         0.         0.        ]\n",
      "  [0.         0.         0.         0.        ]\n",
      "  [0.         0.         0.         0.        ]\n",
      "  [0.         0.         0.         0.        ]\n",
      "  [0.         0.         0.         0.        ]\n",
      "  [0.         0.         0.         0.        ]\n",
      "  [0.         0.         0.         0.        ]]]\n"
     ]
    }
   ],
   "source": [
    "print(results_arr)\n",
    "output_dir= (Path(PROJECT_ROOT).joinpath(\n",
    "    Path(f\"experiments/sned_vs_96/out/\"))).resolve().absolute()\n",
    "\n",
    "path_to_pickle_arr = (Path(output_dir).joinpath(Path(f\"results_arr_{dataset_name}.pickle\"))).resolve()\n",
    "with open(path_to_pickle_arr, 'wb') as pickle_out:\n",
    "    pickle.dump(results_arr, pickle_out)"
   ],
   "metadata": {
    "collapsed": false
   }
  },
  {
   "cell_type": "code",
   "execution_count": 33,
   "outputs": [
    {
     "name": "stdout",
     "output_type": "stream",
     "text": [
      "####################\n",
      "Metric : stress\n",
      "####################\n",
      "Squad mean : 0.95 (SD 0.0)\n",
      "96 mean : 0.13 (SD 0.0)\n",
      "test: 4.25e-92\n",
      "####################\n",
      "Metric : kmeans\n",
      "####################\n",
      "Squad mean : 0.81 (SD 0.0)\n",
      "96 mean : 0.8 (SD 0.0)\n",
      "test: 1.35e-15\n",
      "Squad mean k: 1.0\n",
      "96 mean k: 1.0\n",
      "####################\n",
      "Metric : knn\n",
      "####################\n",
      "Squad mean : 0.95 (SD 0.0)\n",
      "96 mean : 0.95 (SD 0.0)\n",
      "test: 1.00e+00\n"
     ]
    },
    {
     "name": "stderr",
     "output_type": "stream",
     "text": [
      "C:\\Users\\Owner\\AppData\\Local\\Temp\\ipykernel_16656\\2294454207.py:23: RuntimeWarning: Precision loss occurred in moment calculation due to catastrophic cancellation. This occurs when the data are nearly identical. Results may be unreliable.\n",
      "  tstat, pvalue = stats.ttest_ind(results_arr[0,:,j].round(decimals=4), results_arr[1,:,j].round(decimals=4), equal_var=False, alternative='two-sided')\n"
     ]
    }
   ],
   "source": [
    "dataset_name = 'globe'\n",
    "output_dir= (Path(PROJECT_ROOT).joinpath(\n",
    "    Path(f\"experiments/sned_vs_96/out/\"))).resolve().absolute()\n",
    "path_to_pickle = (Path(output_dir).joinpath(Path(f\"results_arr_{dataset_name}.pickle\"))).resolve()\n",
    "with open(path_to_pickle, 'rb') as file:\n",
    "    results_arr = pickle.load(file)\n",
    "\n",
    "\n",
    "for j,metric in enumerate([\"stress\", \"kmeans\", \"k\", \"knn\"]):\n",
    "\n",
    "        if j != 2:\n",
    "            mean_squad = np.mean(results_arr[0,:,j])\n",
    "            sd_squad = np.std(results_arr[0,:,j])\n",
    "\n",
    "            mean_96 = np.mean(results_arr[1,:,j])\n",
    "            sd_96 = np.std(results_arr[1,:,j])\n",
    "\n",
    "            if j != 3:\n",
    "                tstat, pvalue = stats.ttest_ind(results_arr[0,:,j].round(decimals=4), results_arr[1,:,j].round(decimals=4), equal_var=False, alternative='greater')\n",
    "                result = np.format_float_scientific(pvalue, precision=2,min_digits=2)\n",
    "\n",
    "            else:\n",
    "                tstat, pvalue = stats.ttest_ind(results_arr[0,:,j].round(decimals=4), results_arr[1,:,j].round(decimals=4), equal_var=False, alternative='two-sided')\n",
    "                result = np.format_float_scientific(pvalue, precision=2,min_digits=2)\n",
    "            print(20*\"#\")\n",
    "            print(f\"Metric : {metric}\")\n",
    "            print(20*\"#\")\n",
    "\n",
    "\n",
    "            print(f\"Squad mean : {mean_squad.round(decimals=2)} (SD {sd_squad.round(decimals=2)})\")\n",
    "            print(f\"96 mean : {mean_96.round(decimals=2)} (SD {sd_96.round(decimals=2)})\")\n",
    "            print(f\"test: {result}\")\n",
    "        else:\n",
    "            print(f\"Squad mean k: {np.mean(results_arr[0,:,j])}\")\n",
    "            print(f\"96 mean k: {np.mean(results_arr[1,:,j])}\")\n",
    "\n",
    "\n"
   ],
   "metadata": {
    "collapsed": false
   }
  },
  {
   "cell_type": "code",
   "execution_count": null,
   "outputs": [],
   "source": [],
   "metadata": {
    "collapsed": false
   }
  }
 ],
 "metadata": {
  "kernelspec": {
   "display_name": "Python 3",
   "language": "python",
   "name": "python3"
  },
  "language_info": {
   "codemirror_mode": {
    "name": "ipython",
    "version": 2
   },
   "file_extension": ".py",
   "mimetype": "text/x-python",
   "name": "python",
   "nbconvert_exporter": "python",
   "pygments_lexer": "ipython2",
   "version": "2.7.6"
  }
 },
 "nbformat": 4,
 "nbformat_minor": 0
}
