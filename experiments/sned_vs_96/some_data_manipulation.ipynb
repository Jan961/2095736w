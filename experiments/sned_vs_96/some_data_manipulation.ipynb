{
 "cells": [
  {
   "cell_type": "code",
   "execution_count": 3,
   "metadata": {
    "collapsed": true
   },
   "outputs": [],
   "source": [
    "import numpy as np\n",
    "from experiments.utils.SimpleComparison import SimpleComparison\n",
    "from hdimvis.algorithms.spring_force_algos.chalmers96_algo.Chalmers96 import Chalmers96\n",
    "from hdimvis.visualise_layouts_and_metrics.plot import show_layout,show_generation_metrics\n",
    "from hdimvis.algorithms.stochastic_ntet_algo.SNeD import SNeD\n",
    "from hdimvis.create_low_d_layout.LayoutCreation import LayoutCreation\n",
    "from hdimvis.data_fetchers.DataFetcher import DataFetcher\n",
    "from sklearn.neighbors import KNeighborsClassifier\n",
    "from sklearn.model_selection import KFold\n",
    "from experiments.utils.get_avg_classwise_f1 import get_avg_classwise_f1\n",
    "from experiments.utils.get_kmeans_f1 import get_kmeans_f1\n",
    "from experiments.utils.get_f1_for_best_k_with_knn import get_f1_for_best_k_with_knn\n",
    "from sklearn.cluster import KMeans\n",
    "from sklearn.decomposition import PCA\n",
    "from sklearn.metrics import f1_score\n",
    "from pathlib import Path\n",
    "from definitions import PROJECT_ROOT\n",
    "import pickle\n",
    "from scipy import stats\n",
    "\n"
   ]
  },
  {
   "cell_type": "code",
   "execution_count": 2,
   "outputs": [
    {
     "ename": "FileNotFoundError",
     "evalue": "[Errno 2] No such file or directory: 'C:\\\\Users\\\\Owner\\\\Desktop\\\\2095736w\\\\experiments\\\\sned_vs_96\\\\out\\\\layouts.pickle'",
     "output_type": "error",
     "traceback": [
      "\u001B[1;31m---------------------------------------------------------------------------\u001B[0m",
      "\u001B[1;31mFileNotFoundError\u001B[0m                         Traceback (most recent call last)",
      "Cell \u001B[1;32mIn[2], line 5\u001B[0m\n\u001B[0;32m      1\u001B[0m output_dir\u001B[38;5;241m=\u001B[39m (Path(PROJECT_ROOT)\u001B[38;5;241m.\u001B[39mjoinpath(\n\u001B[0;32m      2\u001B[0m     Path(\u001B[38;5;124mf\u001B[39m\u001B[38;5;124m\"\u001B[39m\u001B[38;5;124mexperiments/sned_vs_96/out/\u001B[39m\u001B[38;5;124m\"\u001B[39m)))\u001B[38;5;241m.\u001B[39mresolve()\u001B[38;5;241m.\u001B[39mabsolute()\n\u001B[0;32m      4\u001B[0m path_to_pickle \u001B[38;5;241m=\u001B[39m (Path(output_dir)\u001B[38;5;241m.\u001B[39mjoinpath(Path(\u001B[38;5;124mf\u001B[39m\u001B[38;5;124m\"\u001B[39m\u001B[38;5;124mlayouts.pickle\u001B[39m\u001B[38;5;124m\"\u001B[39m)))\u001B[38;5;241m.\u001B[39mresolve()\n\u001B[1;32m----> 5\u001B[0m \u001B[38;5;28;01mwith\u001B[39;00m \u001B[38;5;28;43mopen\u001B[39;49m\u001B[43m(\u001B[49m\u001B[43mpath_to_pickle\u001B[49m\u001B[43m,\u001B[49m\u001B[43m \u001B[49m\u001B[38;5;124;43m'\u001B[39;49m\u001B[38;5;124;43mrb\u001B[39;49m\u001B[38;5;124;43m'\u001B[39;49m\u001B[43m)\u001B[49m \u001B[38;5;28;01mas\u001B[39;00m file:\n\u001B[0;32m      6\u001B[0m     layouts \u001B[38;5;241m=\u001B[39m pickle\u001B[38;5;241m.\u001B[39mload(file)\n\u001B[0;32m      7\u001B[0m \u001B[38;5;28mprint\u001B[39m(layouts)\n",
      "File \u001B[1;32m~\\.virtualenvs\\2095736w-0SnFieZ0\\lib\\site-packages\\IPython\\core\\interactiveshell.py:282\u001B[0m, in \u001B[0;36m_modified_open\u001B[1;34m(file, *args, **kwargs)\u001B[0m\n\u001B[0;32m    275\u001B[0m \u001B[38;5;28;01mif\u001B[39;00m file \u001B[38;5;129;01min\u001B[39;00m {\u001B[38;5;241m0\u001B[39m, \u001B[38;5;241m1\u001B[39m, \u001B[38;5;241m2\u001B[39m}:\n\u001B[0;32m    276\u001B[0m     \u001B[38;5;28;01mraise\u001B[39;00m \u001B[38;5;167;01mValueError\u001B[39;00m(\n\u001B[0;32m    277\u001B[0m         \u001B[38;5;124mf\u001B[39m\u001B[38;5;124m\"\u001B[39m\u001B[38;5;124mIPython won\u001B[39m\u001B[38;5;124m'\u001B[39m\u001B[38;5;124mt let you open fd=\u001B[39m\u001B[38;5;132;01m{\u001B[39;00mfile\u001B[38;5;132;01m}\u001B[39;00m\u001B[38;5;124m by default \u001B[39m\u001B[38;5;124m\"\u001B[39m\n\u001B[0;32m    278\u001B[0m         \u001B[38;5;124m\"\u001B[39m\u001B[38;5;124mas it is likely to crash IPython. If you know what you are doing, \u001B[39m\u001B[38;5;124m\"\u001B[39m\n\u001B[0;32m    279\u001B[0m         \u001B[38;5;124m\"\u001B[39m\u001B[38;5;124myou can use builtins\u001B[39m\u001B[38;5;124m'\u001B[39m\u001B[38;5;124m open.\u001B[39m\u001B[38;5;124m\"\u001B[39m\n\u001B[0;32m    280\u001B[0m     )\n\u001B[1;32m--> 282\u001B[0m \u001B[38;5;28;01mreturn\u001B[39;00m io_open(file, \u001B[38;5;241m*\u001B[39margs, \u001B[38;5;241m*\u001B[39m\u001B[38;5;241m*\u001B[39mkwargs)\n",
      "\u001B[1;31mFileNotFoundError\u001B[0m: [Errno 2] No such file or directory: 'C:\\\\Users\\\\Owner\\\\Desktop\\\\2095736w\\\\experiments\\\\sned_vs_96\\\\out\\\\layouts.pickle'"
     ]
    }
   ],
   "source": [
    "\n",
    "#\n",
    "# path_to_pickle = (Path(output_dir).joinpath(Path(f\"layouts.pickle\"))).resolve()\n",
    "# with open(path_to_pickle, 'rb') as file:\n",
    "#     layouts = pickle.load(file)\n",
    "# print(layouts)\n",
    "\n",
    "\n",
    "# for name, dict in layouts.items():\n",
    "#     print(name)\n",
    "#     for type, ls in dict.items():\n",
    "#         print(type)\n",
    "#         for l in ls:\n",
    "#             show_layout(l, use_labels=True)"
   ],
   "metadata": {
    "collapsed": false
   }
  },
  {
   "cell_type": "code",
   "execution_count": null,
   "outputs": [],
   "source": [],
   "metadata": {
    "collapsed": false
   }
  },
  {
   "cell_type": "code",
   "execution_count": 1,
   "outputs": [
    {
     "ename": "NameError",
     "evalue": "name 'layouts' is not defined",
     "output_type": "error",
     "traceback": [
      "\u001B[1;31m---------------------------------------------------------------------------\u001B[0m",
      "\u001B[1;31mNameError\u001B[0m                                 Traceback (most recent call last)",
      "Cell \u001B[1;32mIn[1], line 1\u001B[0m\n\u001B[1;32m----> 1\u001B[0m \u001B[38;5;28;01mfor\u001B[39;00m name, \u001B[38;5;28mdict\u001B[39m \u001B[38;5;129;01min\u001B[39;00m \u001B[43mlayouts\u001B[49m\u001B[38;5;241m.\u001B[39mitems():\n\u001B[0;32m      2\u001B[0m     \u001B[38;5;28mprint\u001B[39m(name)\n\u001B[0;32m      3\u001B[0m     \u001B[38;5;28;01mfor\u001B[39;00m \u001B[38;5;28mtype\u001B[39m, ls \u001B[38;5;129;01min\u001B[39;00m \u001B[38;5;28mdict\u001B[39m\u001B[38;5;241m.\u001B[39mitems():\n",
      "\u001B[1;31mNameError\u001B[0m: name 'layouts' is not defined"
     ]
    }
   ],
   "source": [
    "# for name, dict in layouts.items():\n",
    "#     print(name)\n",
    "#     for type, ls in dict.items():\n",
    "#         print(type)\n",
    "#         for l in ls:\n",
    "#             print(l.iteration_number)"
   ],
   "metadata": {
    "collapsed": false
   }
  },
  {
   "cell_type": "code",
   "execution_count": null,
   "outputs": [
    {
     "name": "stdout",
     "output_type": "stream",
     "text": [
      "coli20\n",
      "Layout: 0\n"
     ]
    }
   ],
   "source": [
    "dataset_names = [ 'coli20', 'globe', 'fashion mnist', 'mnist']\n",
    "output_dir= (Path(PROJECT_ROOT).joinpath(\n",
    "    Path(f\"experiments/sned_vs_96/out/\"))).resolve().absolute()\n",
    "\n",
    "for dataset_name in dataset_names:\n",
    "    path_to_pickle = (Path(output_dir).joinpath(Path(f\"layouts_{dataset_name}.pickle\"))).resolve()\n",
    "    with open(path_to_pickle, 'rb') as file:\n",
    "        layouts = pickle.load(file)\n",
    "\n",
    "    results_arr = np.zeros((2,15,4))\n",
    "    print(dataset_name)\n",
    "    for j, version in enumerate([\"squad\", \"96\"]):\n",
    "        for i,layout in enumerate(layouts[version]):\n",
    "            print(f\"Layout: {i}\")\n",
    "            stress = layout.get_final_stress()\n",
    "            kmeans_f1 = get_kmeans_f1(layout.get_final_positions(), layout.labels)\n",
    "            k, f1_for_best_k_with_knn =  get_f1_for_best_k_with_knn(lower_bound=1, upper_bound=30,\n",
    "                                                                cross_validation_folds=10,\n",
    "                                                                 data=layout.data,\n",
    "                                                                 labels=layout.labels)\n",
    "\n",
    "            results_arr[j,i,0] = stress\n",
    "            results_arr[j,i,1] = kmeans_f1\n",
    "            results_arr[j,i,2],results_arr[j,i,3] =k,  f1_for_best_k_with_knn\n",
    "\n",
    "    print(results_arr)\n",
    "    output_dir= (Path(PROJECT_ROOT).joinpath(\n",
    "        Path(f\"experiments/sned_vs_96/out/\"))).resolve().absolute()\n",
    "\n",
    "    path_to_pickle_arr = (Path(output_dir).joinpath(Path(f\"results_arr_{dataset_name}.pickle\"))).resolve()\n",
    "    with open(path_to_pickle_arr, 'wb') as pickle_out:\n",
    "        pickle.dump(results_arr, pickle_out)"
   ],
   "metadata": {
    "collapsed": false,
    "pycharm": {
     "is_executing": true
    }
   }
  }
 ],
 "metadata": {
  "kernelspec": {
   "display_name": "Python 3",
   "language": "python",
   "name": "python3"
  },
  "language_info": {
   "codemirror_mode": {
    "name": "ipython",
    "version": 2
   },
   "file_extension": ".py",
   "mimetype": "text/x-python",
   "name": "python",
   "nbconvert_exporter": "python",
   "pygments_lexer": "ipython2",
   "version": "2.7.6"
  }
 },
 "nbformat": 4,
 "nbformat_minor": 0
}
