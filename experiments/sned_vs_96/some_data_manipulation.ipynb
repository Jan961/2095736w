{
 "cells": [
  {
   "cell_type": "code",
   "execution_count": 2,
   "metadata": {
    "collapsed": true
   },
   "outputs": [],
   "source": [
    "import numpy as np\n",
    "from hdimvis.algorithms.spring_force_algos.chalmers96_algo.Chalmers96 import Chalmers96\n",
    "from hdimvis.visualise_layouts_and_metrics.plot import show_layout,show_generation_metrics\n",
    "from hdimvis.algorithms.stochastic_ntet_algo.SNeD import SNeD\n",
    "from hdimvis.create_low_d_layout.LayoutCreation import LayoutCreation\n",
    "from hdimvis.data_fetchers.DataFetcher import DataFetcher\n",
    "from sklearn.neighbors import KNeighborsClassifier\n",
    "from sklearn.model_selection import KFold\n",
    "from experiments.utils.get_avg_classwise_f1 import get_avg_classwise_f1\n",
    "from hdimvis.metrics.stress.stress import unvectorised_stress\n",
    "from hdimvis.metrics.distance_measures.euclidian_and_manhattan import euclidean\n",
    "from experiments.utils.get_kmeans_f1 import get_kmeans_f1\n",
    "from experiments.utils.get_f1_for_best_k_with_knn import get_f1_for_best_k_with_knn\n",
    "\n",
    "from sklearn.cluster import KMeans\n",
    "from sklearn.decomposition import PCA\n",
    "from sklearn.metrics import f1_score\n",
    "from pathlib import Path\n",
    "from definitions import PROJECT_ROOT\n",
    "import pickle\n",
    "from scipy import stats\n",
    "\n"
   ]
  },
  {
   "cell_type": "code",
   "execution_count": null,
   "outputs": [],
   "source": [
    "output_dir= (Path(PROJECT_ROOT).joinpath(\n",
    "    Path(f\"experiments/sned_vs_96/out/\"))).resolve().absolute()\n",
    "\n",
    "\n",
    "\n",
    "dataset_name = 'fashion mnist'\n",
    "path_to_pickle = (Path(output_dir).joinpath(Path(f\"layouts_{dataset_name}.pickle\"))).resolve()\n",
    "with open(path_to_pickle, 'rb') as file:\n",
    "    layouts = pickle.load(file)\n",
    "\n",
    "# for type, layouts in layouts.items():\n",
    "#     print(type)\n",
    "#     print(len(layouts))\n",
    "#     for l in layouts:\n",
    "#         show_layout(l, use_labels=True, title=f\"{type.capitalize()} - Fashion MNIST\")\n",
    "\n"
   ],
   "metadata": {
    "collapsed": false
   }
  },
  {
   "cell_type": "code",
   "execution_count": null,
   "outputs": [],
   "source": [],
   "metadata": {
    "collapsed": false
   }
  },
  {
   "cell_type": "code",
   "execution_count": 1,
   "outputs": [
    {
     "ename": "NameError",
     "evalue": "name 'layouts' is not defined",
     "output_type": "error",
     "traceback": [
      "\u001B[1;31m---------------------------------------------------------------------------\u001B[0m",
      "\u001B[1;31mNameError\u001B[0m                                 Traceback (most recent call last)",
      "Cell \u001B[1;32mIn[1], line 1\u001B[0m\n\u001B[1;32m----> 1\u001B[0m \u001B[38;5;28;01mfor\u001B[39;00m name, \u001B[38;5;28mdict\u001B[39m \u001B[38;5;129;01min\u001B[39;00m \u001B[43mlayouts\u001B[49m\u001B[38;5;241m.\u001B[39mitems():\n\u001B[0;32m      2\u001B[0m     \u001B[38;5;28mprint\u001B[39m(name)\n\u001B[0;32m      3\u001B[0m     \u001B[38;5;28;01mfor\u001B[39;00m \u001B[38;5;28mtype\u001B[39m, ls \u001B[38;5;129;01min\u001B[39;00m \u001B[38;5;28mdict\u001B[39m\u001B[38;5;241m.\u001B[39mitems():\n",
      "\u001B[1;31mNameError\u001B[0m: name 'layouts' is not defined"
     ]
    }
   ],
   "source": [
    "# for name, dict in layouts.items():\n",
    "#     print(name)\n",
    "#     for type, ls in dict.items():\n",
    "#         print(type)\n",
    "#         for l in ls:\n",
    "#             print(l.iteration_number)"
   ],
   "metadata": {
    "collapsed": false
   }
  },
  {
   "cell_type": "code",
   "execution_count": null,
   "outputs": [
    {
     "name": "stdout",
     "output_type": "stream",
     "text": [
      "fashion mnist\n",
      "Layout: 0\n"
     ]
    }
   ],
   "source": [
    "dataset_names = [ 'fashion mnist', 'mnist']\n",
    "# 'coli20', 'globe', 'fashion mnist', 'mnist']\n",
    "output_dir= (Path(PROJECT_ROOT).joinpath(\n",
    "    Path(f\"experiments/sned_vs_96/out/\"))).resolve().absolute()\n",
    "\n",
    "for dataset_name in dataset_names:\n",
    "    path_to_pickle = (Path(output_dir).joinpath(Path(f\"layouts_{dataset_name}.pickle\"))).resolve()\n",
    "    with open(path_to_pickle, 'rb') as file:\n",
    "        layouts = pickle.load(file)\n",
    "\n",
    "    results_arr = np.zeros((2,15,4))\n",
    "    print(dataset_name)\n",
    "    for j, version in enumerate([\"squad\", \"96\"]):\n",
    "        for i,layout in enumerate(layouts[version]):\n",
    "            print(f\"Layout: {i}\")\n",
    "            stress = unvectorised_stress(layout.data,layout.get_final_positions(), euclidean)\n",
    "            kmeans_f1 = get_kmeans_f1(layout.get_final_positions(), layout.labels)\n",
    "            k, f1_for_best_k_with_knn =  get_f1_for_best_k_with_knn(lower_bound=1, upper_bound=30,\n",
    "                                                                cross_validation_folds=10,\n",
    "                                                                 data=layout.data,\n",
    "                                                                 labels=layout.labels)\n",
    "\n",
    "            results_arr[j,i,0] = stress\n",
    "            results_arr[j,i,1] = kmeans_f1\n",
    "            results_arr[j,i,2],results_arr[j,i,3] =k,  f1_for_best_k_with_knn\n",
    "\n",
    "    print(results_arr)\n",
    "    output_dir= (Path(PROJECT_ROOT).joinpath(\n",
    "        Path(f\"experiments/sned_vs_96/out/\"))).resolve().absolute()\n",
    "\n",
    "    path_to_pickle_arr = (Path(output_dir).joinpath(Path(f\"results_arr_{dataset_name}.pickle\"))).resolve()\n",
    "    with open(path_to_pickle_arr, 'wb') as pickle_out:\n",
    "        pickle.dump(results_arr, pickle_out)"
   ],
   "metadata": {
    "collapsed": false,
    "pycharm": {
     "is_executing": true
    }
   }
  },
  {
   "cell_type": "code",
   "execution_count": null,
   "outputs": [],
   "source": [
    "from hdimvis.data_fetchers.DataFetcher import DataFetcher\n",
    "from hdimvis.metrics.distance_measures.euclidian_and_manhattan import manhattan,euclidean\n",
    "from hdimvis.algorithms.spring_force_algos.chalmers96_algo.Chalmers96 import Chalmers96\n",
    "from hdimvis.create_low_d_layout.LayoutCreation import LayoutCreation\n",
    "from hdimvis.visualise_layouts_and_metrics.plot import show_layout, show_generation_metrics\n",
    "from sklearn.decomposition import PCA\n",
    "from time import perf_counter\n",
    "import numpy as np\n",
    "from pathlib import Path\n",
    "from definitions import PROJECT_ROOT\n",
    "import pickle\n",
    "\n",
    "rna = DataFetcher.fetch_data('rna N3k')\n",
    "datasets = [rna]\n",
    "dataset_names = ['rna N3k']\n",
    "# datasets =[globe]\n",
    "# dataset_names = ['globe']\n",
    "max = 18\n",
    "num_repeats = 3\n",
    "results = {dataset_name: (np.zeros((max, max, num_repeats)),\n",
    "                          [[[None for k in range(num_repeats)] for j in range(max)] for i in range(max)])\n",
    "           for dataset_name in dataset_names}\n",
    "\n",
    "for i, dataset in enumerate(datasets):\n",
    "    n_neigh = 1\n",
    "    n_sample = 1\n",
    "    while n_neigh <= max:\n",
    "        while n_sample <= max:\n",
    "            print(f\" n sample: {n_sample}\")\n",
    "            print(f\" n_neigh {n_neigh}\")\n",
    "\n",
    "            for j in range(num_repeats):\n",
    "                print(f\" n sample -1: {n_sample - 1}\")\n",
    "                print(f\" n_neigh -1  {n_neigh - 1}\")\n",
    "                algo96 = Chalmers96(dataset=dataset, distance_fn=euclidean,\n",
    "                                    damping_constant=0, spring_constant=0.5,\n",
    "                                    use_knnd=False, sample_set_size=n_neigh, neighbour_set_size=n_sample)\n",
    "                start = perf_counter()\n",
    "                layout = LayoutCreation.create_layout(algo96, no_iters=100)\n",
    "                results[dataset_names[i]][0][n_neigh - 1, n_sample - 1, j] = perf_counter() - start\n",
    "                results[dataset_names[i]][1][n_neigh - 1][n_sample - 1][j] = layout\n",
    "            n_sample += 1\n",
    "        n_sample = 1\n",
    "        n_neigh += 1\n",
    "\n",
    "output_dir = (Path(PROJECT_ROOT).joinpath(\n",
    "    Path(f\"experiments/varing_V_and_S/out/\"))).resolve().absolute()\n",
    "\n",
    "path_to_pickle = (Path(output_dir).joinpath(Path(f\"results_v_and_s_rna.pickle\"))).resolve()\n",
    "with open(path_to_pickle, 'wb') as pickle_out:\n",
    "    pickle.dump(results, pickle_out)"
   ],
   "metadata": {
    "collapsed": false,
    "pycharm": {
     "is_executing": true
    }
   }
  },
  {
   "cell_type": "code",
   "execution_count": 33,
   "outputs": [
    {
     "name": "stdout",
     "output_type": "stream",
     "text": [
      "####################\n",
      "Metric : stress\n",
      "####################\n",
      "Squad mean : 0.95 (SD 0.0)\n",
      "96 mean : 0.13 (SD 0.0)\n",
      "test: 4.25e-92\n",
      "####################\n",
      "Metric : kmeans\n",
      "####################\n",
      "Squad mean : 0.81 (SD 0.0)\n",
      "96 mean : 0.8 (SD 0.0)\n",
      "test: 1.35e-15\n",
      "Squad mean k: 1.0\n",
      "96 mean k: 1.0\n",
      "####################\n",
      "Metric : knn\n",
      "####################\n",
      "Squad mean : 0.95 (SD 0.0)\n",
      "96 mean : 0.95 (SD 0.0)\n",
      "test: 1.00e+00\n"
     ]
    },
    {
     "name": "stderr",
     "output_type": "stream",
     "text": [
      "C:\\Users\\Owner\\AppData\\Local\\Temp\\ipykernel_16656\\2294454207.py:23: RuntimeWarning: Precision loss occurred in moment calculation due to catastrophic cancellation. This occurs when the data are nearly identical. Results may be unreliable.\n",
      "  tstat, pvalue = stats.ttest_ind(results_arr[0,:,j].round(decimals=4), results_arr[1,:,j].round(decimals=4), equal_var=False, alternative='two-sided')\n"
     ]
    }
   ],
   "source": [
    "dataset_name = 'globe'\n",
    "output_dir= (Path(PROJECT_ROOT).joinpath(\n",
    "    Path(f\"experiments/sned_vs_96/out/\"))).resolve().absolute()\n",
    "path_to_pickle = (Path(output_dir).joinpath(Path(f\"results_arr_{dataset_name}.pickle\"))).resolve()\n",
    "with open(path_to_pickle, 'rb') as file:\n",
    "    results_arr = pickle.load(file)\n",
    "\n",
    "\n",
    "for j,metric in enumerate([\"stress\", \"kmeans\", \"k\", \"knn\"]):\n",
    "\n",
    "        if j != 2:\n",
    "            mean_squad = np.mean(results_arr[0,:,j])\n",
    "            sd_squad = np.std(results_arr[0,:,j])\n",
    "\n",
    "            mean_96 = np.mean(results_arr[1,:,j])\n",
    "            sd_96 = np.std(results_arr[1,:,j])\n",
    "\n",
    "            if j != 3:\n",
    "                tstat, pvalue = stats.ttest_ind(results_arr[0,:,j].round(decimals=4), results_arr[1,:,j].round(decimals=4), equal_var=False, alternative='greater')\n",
    "                result = np.format_float_scientific(pvalue, precision=2,min_digits=2)\n",
    "\n",
    "            else:\n",
    "                tstat, pvalue = stats.ttest_ind(results_arr[0,:,j].round(decimals=4), results_arr[1,:,j].round(decimals=4), equal_var=False, alternative='two-sided')\n",
    "                result = np.format_float_scientific(pvalue, precision=2,min_digits=2)\n",
    "            print(20*\"#\")\n",
    "            print(f\"Metric : {metric}\")\n",
    "            print(20*\"#\")\n",
    "\n",
    "\n",
    "            print(f\"Squad mean : {mean_squad.round(decimals=2)} (SD {sd_squad.round(decimals=2)})\")\n",
    "            print(f\"96 mean : {mean_96.round(decimals=2)} (SD {sd_96.round(decimals=2)})\")\n",
    "            print(f\"test: {result}\")\n",
    "        else:\n",
    "            print(f\"Squad mean k: {np.mean(results_arr[0,:,j])}\")\n",
    "            print(f\"96 mean k: {np.mean(results_arr[1,:,j])}\")\n",
    "\n",
    "\n"
   ],
   "metadata": {
    "collapsed": false
   }
  },
  {
   "cell_type": "code",
   "execution_count": null,
   "outputs": [],
   "source": [],
   "metadata": {
    "collapsed": false
   }
  }
 ],
 "metadata": {
  "kernelspec": {
   "display_name": "Python 3",
   "language": "python",
   "name": "python3"
  },
  "language_info": {
   "codemirror_mode": {
    "name": "ipython",
    "version": 2
   },
   "file_extension": ".py",
   "mimetype": "text/x-python",
   "name": "python",
   "nbconvert_exporter": "python",
   "pygments_lexer": "ipython2",
   "version": "2.7.6"
  }
 },
 "nbformat": 4,
 "nbformat_minor": 0
}
