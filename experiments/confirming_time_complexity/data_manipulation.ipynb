{
 "cells": [
  {
   "cell_type": "code",
   "execution_count": null,
   "metadata": {
    "collapsed": true
   },
   "outputs": [],
   "source": [
    "from hdimvis.data_fetchers.DataFetcher import DataFetcher\n",
    "from hdimvis.metrics.distance_measures.euclidian_and_manhattan import manhattan,euclidean\n",
    "from hdimvis.algorithms.spring_force_algos.chalmers96_algo.Chalmers96 import Chalmers96\n",
    "from hdimvis.create_low_d_layout.LayoutCreation import LayoutCreation\n",
    "from hdimvis.visualise_layouts_and_metrics.plot import show_layout, show_generation_metrics\n",
    "from sklearn.decomposition import PCA\n",
    "from time import perf_counter\n",
    "import numpy as np\n",
    "from pathlib import Path\n",
    "from definitions import PROJECT_ROOT\n",
    "import pickle"
   ]
  },
  {
   "cell_type": "code",
   "execution_count": null,
   "outputs": [],
   "source": [
    "output_dir= (Path(PROJECT_ROOT).joinpath(\n",
    "    Path(f\"experiments/sned_vs_96/out/\"))).resolve().absolute()\n",
    "\n",
    "path_to_pickle = (Path(output_dir).joinpath(Path(f\"layouts.pickle\"))).resolve()\n",
    "with open(path_to_pickle, 'rb') as file:\n",
    "    layouts = pickle.load(file)"
   ],
   "metadata": {
    "collapsed": false
   }
  }
 ],
 "metadata": {
  "kernelspec": {
   "display_name": "Python 3",
   "language": "python",
   "name": "python3"
  },
  "language_info": {
   "codemirror_mode": {
    "name": "ipython",
    "version": 2
   },
   "file_extension": ".py",
   "mimetype": "text/x-python",
   "name": "python",
   "nbconvert_exporter": "python",
   "pygments_lexer": "ipython2",
   "version": "2.7.6"
  }
 },
 "nbformat": 4,
 "nbformat_minor": 0
}
