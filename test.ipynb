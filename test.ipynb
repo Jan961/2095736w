{
 "cells": [
  {
   "cell_type": "code",
   "execution_count": 1,
   "metadata": {},
   "outputs": [
    {
     "ename": "ModuleNotFoundError",
     "evalue": "No module named 'hdimvis'",
     "output_type": "error",
     "traceback": [
      "\u001B[1;31m---------------------------------------------------------------------------\u001B[0m",
      "\u001B[1;31mModuleNotFoundError\u001B[0m                       Traceback (most recent call last)",
      "Cell \u001B[1;32mIn [1], line 1\u001B[0m\n\u001B[1;32m----> 1\u001B[0m \u001B[38;5;28;01mfrom\u001B[39;00m \u001B[38;5;21;01mBasicComparison\u001B[39;00m \u001B[38;5;28;01mimport\u001B[39;00m BasicComparison\n\u001B[0;32m      2\u001B[0m \u001B[38;5;28;01mfrom\u001B[39;00m \u001B[38;5;21;01mhdimvis\u001B[39;00m\u001B[38;5;21;01m.\u001B[39;00m\u001B[38;5;21;01malgorithms\u001B[39;00m\u001B[38;5;21;01m.\u001B[39;00m\u001B[38;5;21;01mspring_force_algos\u001B[39;00m\u001B[38;5;21;01m.\u001B[39;00m\u001B[38;5;21;01mchalmers96_algo\u001B[39;00m\u001B[38;5;21;01m.\u001B[39;00m\u001B[38;5;21;01mChalmers96\u001B[39;00m \u001B[38;5;28;01mimport\u001B[39;00m Chalmers96\n\u001B[0;32m      5\u001B[0m algo1 \u001B[38;5;241m=\u001B[39m Chalmers96(\u001B[38;5;28;01mNone\u001B[39;00m, use_knnd\u001B[38;5;241m=\u001B[39m\u001B[38;5;28;01mTrue\u001B[39;00m)\n",
      "File \u001B[1;32m~\\Desktop\\2095736w\\experiments\\basic_comparison\\BasicComparison.py:5\u001B[0m\n\u001B[0;32m      1\u001B[0m \u001B[38;5;28;01mfrom\u001B[39;00m \u001B[38;5;21;01mtyping\u001B[39;00m \u001B[38;5;28;01mimport\u001B[39;00m Dict, List\n\u001B[0;32m      3\u001B[0m \u001B[38;5;28;01mimport\u001B[39;00m \u001B[38;5;21;01mnumpy\u001B[39;00m \u001B[38;5;28;01mas\u001B[39;00m \u001B[38;5;21;01mnp\u001B[39;00m\n\u001B[1;32m----> 5\u001B[0m \u001B[38;5;28;01mfrom\u001B[39;00m \u001B[38;5;21;01mhdimvis\u001B[39;00m\u001B[38;5;21;01m.\u001B[39;00m\u001B[38;5;21;01mcreate_low_d_layout\u001B[39;00m\u001B[38;5;21;01m.\u001B[39;00m\u001B[38;5;21;01mLowDLayoutCreation\u001B[39;00m \u001B[38;5;28;01mimport\u001B[39;00m LowDLayoutCreation\n\u001B[0;32m      6\u001B[0m \u001B[38;5;28;01mfrom\u001B[39;00m \u001B[38;5;21;01mhdimvis\u001B[39;00m\u001B[38;5;21;01m.\u001B[39;00m\u001B[38;5;21;01mdata_fetchers\u001B[39;00m\u001B[38;5;21;01m.\u001B[39;00m\u001B[38;5;21;01mDataFetcher\u001B[39;00m \u001B[38;5;28;01mimport\u001B[39;00m DataFetcher\n\u001B[0;32m      7\u001B[0m \u001B[38;5;28;01mfrom\u001B[39;00m \u001B[38;5;21;01mhdimvis\u001B[39;00m\u001B[38;5;21;01m.\u001B[39;00m\u001B[38;5;21;01malgorithms\u001B[39;00m\u001B[38;5;21;01m.\u001B[39;00m\u001B[38;5;21;01mBaseAlgorithm\u001B[39;00m \u001B[38;5;28;01mimport\u001B[39;00m BaseAlgorithm\n",
      "\u001B[1;31mModuleNotFoundError\u001B[0m: No module named 'hdimvis'"
     ]
    }
   ],
   "source": [
    "from BasicComparison import BasicComparison\n",
    "from hdimvis.algorithms.spring_force_algos.chalmers96_algo.Chalmers96 import Chalmers96\n",
    "\n",
    "\n",
    "algo1 = Chalmers96(None, use_knnd=True)\n",
    "algo2 = Chalmers96(None, use_knnd=False)\n",
    "\n",
    "datasets = ['mock data']\n",
    "    # , 'rna N3k', 'airfoil']\n",
    "\n",
    "algos = {algo2: 'no knnd'}\n",
    "metric_collection = { \"Average Speed\": 3}\n",
    "\n",
    "experiment = BasicComparison(algos, experiment_name='test experiment', metric_collection=metric_collection,\n",
    "                             dataset_names=datasets, num_repeats=1, iterations=1)\n",
    "\n"
   ]
  },
  {
   "cell_type": "code",
   "execution_count": null,
   "metadata": {},
   "outputs": [],
   "source": [
    "experiment.run()\n",
    "path = experiment.create_output_directory()\n",
    "experiment.save(path)\n",
    "print(path)"
   ]
  },
  {
   "cell_type": "code",
   "execution_count": 3,
   "metadata": {},
   "outputs": [
    {
     "name": "stdout",
     "output_type": "stream",
     "text": [
      "True\n"
     ]
    }
   ],
   "source": [
    "from hdimvis.algorithms.spring_force_algos.SpringForceBase import SpringForceBase\n",
    "print(isinstance(algo1, SpringForceBase))"
   ]
  },
  {
   "cell_type": "code",
   "execution_count": 9,
   "outputs": [
    {
     "name": "stdout",
     "output_type": "stream",
     "text": [
      "0\n",
      "  (0, 0)\t3\n",
      "  (0, 2)\t1\n",
      "[0 2]\n",
      "1\n",
      "  (0, 1)\t2\n",
      "[1]\n",
      "2\n",
      "\n",
      "[]\n",
      "3\n",
      "  (0, 3)\t1\n",
      "[3]\n"
     ]
    }
   ],
   "source": [
    "from numpy import array\n",
    "from scipy.sparse import coo_matrix\n",
    "row  = array([0, 0, 1, 3, 1, 0, 0])\n",
    "col  = array([0, 2, 1, 3, 1, 0, 0])\n",
    "data = array([1, 1, 1, 1, 1, 1, 1])\n",
    "A = coo_matrix((data, (row, col)), shape=(4, 4))\n",
    "B = A.tocsr()\n",
    "# print(B)\n",
    "\n",
    "for i, row in enumerate(B):\n",
    "    print(i)\n",
    "    print(row)\n",
    "    print(row.indices)\n"
   ],
   "metadata": {
    "collapsed": false
   }
  }
 ],
 "metadata": {
  "kernelspec": {
   "display_name": "Python 3 (ipykernel)",
   "language": "python",
   "name": "python3"
  },
  "language_info": {
   "codemirror_mode": {
    "name": "ipython",
    "version": 3
   },
   "file_extension": ".py",
   "mimetype": "text/x-python",
   "name": "python",
   "nbconvert_exporter": "python",
   "pygments_lexer": "ipython3",
   "version": "3.11.0"
  }
 },
 "nbformat": 4,
 "nbformat_minor": 1
}
