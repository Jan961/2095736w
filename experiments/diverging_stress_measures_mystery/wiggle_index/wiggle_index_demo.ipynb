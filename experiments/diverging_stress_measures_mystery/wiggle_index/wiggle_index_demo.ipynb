{
 "cells": [
  {
   "cell_type": "code",
   "execution_count": 1,
   "metadata": {},
   "outputs": [],
   "source": [
    "import ipywidgets\n",
    "import numpy as np\n",
    "from wiggle_index import wiggle_index_vector_pair\n",
    "import matplotlib.pyplot as plt"
   ]
  },
  {
   "cell_type": "code",
   "execution_count": 4,
   "metadata": {},
   "outputs": [],
   "source": [
    "\n",
    "def plot_arrows(angle1: float = 1/3, angle2: float = 5/3, length1: float = 1.0, length2: float = 1.0):\n",
    "    fig, ax = plt.subplots()\n",
    "    x1 = length1 * np.cos(angle1 * np.pi)\n",
    "    y1 = length1 * np.sin(angle1 * np.pi)\n",
    "\n",
    "    x2 = length2 * np.cos(angle2 * np.pi)\n",
    "    y2 = length2 * np.sin(angle2 * np.pi)\n",
    "\n",
    "    arr1 = np.array([x1,y1])\n",
    "    arr2 = np.array([x2,y2])\n",
    "\n",
    "    w_index =  wiggle_index_vector_pair(arr1,arr2, cutoff=0.1)\n",
    "\n",
    "    ax.set_xlim([-11, 11])\n",
    "    ax.set_ylim([-11, 11])\n",
    "    plt.plot(0, 0, marker=\"o\", markersize=5, markerfacecolor=\"red\")\n",
    "    ax.arrow(0, 0, x1, y1, length_includes_head=True, head_width=1, head_length=1)\n",
    "    ax.arrow(0, 0, x2, y2, length_includes_head=True, head_width=1, head_length=1)\n",
    "\n",
    "\n",
    "    plt.title(f\"Wiggle index = {w_index:.3f}\")\n",
    "    plt.show()"
   ]
  },
  {
   "cell_type": "code",
   "execution_count": 3,
   "metadata": {},
   "outputs": [
    {
     "data": {
      "application/vnd.jupyter.widget-view+json": {
       "model_id": "3b1f65d74d1144eab0d3789b0ceae55b",
       "version_major": 2,
       "version_minor": 0
      },
      "text/plain": [
       "interactive(children=(FloatSlider(value=0.3333333333333333, description='angle1', max=2.0, step=0.25), FloatSl…"
      ]
     },
     "metadata": {},
     "output_type": "display_data"
    },
    {
     "data": {
      "text/plain": [
       "<function __main__.plot_arrows(angle1: float = 0.3333333333333333, angle2: float = 1.6666666666666667, length1: float = 1.0, length2: float = 1.0)>"
      ]
     },
     "execution_count": 3,
     "metadata": {},
     "output_type": "execute_result"
    }
   ],
   "source": [
    "ipywidgets.interact(plot_arrows, angle1 = (0,2,0.1), angle2 = (0,2,0.1), length1 = (1,10,0.3), length2 = (1,10,0.3))"
   ]
  },
  {
   "cell_type": "code",
   "execution_count": 9,
   "metadata": {},
   "outputs": [
    {
     "data": {
      "text/plain": "<Figure size 640x480 with 1 Axes>",
      "image/png": "[encoded data removed]"
     },
     "metadata": {},
     "output_type": "display_data"
    }
   ],
   "source": [
    "# in case ipywidgets doesn't work\n",
    "\n",
    "plot_arrows(0.6, 0.5, 1, 1)"
   ]
  },
  {
   "cell_type": "code",
   "execution_count": null,
   "outputs": [],
   "source": [
    "# plots for dissertation :\n",
    "\n",
    "    fig, ax = plt.subplots()\n",
    "    x1 = length1 * np.cos(angle1 * np.pi)\n",
    "    y1 = length1 * np.sin(angle1 * np.pi)\n",
    "\n",
    "    x2 = length2 * np.cos(angle2 * np.pi)\n",
    "    y2 = length2 * np.sin(angle2 * np.pi)\n",
    "\n",
    "    arr1 = np.array([x1,y1])\n",
    "    arr2 = np.array([x2,y2])\n",
    "\n",
    "    w_index =  wiggle_index_vector_pair(arr1,arr2)\n",
    "\n",
    "    ax.set_xlim([-11, 11])\n",
    "    ax.set_ylim([-11, 11])\n",
    "    plt.plot(0, 0, marker=\"o\", markersize=5, markerfacecolor=\"red\")\n",
    "    ax.arrow(0, 0, x1, y1, length_includes_head=True, head_width=1, head_length=1)\n",
    "    ax.arrow(0, 0, x2, y2, length_includes_head=True, head_width=1, head_length=1)\n",
    "\n",
    "\n",
    "    plt.title(f\"Wiggle index = {w_index:.3f}\")\n",
    "    plt.show()"
   ],
   "metadata": {
    "collapsed": false
   }
  }
 ],
 "metadata": {
  "kernelspec": {
   "display_name": "Python 3 (ipykernel)",
   "language": "python",
   "name": "python3"
  },
  "language_info": {
   "codemirror_mode": {
    "name": "ipython",
    "version": 3
   },
   "file_extension": ".py",
   "mimetype": "text/x-python",
   "name": "python",
   "nbconvert_exporter": "python",
   "pygments_lexer": "ipython3",
   "version": "3.11.0"
  }
 },
 "nbformat": 4,
 "nbformat_minor": 1
}
